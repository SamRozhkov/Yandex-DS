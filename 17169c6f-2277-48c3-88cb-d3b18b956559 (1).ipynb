{
 "cells": [
  {
   "cell_type": "markdown",
   "metadata": {
    "pycharm": {
     "name": "#%% md\n"
    }
   },
   "source": [
    "## Подготовка данных"
   ]
  },
  {
   "cell_type": "code",
   "execution_count": 74,
   "metadata": {
    "pycharm": {
     "name": "#%%\n"
    }
   },
   "outputs": [],
   "source": [
    "import pandas as pd\n",
    "import matplotlib.pyplot as plt\n",
    "import numpy as np\n",
    "\n",
    "from sklearn.model_selection import train_test_split\n",
    "\n",
    "from sklearn.preprocessing import OrdinalEncoder\n",
    "from sklearn.preprocessing import StandardScaler\n",
    "from sklearn.metrics import f1_score\n",
    "from sklearn.metrics import confusion_matrix\n",
    "from sklearn.metrics import roc_auc_score\n",
    "from sklearn.metrics import precision_score, recall_score\n",
    "from sklearn.utils import shuffle\n",
    "\n",
    "from sklearn.metrics import roc_curve\n",
    "\n",
    "from sklearn.ensemble import RandomForestClassifier\n",
    "from sklearn.tree import DecisionTreeClassifier\n",
    "\n",
    "from sklearn.metrics import accuracy_score\n",
    "from sklearn.metrics import mean_absolute_error"
   ]
  },
  {
   "cell_type": "markdown",
   "metadata": {
    "pycharm": {
     "name": "#%% md\n"
    }
   },
   "source": [
    "<div class=\"alert alert-block alert-success\">\n",
    "<b>Успех:</b> Импорты на месте\n",
    "  \n",
    "</div>"
   ]
  },
  {
   "cell_type": "code",
   "execution_count": 79,
   "metadata": {
    "pycharm": {
     "name": "#%%\n"
    }
   },
   "outputs": [],
   "source": [
    "data = pd.read_csv(\"Churn_Modelling.csv\")"
   ]
  },
  {
   "cell_type": "code",
   "execution_count": 80,
   "metadata": {
    "pycharm": {
     "name": "#%%\n"
    }
   },
   "outputs": [
    {
     "name": "stdout",
     "output_type": "stream",
     "text": [
      "<class 'pandas.core.frame.DataFrame'>\n",
      "RangeIndex: 10000 entries, 0 to 9999\n",
      "Data columns (total 14 columns):\n",
      " #   Column           Non-Null Count  Dtype  \n",
      "---  ------           --------------  -----  \n",
      " 0   RowNumber        10000 non-null  int64  \n",
      " 1   CustomerId       10000 non-null  int64  \n",
      " 2   Surname          10000 non-null  object \n",
      " 3   CreditScore      10000 non-null  int64  \n",
      " 4   Geography        10000 non-null  object \n",
      " 5   Gender           10000 non-null  object \n",
      " 6   Age              10000 non-null  int64  \n",
      " 7   Tenure           10000 non-null  int64  \n",
      " 8   Balance          10000 non-null  float64\n",
      " 9   NumOfProducts    10000 non-null  int64  \n",
      " 10  HasCrCard        10000 non-null  int64  \n",
      " 11  IsActiveMember   10000 non-null  int64  \n",
      " 12  EstimatedSalary  10000 non-null  float64\n",
      " 13  Exited           10000 non-null  int64  \n",
      "dtypes: float64(2), int64(9), object(3)\n",
      "memory usage: 1.1+ MB\n",
      "None\n"
     ]
    }
   ],
   "source": [
    "print(data.info())"
   ]
  },
  {
   "cell_type": "code",
   "execution_count": 81,
   "metadata": {
    "pycharm": {
     "name": "#%%\n"
    }
   },
   "outputs": [
    {
     "data": {
      "text/plain": "   RowNumber  CustomerId   Surname  CreditScore Geography  Gender  Age  \\\n0          1    15634602  Hargrave          619    France  Female   42   \n1          2    15647311      Hill          608     Spain  Female   41   \n2          3    15619304      Onio          502    France  Female   42   \n3          4    15701354      Boni          699    France  Female   39   \n4          5    15737888  Mitchell          850     Spain  Female   43   \n\n   Tenure    Balance  NumOfProducts  HasCrCard  IsActiveMember  \\\n0       2       0.00              1          1               1   \n1       1   83807.86              1          0               1   \n2       8  159660.80              3          1               0   \n3       1       0.00              2          0               0   \n4       2  125510.82              1          1               1   \n\n   EstimatedSalary  Exited  \n0        101348.88       1  \n1        112542.58       0  \n2        113931.57       1  \n3         93826.63       0  \n4         79084.10       0  ",
      "text/html": "<div>\n<style scoped>\n    .dataframe tbody tr th:only-of-type {\n        vertical-align: middle;\n    }\n\n    .dataframe tbody tr th {\n        vertical-align: top;\n    }\n\n    .dataframe thead th {\n        text-align: right;\n    }\n</style>\n<table border=\"1\" class=\"dataframe\">\n  <thead>\n    <tr style=\"text-align: right;\">\n      <th></th>\n      <th>RowNumber</th>\n      <th>CustomerId</th>\n      <th>Surname</th>\n      <th>CreditScore</th>\n      <th>Geography</th>\n      <th>Gender</th>\n      <th>Age</th>\n      <th>Tenure</th>\n      <th>Balance</th>\n      <th>NumOfProducts</th>\n      <th>HasCrCard</th>\n      <th>IsActiveMember</th>\n      <th>EstimatedSalary</th>\n      <th>Exited</th>\n    </tr>\n  </thead>\n  <tbody>\n    <tr>\n      <th>0</th>\n      <td>1</td>\n      <td>15634602</td>\n      <td>Hargrave</td>\n      <td>619</td>\n      <td>France</td>\n      <td>Female</td>\n      <td>42</td>\n      <td>2</td>\n      <td>0.00</td>\n      <td>1</td>\n      <td>1</td>\n      <td>1</td>\n      <td>101348.88</td>\n      <td>1</td>\n    </tr>\n    <tr>\n      <th>1</th>\n      <td>2</td>\n      <td>15647311</td>\n      <td>Hill</td>\n      <td>608</td>\n      <td>Spain</td>\n      <td>Female</td>\n      <td>41</td>\n      <td>1</td>\n      <td>83807.86</td>\n      <td>1</td>\n      <td>0</td>\n      <td>1</td>\n      <td>112542.58</td>\n      <td>0</td>\n    </tr>\n    <tr>\n      <th>2</th>\n      <td>3</td>\n      <td>15619304</td>\n      <td>Onio</td>\n      <td>502</td>\n      <td>France</td>\n      <td>Female</td>\n      <td>42</td>\n      <td>8</td>\n      <td>159660.80</td>\n      <td>3</td>\n      <td>1</td>\n      <td>0</td>\n      <td>113931.57</td>\n      <td>1</td>\n    </tr>\n    <tr>\n      <th>3</th>\n      <td>4</td>\n      <td>15701354</td>\n      <td>Boni</td>\n      <td>699</td>\n      <td>France</td>\n      <td>Female</td>\n      <td>39</td>\n      <td>1</td>\n      <td>0.00</td>\n      <td>2</td>\n      <td>0</td>\n      <td>0</td>\n      <td>93826.63</td>\n      <td>0</td>\n    </tr>\n    <tr>\n      <th>4</th>\n      <td>5</td>\n      <td>15737888</td>\n      <td>Mitchell</td>\n      <td>850</td>\n      <td>Spain</td>\n      <td>Female</td>\n      <td>43</td>\n      <td>2</td>\n      <td>125510.82</td>\n      <td>1</td>\n      <td>1</td>\n      <td>1</td>\n      <td>79084.10</td>\n      <td>0</td>\n    </tr>\n  </tbody>\n</table>\n</div>"
     },
     "execution_count": 81,
     "metadata": {},
     "output_type": "execute_result"
    }
   ],
   "source": [
    "data.head()"
   ]
  },
  {
   "cell_type": "code",
   "execution_count": 82,
   "metadata": {
    "pycharm": {
     "name": "#%%\n"
    }
   },
   "outputs": [],
   "source": [
    "#Поля RowNumber, CustomerId, Surname можно удалить, их можно не учитывать при обучении модели\n",
    "data = data.drop(['RowNumber', 'CustomerId', 'Surname'], axis=1)"
   ]
  },
  {
   "cell_type": "markdown",
   "metadata": {
    "pycharm": {
     "name": "#%% md\n"
    }
   },
   "source": [
    "<div class=\"alert alert-block alert-success\">\n",
    "<b>Успех:</b> Удалить неинформативные признаки - хорошее решение\n",
    "  \n",
    "</div>"
   ]
  },
  {
   "cell_type": "code",
   "execution_count": 83,
   "metadata": {
    "pycharm": {
     "name": "#%%\n"
    }
   },
   "outputs": [
    {
     "data": {
      "text/plain": "Male      5457\nFemale    4543\nName: Gender, dtype: int64"
     },
     "execution_count": 83,
     "metadata": {},
     "output_type": "execute_result"
    }
   ],
   "source": [
    "data['Gender'].value_counts()"
   ]
  },
  {
   "cell_type": "code",
   "execution_count": 84,
   "metadata": {
    "pycharm": {
     "name": "#%%\n"
    }
   },
   "outputs": [
    {
     "data": {
      "text/plain": "France     5014\nGermany    2509\nSpain      2477\nName: Geography, dtype: int64"
     },
     "execution_count": 84,
     "metadata": {},
     "output_type": "execute_result"
    }
   ],
   "source": [
    "data['Geography'].value_counts()"
   ]
  },
  {
   "cell_type": "code",
   "execution_count": 85,
   "metadata": {
    "pycharm": {
     "name": "#%%\n"
    }
   },
   "outputs": [],
   "source": [
    "features = data.drop(['Exited'], axis=1)\n",
    "target = data['Exited']"
   ]
  },
  {
   "cell_type": "markdown",
   "metadata": {
    "pycharm": {
     "name": "#%% md\n"
    }
   },
   "source": [
    "## Исследование задачи"
   ]
  },
  {
   "cell_type": "markdown",
   "metadata": {
    "pycharm": {
     "name": "#%% md\n"
    }
   },
   "source": [
    "### Признак Age категоральный преобразуем значение техникой OHE"
   ]
  },
  {
   "cell_type": "code",
   "execution_count": 86,
   "metadata": {
    "pycharm": {
     "name": "#%%\n"
    }
   },
   "outputs": [],
   "source": [
    "features['Male'] = pd.get_dummies(features['Gender'], drop_first=True)\n",
    "features = features.drop(['Gender'], axis=1)"
   ]
  },
  {
   "cell_type": "markdown",
   "metadata": {
    "pycharm": {
     "name": "#%% md\n"
    }
   },
   "source": [
    "### Признак Geography преобразуем техникой OrdinalEncoding"
   ]
  },
  {
   "cell_type": "code",
   "execution_count": 87,
   "metadata": {
    "pycharm": {
     "name": "#%%\n"
    }
   },
   "outputs": [],
   "source": [
    "encoder = OrdinalEncoder()\n",
    "geography = pd.DataFrame(encoder.fit_transform(features[['Geography']]),\n",
    "                            columns=['Geography'], dtype=int)"
   ]
  },
  {
   "cell_type": "code",
   "execution_count": 88,
   "metadata": {
    "pycharm": {
     "name": "#%%\n"
    }
   },
   "outputs": [],
   "source": [
    "features['Geography'] = geography"
   ]
  },
  {
   "cell_type": "code",
   "execution_count": 89,
   "metadata": {
    "pycharm": {
     "name": "#%%\n"
    }
   },
   "outputs": [
    {
     "data": {
      "text/plain": "   CreditScore  Geography  Age  Tenure    Balance  NumOfProducts  HasCrCard  \\\n0          619          0   42       2       0.00              1          1   \n1          608          2   41       1   83807.86              1          0   \n2          502          0   42       8  159660.80              3          1   \n3          699          0   39       1       0.00              2          0   \n4          850          2   43       2  125510.82              1          1   \n\n   IsActiveMember  EstimatedSalary  Male  \n0               1        101348.88     0  \n1               1        112542.58     0  \n2               0        113931.57     0  \n3               0         93826.63     0  \n4               1         79084.10     0  ",
      "text/html": "<div>\n<style scoped>\n    .dataframe tbody tr th:only-of-type {\n        vertical-align: middle;\n    }\n\n    .dataframe tbody tr th {\n        vertical-align: top;\n    }\n\n    .dataframe thead th {\n        text-align: right;\n    }\n</style>\n<table border=\"1\" class=\"dataframe\">\n  <thead>\n    <tr style=\"text-align: right;\">\n      <th></th>\n      <th>CreditScore</th>\n      <th>Geography</th>\n      <th>Age</th>\n      <th>Tenure</th>\n      <th>Balance</th>\n      <th>NumOfProducts</th>\n      <th>HasCrCard</th>\n      <th>IsActiveMember</th>\n      <th>EstimatedSalary</th>\n      <th>Male</th>\n    </tr>\n  </thead>\n  <tbody>\n    <tr>\n      <th>0</th>\n      <td>619</td>\n      <td>0</td>\n      <td>42</td>\n      <td>2</td>\n      <td>0.00</td>\n      <td>1</td>\n      <td>1</td>\n      <td>1</td>\n      <td>101348.88</td>\n      <td>0</td>\n    </tr>\n    <tr>\n      <th>1</th>\n      <td>608</td>\n      <td>2</td>\n      <td>41</td>\n      <td>1</td>\n      <td>83807.86</td>\n      <td>1</td>\n      <td>0</td>\n      <td>1</td>\n      <td>112542.58</td>\n      <td>0</td>\n    </tr>\n    <tr>\n      <th>2</th>\n      <td>502</td>\n      <td>0</td>\n      <td>42</td>\n      <td>8</td>\n      <td>159660.80</td>\n      <td>3</td>\n      <td>1</td>\n      <td>0</td>\n      <td>113931.57</td>\n      <td>0</td>\n    </tr>\n    <tr>\n      <th>3</th>\n      <td>699</td>\n      <td>0</td>\n      <td>39</td>\n      <td>1</td>\n      <td>0.00</td>\n      <td>2</td>\n      <td>0</td>\n      <td>0</td>\n      <td>93826.63</td>\n      <td>0</td>\n    </tr>\n    <tr>\n      <th>4</th>\n      <td>850</td>\n      <td>2</td>\n      <td>43</td>\n      <td>2</td>\n      <td>125510.82</td>\n      <td>1</td>\n      <td>1</td>\n      <td>1</td>\n      <td>79084.10</td>\n      <td>0</td>\n    </tr>\n  </tbody>\n</table>\n</div>"
     },
     "execution_count": 89,
     "metadata": {},
     "output_type": "execute_result"
    }
   ],
   "source": [
    "features.head()"
   ]
  },
  {
   "cell_type": "markdown",
   "metadata": {
    "pycharm": {
     "name": "#%% md\n"
    }
   },
   "source": [
    "### Масштабируем признаки (перенес в другой раздел)"
   ]
  },
  {
   "cell_type": "code",
   "execution_count": 90,
   "metadata": {
    "pycharm": {
     "name": "#%%\n"
    }
   },
   "outputs": [],
   "source": [
    "#features_train, features_valid, target_train, target_valid = train_test_split(\n",
    "#    data, \n",
    "#    target, \n",
    "#    test_size = .25, \n",
    "#    random_state=12345)"
   ]
  },
  {
   "cell_type": "code",
   "execution_count": 91,
   "metadata": {
    "pycharm": {
     "name": "#%%\n"
    }
   },
   "outputs": [],
   "source": [
    "#pd.options.mode.chained_assignment = None\n",
    "#numeric = ['CreditScore', 'Age', 'Balance', 'EstimatedSalary', 'Tenure']\n",
    "#scaler = StandardScaler()\n",
    "\n",
    "#scaler.fit(features_train[numeric])\n",
    "#features_train[numeric] = scaler.transform(features_train[numeric])\n",
    "#features_valid[numeric] = scaler.transform(features_valid[numeric])"
   ]
  },
  {
   "cell_type": "markdown",
   "metadata": {
    "pycharm": {
     "name": "#%% md\n"
    }
   },
   "source": [
    "### Разобъем данные на обучающую и валидационну и тестовую выборки"
   ]
  },
  {
   "cell_type": "code",
   "execution_count": 92,
   "metadata": {
    "pycharm": {
     "name": "#%%\n"
    }
   },
   "outputs": [],
   "source": [
    "features, features_valid, target, target_valid = train_test_split(\n",
    "    features, \n",
    "    target, \n",
    "    test_size = .20, \n",
    "    random_state=12345)\n"
   ]
  },
  {
   "cell_type": "code",
   "execution_count": 93,
   "metadata": {
    "pycharm": {
     "name": "#%%\n"
    }
   },
   "outputs": [],
   "source": [
    "features_train, features_test, target_train, target_test = train_test_split(\n",
    "    features,\n",
    "    target,\n",
    "    test_size = .25,\n",
    "    random_state=12345\n",
    ")"
   ]
  },
  {
   "cell_type": "code",
   "execution_count": 94,
   "metadata": {
    "pycharm": {
     "name": "#%%\n"
    }
   },
   "outputs": [
    {
     "name": "stdout",
     "output_type": "stream",
     "text": [
      "(6000, 10)\n",
      "(6000,)\n",
      "(2000, 10)\n",
      "(2000,)\n",
      "(2000, 10)\n",
      "(2000,)\n"
     ]
    }
   ],
   "source": [
    "print(features_train.shape)\n",
    "print(target_train.shape)\n",
    "print(features_valid.shape)\n",
    "print(target_valid.shape)\n",
    "print(features_test.shape)\n",
    "print(target_test.shape)"
   ]
  },
  {
   "cell_type": "markdown",
   "metadata": {
    "pycharm": {
     "name": "#%% md\n"
    }
   },
   "source": [
    "### Масштабируем признаки"
   ]
  },
  {
   "cell_type": "code",
   "execution_count": 95,
   "metadata": {
    "pycharm": {
     "name": "#%%\n"
    }
   },
   "outputs": [],
   "source": [
    "pd.options.mode.chained_assignment = None\n",
    "numeric = ['CreditScore', 'Age', 'Balance', 'EstimatedSalary', 'Tenure']\n",
    "scaler = StandardScaler()\n",
    "\n",
    "scaler.fit(features_train[numeric])\n",
    "features_train[numeric] = scaler.transform(features_train[numeric])\n",
    "features_valid[numeric] = scaler.transform(features_valid[numeric])\n",
    "features_test[numeric] = scaler.transform(features_test[numeric])"
   ]
  },
  {
   "cell_type": "markdown",
   "metadata": {
    "pycharm": {
     "name": "#%% md\n"
    }
   },
   "source": [
    "### Проверим адекватность модели"
   ]
  },
  {
   "cell_type": "code",
   "execution_count": 96,
   "metadata": {
    "pycharm": {
     "name": "#%%\n"
    }
   },
   "outputs": [
    {
     "name": "stdout",
     "output_type": "stream",
     "text": [
      "max depth: 7 : 0.8465\n"
     ]
    }
   ],
   "source": [
    "best_model = 0\n",
    "max_depth = 0\n",
    "for depth in range(1,20):\n",
    "    model = DecisionTreeClassifier(max_depth=depth, random_state=12345)\n",
    "    model.fit(features_train, target_train)\n",
    "    predictions = model.predict(features_valid)\n",
    "    accuracy = accuracy_score(target_valid, predictions)\n",
    "    \n",
    "    if (best_model < accuracy):\n",
    "        best_model = accuracy\n",
    "        max_depth = depth\n",
    "\n",
    "print('max depth:', max_depth, ': ', end='')\n",
    "print(best_model)"
   ]
  },
  {
   "cell_type": "code",
   "execution_count": 97,
   "metadata": {
    "pycharm": {
     "name": "#%%\n"
    }
   },
   "outputs": [
    {
     "name": "stdout",
     "output_type": "stream",
     "text": [
      "Est: 46 : 0.845\n"
     ]
    }
   ],
   "source": [
    "best_est = 0 \n",
    "best_result = 0\n",
    "for est in range(1,50):\n",
    "    model = RandomForestClassifier(random_state=12345, \n",
    "                                   n_estimators = est, \n",
    "                                   max_depth=10, \n",
    "                                   class_weight='balanced')\n",
    "    model.fit(features_train, target_train)\n",
    "    #predict = model.predict(features_valid)\n",
    "    result = model.score(features_valid, target_valid)\n",
    "    if result > best_result:\n",
    "        best_est = est\n",
    "        best_result = result\n",
    "\n",
    "print('Est:', best_est, ': ', end='')\n",
    "print(best_result)"
   ]
  },
  {
   "cell_type": "code",
   "execution_count": 98,
   "metadata": {
    "pycharm": {
     "name": "#%%\n"
    }
   },
   "outputs": [
    {
     "name": "stdout",
     "output_type": "stream",
     "text": [
      "F1: 0.6230529595015576\n",
      "Accuracy: 0.8185\n",
      "AUC: 0.8627780565187422\n",
      "\n",
      "0    0.732\n",
      "1    0.268\n",
      "dtype: float64\n"
     ]
    },
    {
     "data": {
      "text/plain": "<AxesSubplot:>"
     },
     "execution_count": 98,
     "metadata": {},
     "output_type": "execute_result"
    },
    {
     "data": {
      "text/plain": "<Figure size 432x288 with 1 Axes>",
      "image/png": "[encoded data removed]"
     },
     "metadata": {
      "needs_background": "light"
     },
     "output_type": "display_data"
    }
   ],
   "source": [
    "model = RandomForestClassifier(random_state=12345, \n",
    "                               n_estimators = 35, \n",
    "                               max_depth=7, \n",
    "                               class_weight='balanced')\n",
    "model.fit(features_train, target_train)\n",
    "predict = model.predict(features_valid)\n",
    "\n",
    "print('F1:', f1_score(target_valid, predict))\n",
    "\n",
    "accuracy_valid= accuracy_score(target_valid, predict)\n",
    "print('Accuracy:',accuracy_valid)\n",
    "\n",
    "probabilities_valid = model.predict_proba(features_valid)\n",
    "probabilities_one_valid = probabilities_valid[:, 1]\n",
    "auc_roc = roc_auc_score(target_valid, probabilities_one_valid)\n",
    "print('AUC:', auc_roc)\n",
    "\n",
    "print()\n",
    "predicted_valid = pd.Series(predict)\n",
    "class_frequency = predicted_valid.value_counts(normalize=True)\n",
    "print(class_frequency)\n",
    "class_frequency.plot(kind='bar')"
   ]
  },
  {
   "cell_type": "markdown",
   "metadata": {
    "pycharm": {
     "name": "#%% md\n"
    }
   },
   "source": [
    "Чаще встречается целевой признак со значением 0"
   ]
  },
  {
   "cell_type": "code",
   "execution_count": 99,
   "metadata": {
    "pycharm": {
     "name": "#%%\n"
    }
   },
   "outputs": [
    {
     "name": "stdout",
     "output_type": "stream",
     "text": [
      "[[1337  236]\n",
      " [ 127  300]]\n"
     ]
    }
   ],
   "source": [
    "print(confusion_matrix(target_valid, predict))"
   ]
  },
  {
   "cell_type": "markdown",
   "metadata": {
    "pycharm": {
     "name": "#%% md\n"
    }
   },
   "source": [
    "- Модель чаще предсказывает отрицательные значения\n",
    "- Почситаны значения AUC: 0.86, F1: 0.62, Accuracy: 0.81.\n"
   ]
  },
  {
   "cell_type": "markdown",
   "metadata": {
    "pycharm": {
     "name": "#%% md\n"
    }
   },
   "source": [
    "<div class=\"alert alert-block alert-success\">\n",
    "<b>Успех:</b> Дисбаланс исследован\n",
    "  \n",
    "</div>"
   ]
  },
  {
   "cell_type": "markdown",
   "metadata": {
    "pycharm": {
     "name": "#%% md\n"
    }
   },
   "source": [
    "## Борьба с дисбалансом"
   ]
  },
  {
   "cell_type": "code",
   "execution_count": 100,
   "metadata": {
    "pycharm": {
     "name": "#%%\n"
    }
   },
   "outputs": [],
   "source": [
    "def upsample(features, target, repeat):\n",
    "    features_zeros = features[target == 0]\n",
    "    features_ones = features[target == 1]\n",
    "    target_zeros = target[target == 0]\n",
    "    target_ones = target[target == 1]\n",
    "\n",
    "    features_upsampled = pd.concat([features_zeros] + [features_ones] * repeat)\n",
    "    target_upsampled = pd.concat([target_zeros] + [target_ones] * repeat)\n",
    "    \n",
    "    features_upsampled, target_upsampled = shuffle(\n",
    "        features_upsampled, target_upsampled, random_state=12345)\n",
    "    \n",
    "    return features_upsampled, target_upsampled"
   ]
  },
  {
   "cell_type": "code",
   "execution_count": 101,
   "metadata": {
    "pycharm": {
     "name": "#%%\n"
    }
   },
   "outputs": [],
   "source": [
    "features_upsampled, target_upsampled = upsample(features_train, target_train, 10)"
   ]
  },
  {
   "cell_type": "code",
   "execution_count": 102,
   "metadata": {
    "pycharm": {
     "name": "#%%\n"
    }
   },
   "outputs": [
    {
     "name": "stdout",
     "output_type": "stream",
     "text": [
      "F1: 0.5730769230769232\n",
      "Accuracy: 0.778\n",
      "AUC: 0.8627780565187422\n"
     ]
    }
   ],
   "source": [
    "#Обучим модель DecisionTreeClassifier\n",
    "tree_model = DecisionTreeClassifier(random_state=12345, max_depth=7, class_weight='balanced')\n",
    "tree_model.fit(features_upsampled, target_upsampled)\n",
    "predict = tree_model.predict(features_valid)\n",
    "print('F1:', f1_score(target_valid, predict))\n",
    "\n",
    "accuracy_valid= accuracy_score(target_valid, predict)\n",
    "print('Accuracy:',accuracy_valid)\n",
    "\n",
    "probabilities_valid = model.predict_proba(features_valid)\n",
    "probabilities_one_valid = probabilities_valid[:, 1]\n",
    "auc_roc = roc_auc_score(target_valid, probabilities_one_valid)\n",
    "print('AUC:', auc_roc)"
   ]
  },
  {
   "cell_type": "code",
   "execution_count": 103,
   "metadata": {
    "pycharm": {
     "name": "#%%\n"
    }
   },
   "outputs": [
    {
     "name": "stdout",
     "output_type": "stream",
     "text": [
      "F1: 0.613588110403397\n",
      "Accuracy: 0.818\n",
      "AUC: 0.8572932283811568\n"
     ]
    }
   ],
   "source": [
    "#Обучим модель RandomForestClassifier\n",
    "model = RandomForestClassifier(random_state=12345, \n",
    "                               n_estimators = 37, \n",
    "                               max_depth=10, \n",
    "                               class_weight='balanced')\n",
    "model.fit(features_upsampled, target_upsampled)\n",
    "\n",
    "probabilities_valid = model.predict_proba(features_valid)\n",
    "probabilities_one_valid = probabilities_valid[:, 1]\n",
    "\n",
    "predict = model.predict(features_valid)\n",
    "\n",
    "print('F1:', f1_score(target_valid, predict))\n",
    "\n",
    "accuracy_valid= accuracy_score(target_valid, predict)\n",
    "print('Accuracy:',accuracy_valid)\n",
    "\n",
    "probabilities_valid = model.predict_proba(features_valid)\n",
    "probabilities_one_valid = probabilities_valid[:, 1]\n",
    "auc_roc = roc_auc_score(target_valid, probabilities_one_valid)\n",
    "print('AUC:', auc_roc)"
   ]
  },
  {
   "cell_type": "markdown",
   "metadata": {
    "pycharm": {
     "name": "#%% md\n"
    }
   },
   "source": [
    "## Тестирование модели"
   ]
  },
  {
   "cell_type": "code",
   "execution_count": 104,
   "metadata": {
    "pycharm": {
     "name": "#%%\n"
    }
   },
   "outputs": [
    {
     "name": "stdout",
     "output_type": "stream",
     "text": [
      "F1: 0.5878378378378378\n"
     ]
    }
   ],
   "source": [
    "test_prediction = model.predict(features_test)\n",
    "print('F1:', f1_score(target_test, test_prediction))"
   ]
  },
  {
   "cell_type": "code",
   "execution_count": 105,
   "metadata": {
    "pycharm": {
     "name": "#%%\n"
    }
   },
   "outputs": [
    {
     "name": "stdout",
     "output_type": "stream",
     "text": [
      "Accuracy: 0.817\n"
     ]
    }
   ],
   "source": [
    "result = model.score(features_test, target_test) \n",
    "print(\"Accuracy:\", result)"
   ]
  },
  {
   "cell_type": "code",
   "execution_count": 106,
   "metadata": {
    "scrolled": true,
    "pycharm": {
     "name": "#%%\n"
    }
   },
   "outputs": [
    {
     "name": "stdout",
     "output_type": "stream",
     "text": [
      "AUC: 0.8572932283811568\n"
     ]
    },
    {
     "data": {
      "text/plain": "<Figure size 432x288 with 1 Axes>",
      "image/png": "[encoded data removed]"
     },
     "metadata": {
      "needs_background": "light"
     },
     "output_type": "display_data"
    }
   ],
   "source": [
    "probabilities_valid = model.predict_proba(features_valid)\n",
    "probabilities_one_valid = probabilities_valid[:, 1]\n",
    "\n",
    "fpr, tpr, thresholds = roc_curve(target_valid, probabilities_one_valid)\n",
    "\n",
    "auc_roc = roc_auc_score(target_valid, probabilities_one_valid)\n",
    "print('AUC:',auc_roc)\n",
    "\n",
    "plt.figure()\n",
    "\n",
    "plt.plot(fpr, tpr)\n",
    "\n",
    "# ROC-кривая случайной модели (выглядит как прямая)\n",
    "plt.plot([0, 1], [0, 1], linestyle='--')\n",
    "plt.xlim([0.0, 1.0])\n",
    "plt.ylim([0.0, 1.0])\n",
    "plt.xlabel('False Positive Rate')\n",
    "plt.ylabel('True Positive Rate')\n",
    "plt.title('ROC-кривая')\n",
    "plt.show()"
   ]
  },
  {
   "cell_type": "markdown",
   "metadata": {
    "pycharm": {
     "name": "#%% md\n"
    }
   },
   "source": [
    "# Вывод"
   ]
  },
  {
   "cell_type": "markdown",
   "metadata": {
    "pycharm": {
     "name": "#%% md\n"
    }
   },
   "source": [
    " - Наиболее лучшая модель RandomForestClassifier\n",
    " - на обучающей выборке достигнуты целевые показатели F1: 0.62, Accuracy: 0.8, AUC: 0.86 при значениях гиперпараметров n_estimators = 37, max_depth=10\n",
    " - на тестовой выборке значения показателей составили F1: 0.59, Accuracy: 0.8, AUC: 0.86"
   ]
  }
 ],
 "metadata": {
  "ExecuteTimeLog": [
   {
    "duration": 272,
    "start_time": "2021-10-26T08:03:39.534Z"
   },
   {
    "duration": 238,
    "start_time": "2021-10-26T08:03:43.412Z"
   },
   {
    "duration": 238,
    "start_time": "2021-10-26T08:03:50.552Z"
   },
   {
    "duration": 687,
    "start_time": "2021-10-26T08:03:57.538Z"
   },
   {
    "duration": 1661,
    "start_time": "2021-10-26T08:03:58.812Z"
   },
   {
    "duration": 149,
    "start_time": "2021-10-26T08:04:03.927Z"
   },
   {
    "duration": 12,
    "start_time": "2021-10-26T08:04:31.256Z"
   },
   {
    "duration": 9,
    "start_time": "2021-10-26T08:04:40.098Z"
   },
   {
    "duration": 20,
    "start_time": "2021-10-26T08:04:59.141Z"
   },
   {
    "duration": 5,
    "start_time": "2021-10-26T08:05:53.925Z"
   },
   {
    "duration": 15,
    "start_time": "2021-10-26T08:06:06.273Z"
   },
   {
    "duration": 243,
    "start_time": "2021-10-26T08:06:29.184Z"
   },
   {
    "duration": 246,
    "start_time": "2021-10-26T08:07:56.837Z"
   },
   {
    "duration": 3,
    "start_time": "2021-10-26T08:08:03.154Z"
   },
   {
    "duration": 126,
    "start_time": "2021-10-26T08:08:03.391Z"
   },
   {
    "duration": 10,
    "start_time": "2021-10-26T08:08:03.583Z"
   },
   {
    "duration": 12,
    "start_time": "2021-10-26T08:08:04.046Z"
   },
   {
    "duration": 5,
    "start_time": "2021-10-26T08:08:04.685Z"
   },
   {
    "duration": 14,
    "start_time": "2021-10-26T08:08:05.385Z"
   },
   {
    "duration": 239,
    "start_time": "2021-10-26T08:08:51.080Z"
   },
   {
    "duration": 12,
    "start_time": "2021-10-26T08:08:51.511Z"
   },
   {
    "duration": 3,
    "start_time": "2021-10-26T08:08:55.629Z"
   },
   {
    "duration": 97,
    "start_time": "2021-10-26T08:08:55.788Z"
   },
   {
    "duration": 9,
    "start_time": "2021-10-26T08:08:55.936Z"
   },
   {
    "duration": 11,
    "start_time": "2021-10-26T08:08:56.213Z"
   },
   {
    "duration": 4,
    "start_time": "2021-10-26T08:08:56.708Z"
   },
   {
    "duration": 14,
    "start_time": "2021-10-26T08:08:57.385Z"
   },
   {
    "duration": 10,
    "start_time": "2021-10-26T08:09:13.492Z"
   },
   {
    "duration": 14,
    "start_time": "2021-10-26T08:09:13.960Z"
   },
   {
    "duration": 246,
    "start_time": "2021-10-26T08:10:30.218Z"
   },
   {
    "duration": 12,
    "start_time": "2021-10-26T08:10:30.767Z"
   },
   {
    "duration": 3,
    "start_time": "2021-10-26T08:10:35.083Z"
   },
   {
    "duration": 101,
    "start_time": "2021-10-26T08:10:35.231Z"
   },
   {
    "duration": 10,
    "start_time": "2021-10-26T08:10:35.388Z"
   },
   {
    "duration": 13,
    "start_time": "2021-10-26T08:10:35.529Z"
   },
   {
    "duration": 5,
    "start_time": "2021-10-26T08:10:35.920Z"
   },
   {
    "duration": 15,
    "start_time": "2021-10-26T08:10:36.429Z"
   },
   {
    "duration": 740,
    "start_time": "2021-10-30T10:49:19.930Z"
   },
   {
    "duration": 170,
    "start_time": "2021-10-30T10:49:20.673Z"
   },
   {
    "duration": 11,
    "start_time": "2021-10-30T10:49:20.846Z"
   },
   {
    "duration": 28,
    "start_time": "2021-10-30T10:49:21.417Z"
   },
   {
    "duration": 6,
    "start_time": "2021-10-30T10:49:22.203Z"
   },
   {
    "duration": 371,
    "start_time": "2021-10-30T10:49:23.744Z"
   },
   {
    "duration": 28,
    "start_time": "2021-10-30T10:49:27.055Z"
   },
   {
    "duration": 9,
    "start_time": "2021-10-30T10:49:57.558Z"
   },
   {
    "duration": 9,
    "start_time": "2021-10-30T10:50:14.004Z"
   },
   {
    "duration": 29,
    "start_time": "2021-10-30T10:50:19.720Z"
   },
   {
    "duration": 8,
    "start_time": "2021-10-30T11:04:21.632Z"
   },
   {
    "duration": 89,
    "start_time": "2021-10-30T11:09:27.429Z"
   },
   {
    "duration": 108,
    "start_time": "2021-10-30T11:09:48.675Z"
   },
   {
    "duration": 7,
    "start_time": "2021-10-30T11:09:55.743Z"
   },
   {
    "duration": 7,
    "start_time": "2021-10-30T11:10:10.499Z"
   },
   {
    "duration": 37,
    "start_time": "2021-10-30T11:10:33.136Z"
   },
   {
    "duration": 42,
    "start_time": "2021-10-30T11:18:03.202Z"
   },
   {
    "duration": 40,
    "start_time": "2021-10-30T11:18:22.196Z"
   },
   {
    "duration": 14,
    "start_time": "2021-10-30T11:21:19.826Z"
   },
   {
    "duration": 7,
    "start_time": "2021-10-30T11:22:03.457Z"
   },
   {
    "duration": 27,
    "start_time": "2021-10-30T11:22:05.992Z"
   },
   {
    "duration": 10,
    "start_time": "2021-10-30T11:22:31.147Z"
   },
   {
    "duration": 28,
    "start_time": "2021-10-30T11:22:34.379Z"
   },
   {
    "duration": 618,
    "start_time": "2021-10-30T11:24:54.749Z"
   },
   {
    "duration": 4,
    "start_time": "2021-10-30T11:25:35.942Z"
   },
   {
    "duration": 4,
    "start_time": "2021-10-30T11:25:44.916Z"
   },
   {
    "duration": 396,
    "start_time": "2021-10-30T11:28:03.063Z"
   },
   {
    "duration": 5,
    "start_time": "2021-10-30T11:28:10.068Z"
   },
   {
    "duration": 292,
    "start_time": "2021-10-30T11:28:24.948Z"
   },
   {
    "duration": 33,
    "start_time": "2021-10-30T11:28:47.388Z"
   },
   {
    "duration": 25,
    "start_time": "2021-10-30T11:28:56.754Z"
   },
   {
    "duration": 32,
    "start_time": "2021-10-30T11:31:47.861Z"
   },
   {
    "duration": 23,
    "start_time": "2021-10-30T11:31:48.664Z"
   },
   {
    "duration": 8,
    "start_time": "2021-10-30T11:34:56.304Z"
   },
   {
    "duration": 23,
    "start_time": "2021-10-30T11:35:14.652Z"
   },
   {
    "duration": 5,
    "start_time": "2021-10-30T11:40:24.207Z"
   },
   {
    "duration": 283,
    "start_time": "2021-10-30T11:40:43.248Z"
   },
   {
    "duration": 278,
    "start_time": "2021-10-30T11:41:31.760Z"
   },
   {
    "duration": 296,
    "start_time": "2021-10-30T11:42:26.231Z"
   },
   {
    "duration": 447,
    "start_time": "2021-10-30T11:42:38.074Z"
   },
   {
    "duration": 378,
    "start_time": "2021-10-30T11:43:03.314Z"
   },
   {
    "duration": 288,
    "start_time": "2021-10-30T11:45:56.321Z"
   },
   {
    "duration": 24,
    "start_time": "2021-10-30T11:50:41.888Z"
   },
   {
    "duration": 13,
    "start_time": "2021-10-30T11:53:37.352Z"
   },
   {
    "duration": 21,
    "start_time": "2021-10-30T11:53:48.857Z"
   },
   {
    "duration": 7,
    "start_time": "2021-10-30T11:57:06.870Z"
   },
   {
    "duration": 312,
    "start_time": "2021-10-30T11:57:08.877Z"
   },
   {
    "duration": 292,
    "start_time": "2021-10-30T11:57:19.493Z"
   },
   {
    "duration": 9,
    "start_time": "2021-10-30T11:57:57.135Z"
   },
   {
    "duration": 4,
    "start_time": "2021-10-30T11:58:22.341Z"
   },
   {
    "duration": 14,
    "start_time": "2021-10-30T11:58:33.314Z"
   },
   {
    "duration": 5,
    "start_time": "2021-10-30T11:58:41.103Z"
   },
   {
    "duration": 9,
    "start_time": "2021-10-30T11:59:07.043Z"
   },
   {
    "duration": 4,
    "start_time": "2021-10-30T11:59:07.523Z"
   },
   {
    "duration": 8,
    "start_time": "2021-10-30T11:59:38.154Z"
   },
   {
    "duration": 4,
    "start_time": "2021-10-30T11:59:39.661Z"
   },
   {
    "duration": 5,
    "start_time": "2021-10-30T12:00:23.502Z"
   },
   {
    "duration": 413,
    "start_time": "2021-10-30T12:00:41.459Z"
   },
   {
    "duration": 279,
    "start_time": "2021-10-30T12:02:28.743Z"
   },
   {
    "duration": 5,
    "start_time": "2021-10-30T12:02:54.841Z"
   },
   {
    "duration": 296,
    "start_time": "2021-10-30T12:03:00.488Z"
   },
   {
    "duration": 349,
    "start_time": "2021-10-30T12:03:29.917Z"
   },
   {
    "duration": 335,
    "start_time": "2021-10-30T12:03:53.941Z"
   },
   {
    "duration": 53,
    "start_time": "2021-10-30T12:04:01.482Z"
   },
   {
    "duration": 286,
    "start_time": "2021-10-30T12:15:33.005Z"
   },
   {
    "duration": 326,
    "start_time": "2021-10-30T12:15:51.190Z"
   },
   {
    "duration": 5,
    "start_time": "2021-10-30T12:16:29.367Z"
   },
   {
    "duration": 40,
    "start_time": "2021-10-30T12:16:38.788Z"
   },
   {
    "duration": 39,
    "start_time": "2021-10-30T12:17:54.907Z"
   },
   {
    "duration": 5,
    "start_time": "2021-10-30T12:18:15.287Z"
   },
   {
    "duration": 57,
    "start_time": "2021-10-30T12:18:34.066Z"
   },
   {
    "duration": 37,
    "start_time": "2021-10-30T12:18:43.686Z"
   },
   {
    "duration": 34,
    "start_time": "2021-10-30T12:18:54.897Z"
   },
   {
    "duration": 4,
    "start_time": "2021-10-30T12:52:40.437Z"
   },
   {
    "duration": 55,
    "start_time": "2021-10-30T12:52:57.925Z"
   },
   {
    "duration": 54,
    "start_time": "2021-10-30T12:53:50.252Z"
   },
   {
    "duration": 517,
    "start_time": "2021-10-30T12:54:03.855Z"
   },
   {
    "duration": 6,
    "start_time": "2021-10-30T12:59:39.930Z"
   },
   {
    "duration": 280,
    "start_time": "2021-10-30T13:00:26.521Z"
   },
   {
    "duration": 9,
    "start_time": "2021-10-30T13:01:06.992Z"
   },
   {
    "duration": 295,
    "start_time": "2021-11-01T09:09:57.453Z"
   },
   {
    "duration": 332,
    "start_time": "2021-11-01T09:09:57.871Z"
   },
   {
    "duration": 1081,
    "start_time": "2021-11-01T09:10:11.706Z"
   },
   {
    "duration": 171,
    "start_time": "2021-11-01T09:10:12.789Z"
   },
   {
    "duration": 8,
    "start_time": "2021-11-01T09:10:12.962Z"
   },
   {
    "duration": 18,
    "start_time": "2021-11-01T09:10:13.049Z"
   },
   {
    "duration": 4,
    "start_time": "2021-11-01T09:10:13.473Z"
   },
   {
    "duration": 6,
    "start_time": "2021-11-01T09:10:13.895Z"
   },
   {
    "duration": 7,
    "start_time": "2021-11-01T09:10:14.346Z"
   },
   {
    "duration": 4,
    "start_time": "2021-11-01T09:10:14.777Z"
   },
   {
    "duration": 7,
    "start_time": "2021-11-01T09:10:16.113Z"
   },
   {
    "duration": 23,
    "start_time": "2021-11-01T09:10:16.889Z"
   },
   {
    "duration": 15,
    "start_time": "2021-11-01T09:10:17.378Z"
   },
   {
    "duration": 10,
    "start_time": "2021-11-01T09:10:18.522Z"
   },
   {
    "duration": 14,
    "start_time": "2021-11-01T09:10:19.725Z"
   },
   {
    "duration": 6,
    "start_time": "2021-11-01T09:10:20.862Z"
   },
   {
    "duration": 6,
    "start_time": "2021-11-01T09:10:21.966Z"
   },
   {
    "duration": 6,
    "start_time": "2021-11-01T09:10:40.542Z"
   },
   {
    "duration": 231,
    "start_time": "2021-11-01T09:10:45.389Z"
   },
   {
    "duration": 20,
    "start_time": "2021-11-01T09:10:49.223Z"
   },
   {
    "duration": 4,
    "start_time": "2021-11-01T09:12:45.525Z"
   },
   {
    "duration": 603,
    "start_time": "2021-11-01T09:13:23.741Z"
   },
   {
    "duration": 3,
    "start_time": "2021-11-01T09:13:45.860Z"
   },
   {
    "duration": 9,
    "start_time": "2021-11-01T09:13:51.762Z"
   },
   {
    "duration": 158,
    "start_time": "2021-11-01T09:14:08.153Z"
   },
   {
    "duration": 11,
    "start_time": "2021-11-01T09:14:44.420Z"
   },
   {
    "duration": 164,
    "start_time": "2021-11-01T09:14:45.427Z"
   },
   {
    "duration": 6,
    "start_time": "2021-11-01T09:14:49.881Z"
   },
   {
    "duration": 10,
    "start_time": "2021-11-01T09:14:50.313Z"
   },
   {
    "duration": 150,
    "start_time": "2021-11-01T09:14:50.874Z"
   },
   {
    "duration": 13,
    "start_time": "2021-11-01T09:14:55.252Z"
   },
   {
    "duration": 156,
    "start_time": "2021-11-01T09:14:55.855Z"
   },
   {
    "duration": 256,
    "start_time": "2021-11-01T09:17:54.561Z"
   },
   {
    "duration": 233,
    "start_time": "2021-11-01T09:18:03.025Z"
   },
   {
    "duration": 9,
    "start_time": "2021-11-01T09:18:13.801Z"
   },
   {
    "duration": 216,
    "start_time": "2021-11-01T09:18:14.881Z"
   },
   {
    "duration": 4,
    "start_time": "2021-11-01T09:19:39.241Z"
   },
   {
    "duration": 11,
    "start_time": "2021-11-01T09:19:39.800Z"
   },
   {
    "duration": 240,
    "start_time": "2021-11-01T09:19:40.476Z"
   },
   {
    "duration": 260,
    "start_time": "2021-11-01T09:26:33.720Z"
   },
   {
    "duration": 162,
    "start_time": "2021-11-01T09:28:24.578Z"
   },
   {
    "duration": 218,
    "start_time": "2021-11-01T09:28:54.337Z"
   },
   {
    "duration": 170,
    "start_time": "2021-11-01T09:29:16.738Z"
   },
   {
    "duration": 154,
    "start_time": "2021-11-01T09:41:07.660Z"
   },
   {
    "duration": 161,
    "start_time": "2021-11-01T09:41:21.792Z"
   },
   {
    "duration": 275,
    "start_time": "2021-11-01T09:43:36.268Z"
   },
   {
    "duration": 3,
    "start_time": "2021-11-01T09:43:41.504Z"
   },
   {
    "duration": 214,
    "start_time": "2021-11-01T09:43:41.925Z"
   },
   {
    "duration": 9,
    "start_time": "2021-11-01T09:43:42.232Z"
   },
   {
    "duration": 12,
    "start_time": "2021-11-01T09:43:42.624Z"
   },
   {
    "duration": 4,
    "start_time": "2021-11-01T09:43:42.984Z"
   },
   {
    "duration": 7,
    "start_time": "2021-11-01T09:43:43.335Z"
   },
   {
    "duration": 6,
    "start_time": "2021-11-01T09:43:43.662Z"
   },
   {
    "duration": 5,
    "start_time": "2021-11-01T09:43:43.974Z"
   },
   {
    "duration": 7,
    "start_time": "2021-11-01T09:43:44.880Z"
   },
   {
    "duration": 25,
    "start_time": "2021-11-01T09:43:45.548Z"
   },
   {
    "duration": 15,
    "start_time": "2021-11-01T09:43:45.905Z"
   },
   {
    "duration": 10,
    "start_time": "2021-11-01T09:43:46.832Z"
   },
   {
    "duration": 15,
    "start_time": "2021-11-01T09:43:47.323Z"
   },
   {
    "duration": 6,
    "start_time": "2021-11-01T09:43:48.483Z"
   },
   {
    "duration": 7,
    "start_time": "2021-11-01T09:43:49.342Z"
   },
   {
    "duration": 4,
    "start_time": "2021-11-01T09:43:50.243Z"
   },
   {
    "duration": 267,
    "start_time": "2021-11-01T09:44:12.428Z"
   },
   {
    "duration": 6,
    "start_time": "2021-11-01T09:44:12.876Z"
   },
   {
    "duration": 407,
    "start_time": "2021-11-01T09:44:26.924Z"
   },
   {
    "duration": 4,
    "start_time": "2021-11-01T09:44:35.685Z"
   },
   {
    "duration": 164,
    "start_time": "2021-11-01T09:44:36.073Z"
   },
   {
    "duration": 8,
    "start_time": "2021-11-01T09:44:36.474Z"
   },
   {
    "duration": 12,
    "start_time": "2021-11-01T09:44:36.931Z"
   },
   {
    "duration": 5,
    "start_time": "2021-11-01T09:44:37.120Z"
   },
   {
    "duration": 7,
    "start_time": "2021-11-01T09:44:37.311Z"
   },
   {
    "duration": 7,
    "start_time": "2021-11-01T09:44:37.501Z"
   },
   {
    "duration": 5,
    "start_time": "2021-11-01T09:44:37.695Z"
   },
   {
    "duration": 6,
    "start_time": "2021-11-01T09:44:38.675Z"
   },
   {
    "duration": 24,
    "start_time": "2021-11-01T09:44:39.284Z"
   },
   {
    "duration": 15,
    "start_time": "2021-11-01T09:44:39.761Z"
   },
   {
    "duration": 10,
    "start_time": "2021-11-01T09:44:40.822Z"
   },
   {
    "duration": 15,
    "start_time": "2021-11-01T09:44:41.350Z"
   },
   {
    "duration": 6,
    "start_time": "2021-11-01T09:44:42.564Z"
   },
   {
    "duration": 6,
    "start_time": "2021-11-01T09:44:43.620Z"
   },
   {
    "duration": 5,
    "start_time": "2021-11-01T09:44:44.226Z"
   },
   {
    "duration": 4,
    "start_time": "2021-11-01T09:48:50.585Z"
   },
   {
    "duration": 204,
    "start_time": "2021-11-01T09:49:04.593Z"
   },
   {
    "duration": 200,
    "start_time": "2021-11-01T09:49:31.434Z"
   },
   {
    "duration": 193,
    "start_time": "2021-11-01T09:49:56.507Z"
   },
   {
    "duration": 6,
    "start_time": "2021-11-01T09:50:15.317Z"
   },
   {
    "duration": 204,
    "start_time": "2021-11-01T09:50:35.242Z"
   },
   {
    "duration": 265,
    "start_time": "2021-11-01T09:50:58.671Z"
   },
   {
    "duration": 353,
    "start_time": "2021-11-01T09:51:04.811Z"
   },
   {
    "duration": 288,
    "start_time": "2021-11-01T09:51:11.011Z"
   },
   {
    "duration": 260,
    "start_time": "2021-11-01T09:51:16.465Z"
   },
   {
    "duration": 259,
    "start_time": "2021-11-01T09:51:23.332Z"
   },
   {
    "duration": 300,
    "start_time": "2021-11-01T09:51:26.921Z"
   },
   {
    "duration": 413,
    "start_time": "2021-11-01T09:51:30.006Z"
   },
   {
    "duration": 382,
    "start_time": "2021-11-01T09:51:34.204Z"
   },
   {
    "duration": 10,
    "start_time": "2021-11-01T09:51:42.882Z"
   },
   {
    "duration": 467,
    "start_time": "2021-11-01T09:51:43.489Z"
   },
   {
    "duration": 15,
    "start_time": "2021-11-01T09:51:50.169Z"
   },
   {
    "duration": 601,
    "start_time": "2021-11-01T09:51:51.001Z"
   },
   {
    "duration": 599,
    "start_time": "2021-11-01T09:52:03.974Z"
   },
   {
    "duration": 484,
    "start_time": "2021-11-01T09:52:30.691Z"
   },
   {
    "duration": 170,
    "start_time": "2021-11-01T09:53:46.884Z"
   },
   {
    "duration": 675,
    "start_time": "2021-11-01T09:53:50.430Z"
   },
   {
    "duration": 906,
    "start_time": "2021-11-01T09:53:56.064Z"
   },
   {
    "duration": 1012,
    "start_time": "2021-11-01T09:54:00.037Z"
   },
   {
    "duration": 1126,
    "start_time": "2021-11-01T09:54:04.905Z"
   },
   {
    "duration": 630,
    "start_time": "2021-11-01T09:54:10.494Z"
   },
   {
    "duration": 642,
    "start_time": "2021-11-01T09:54:14.474Z"
   },
   {
    "duration": 875,
    "start_time": "2021-11-01T09:55:18.637Z"
   },
   {
    "duration": 90,
    "start_time": "2021-11-01T09:56:42.082Z"
   },
   {
    "duration": 21,
    "start_time": "2021-11-01T09:56:54.192Z"
   },
   {
    "duration": 454,
    "start_time": "2021-11-01T10:22:52.159Z"
   },
   {
    "duration": 435,
    "start_time": "2021-11-01T10:23:10.568Z"
   },
   {
    "duration": 4,
    "start_time": "2021-11-01T10:47:44.962Z"
   },
   {
    "duration": 287,
    "start_time": "2021-11-01T10:49:48.401Z"
   },
   {
    "duration": 398,
    "start_time": "2021-11-01T10:50:00.743Z"
   },
   {
    "duration": 4,
    "start_time": "2021-11-01T10:50:18.247Z"
   },
   {
    "duration": 292,
    "start_time": "2021-11-01T10:50:22.075Z"
   },
   {
    "duration": 169,
    "start_time": "2021-11-01T10:50:33.267Z"
   },
   {
    "duration": 175,
    "start_time": "2021-11-01T10:50:38.140Z"
   },
   {
    "duration": 275,
    "start_time": "2021-11-01T10:56:47.650Z"
   },
   {
    "duration": 4,
    "start_time": "2021-11-01T10:57:10.739Z"
   },
   {
    "duration": 176,
    "start_time": "2021-11-01T10:57:15.678Z"
   },
   {
    "duration": 308,
    "start_time": "2021-11-01T15:28:22.415Z"
   },
   {
    "duration": 308,
    "start_time": "2021-11-01T15:28:22.417Z"
   },
   {
    "duration": 285,
    "start_time": "2021-11-01T15:28:22.809Z"
   },
   {
    "duration": 264,
    "start_time": "2021-11-01T15:28:23.170Z"
   },
   {
    "duration": 232,
    "start_time": "2021-11-01T15:28:23.204Z"
   },
   {
    "duration": 258,
    "start_time": "2021-11-01T15:28:23.669Z"
   },
   {
    "duration": 1132,
    "start_time": "2021-11-01T15:28:27.142Z"
   },
   {
    "duration": 2019,
    "start_time": "2021-11-01T15:28:28.276Z"
   },
   {
    "duration": 177,
    "start_time": "2021-11-01T15:28:30.120Z"
   },
   {
    "duration": 176,
    "start_time": "2021-11-01T15:28:30.122Z"
   },
   {
    "duration": 175,
    "start_time": "2021-11-01T15:28:30.124Z"
   },
   {
    "duration": 175,
    "start_time": "2021-11-01T15:28:30.125Z"
   },
   {
    "duration": 267,
    "start_time": "2021-11-01T15:28:30.412Z"
   },
   {
    "duration": 1944,
    "start_time": "2021-11-01T15:28:47.875Z"
   },
   {
    "duration": 1933,
    "start_time": "2021-11-01T15:28:52.353Z"
   },
   {
    "duration": 28,
    "start_time": "2021-11-01T15:28:54.839Z"
   },
   {
    "duration": 10,
    "start_time": "2021-11-01T15:29:00.072Z"
   },
   {
    "duration": 16,
    "start_time": "2021-11-01T15:29:01.559Z"
   },
   {
    "duration": 5,
    "start_time": "2021-11-01T15:29:03.483Z"
   },
   {
    "duration": 7,
    "start_time": "2021-11-01T15:29:05.128Z"
   },
   {
    "duration": 6,
    "start_time": "2021-11-01T15:29:06.071Z"
   },
   {
    "duration": 5,
    "start_time": "2021-11-01T15:29:07.177Z"
   },
   {
    "duration": 16,
    "start_time": "2021-11-01T15:29:10.877Z"
   },
   {
    "duration": 6,
    "start_time": "2021-11-01T15:29:18.540Z"
   },
   {
    "duration": 264,
    "start_time": "2021-11-01T15:29:19.616Z"
   },
   {
    "duration": 21,
    "start_time": "2021-11-01T15:29:31.333Z"
   },
   {
    "duration": 6880,
    "start_time": "2021-11-01T15:29:32.678Z"
   },
   {
    "duration": 179,
    "start_time": "2021-11-01T15:29:39.381Z"
   },
   {
    "duration": 7296,
    "start_time": "2021-11-01T15:29:41.003Z"
   },
   {
    "duration": 16,
    "start_time": "2021-11-01T15:29:53.968Z"
   },
   {
    "duration": 7866,
    "start_time": "2021-11-01T15:30:05.920Z"
   },
   {
    "duration": 1995,
    "start_time": "2021-11-01T15:30:17.193Z"
   },
   {
    "duration": 29,
    "start_time": "2021-11-01T15:30:23.512Z"
   },
   {
    "duration": 9,
    "start_time": "2021-11-01T15:30:24.572Z"
   },
   {
    "duration": 13,
    "start_time": "2021-11-01T15:30:25.216Z"
   },
   {
    "duration": 5,
    "start_time": "2021-11-01T15:30:25.425Z"
   },
   {
    "duration": 7,
    "start_time": "2021-11-01T15:30:25.814Z"
   },
   {
    "duration": 7,
    "start_time": "2021-11-01T15:30:26.070Z"
   },
   {
    "duration": 5,
    "start_time": "2021-11-01T15:30:27.538Z"
   },
   {
    "duration": 18,
    "start_time": "2021-11-01T15:30:27.959Z"
   },
   {
    "duration": 17,
    "start_time": "2021-11-01T15:30:30.638Z"
   },
   {
    "duration": 6,
    "start_time": "2021-11-01T15:30:32.452Z"
   },
   {
    "duration": 8,
    "start_time": "2021-11-01T15:30:35.612Z"
   },
   {
    "duration": 277,
    "start_time": "2021-11-01T15:30:38.848Z"
   },
   {
    "duration": 17,
    "start_time": "2021-11-01T15:30:50.932Z"
   },
   {
    "duration": 7,
    "start_time": "2021-11-01T15:31:05.534Z"
   },
   {
    "duration": 30,
    "start_time": "2021-11-01T15:31:06.780Z"
   },
   {
    "duration": 7,
    "start_time": "2021-11-01T15:31:06.991Z"
   },
   {
    "duration": 8,
    "start_time": "2021-11-01T15:31:07.149Z"
   },
   {
    "duration": 12,
    "start_time": "2021-11-01T15:31:07.321Z"
   },
   {
    "duration": 5,
    "start_time": "2021-11-01T15:31:07.473Z"
   },
   {
    "duration": 7,
    "start_time": "2021-11-01T15:31:07.819Z"
   },
   {
    "duration": 7,
    "start_time": "2021-11-01T15:31:09.715Z"
   },
   {
    "duration": 4,
    "start_time": "2021-11-01T15:31:10.316Z"
   },
   {
    "duration": 16,
    "start_time": "2021-11-01T15:31:10.717Z"
   },
   {
    "duration": 18,
    "start_time": "2021-11-01T15:31:14.381Z"
   },
   {
    "duration": 6,
    "start_time": "2021-11-01T15:31:18.461Z"
   },
   {
    "duration": 23,
    "start_time": "2021-11-01T15:31:20.624Z"
   },
   {
    "duration": 16,
    "start_time": "2021-11-01T15:31:22.654Z"
   },
   {
    "duration": 15,
    "start_time": "2021-11-01T15:37:13.776Z"
   },
   {
    "duration": 394,
    "start_time": "2021-11-02T12:34:01.707Z"
   },
   {
    "duration": 1265,
    "start_time": "2021-11-02T12:35:51.387Z"
   },
   {
    "duration": 4,
    "start_time": "2021-11-02T12:36:08.909Z"
   },
   {
    "duration": 171,
    "start_time": "2021-11-02T12:36:09.568Z"
   },
   {
    "duration": 9,
    "start_time": "2021-11-02T12:36:09.887Z"
   },
   {
    "duration": 16,
    "start_time": "2021-11-02T12:36:10.119Z"
   },
   {
    "duration": 4,
    "start_time": "2021-11-02T12:36:10.652Z"
   },
   {
    "duration": 7,
    "start_time": "2021-11-02T12:36:11.704Z"
   },
   {
    "duration": 8,
    "start_time": "2021-11-02T12:36:12.365Z"
   },
   {
    "duration": 5,
    "start_time": "2021-11-02T12:36:12.935Z"
   },
   {
    "duration": 9,
    "start_time": "2021-11-02T12:36:14.794Z"
   },
   {
    "duration": 26,
    "start_time": "2021-11-02T12:36:15.988Z"
   },
   {
    "duration": 16,
    "start_time": "2021-11-02T12:36:17.723Z"
   },
   {
    "duration": 11,
    "start_time": "2021-11-02T12:36:20.832Z"
   },
   {
    "duration": 15,
    "start_time": "2021-11-02T12:36:23.331Z"
   },
   {
    "duration": 7,
    "start_time": "2021-11-02T12:36:26.068Z"
   },
   {
    "duration": 7,
    "start_time": "2021-11-02T12:36:26.480Z"
   },
   {
    "duration": 5,
    "start_time": "2021-11-02T12:36:26.971Z"
   },
   {
    "duration": 476,
    "start_time": "2021-11-02T12:36:28.732Z"
   },
   {
    "duration": 6,
    "start_time": "2021-11-02T12:36:30.239Z"
   },
   {
    "duration": 5,
    "start_time": "2021-11-02T12:36:33.586Z"
   },
   {
    "duration": 17,
    "start_time": "2021-11-02T12:36:34.287Z"
   },
   {
    "duration": 678,
    "start_time": "2021-11-02T12:36:34.958Z"
   },
   {
    "duration": 22,
    "start_time": "2021-11-02T12:36:37.859Z"
   },
   {
    "duration": 188,
    "start_time": "2021-11-02T12:36:38.936Z"
   },
   {
    "duration": 1485,
    "start_time": "2021-11-03T06:51:33.905Z"
   },
   {
    "duration": 189,
    "start_time": "2021-11-03T06:51:35.393Z"
   },
   {
    "duration": 13,
    "start_time": "2021-11-03T06:51:35.586Z"
   },
   {
    "duration": 29,
    "start_time": "2021-11-03T06:51:35.602Z"
   },
   {
    "duration": 11,
    "start_time": "2021-11-03T06:51:35.634Z"
   },
   {
    "duration": 9,
    "start_time": "2021-11-03T06:51:37.212Z"
   },
   {
    "duration": 9,
    "start_time": "2021-11-03T06:51:37.602Z"
   },
   {
    "duration": 6,
    "start_time": "2021-11-03T06:51:37.850Z"
   },
   {
    "duration": 9,
    "start_time": "2021-11-03T06:51:39.450Z"
   },
   {
    "duration": 40,
    "start_time": "2021-11-03T06:51:40.232Z"
   },
   {
    "duration": 439,
    "start_time": "2021-11-03T06:52:16.217Z"
   },
   {
    "duration": 6,
    "start_time": "2021-11-03T07:36:40.949Z"
   },
   {
    "duration": 311,
    "start_time": "2021-11-03T07:37:16.995Z"
   },
   {
    "duration": 5,
    "start_time": "2021-11-03T07:37:36.239Z"
   },
   {
    "duration": 3,
    "start_time": "2021-11-03T07:37:39.571Z"
   },
   {
    "duration": 6,
    "start_time": "2021-11-03T07:37:41.684Z"
   },
   {
    "duration": 297,
    "start_time": "2021-11-03T07:38:13.700Z"
   },
   {
    "duration": 320,
    "start_time": "2021-11-03T07:53:18.547Z"
   },
   {
    "duration": 7190,
    "start_time": "2021-11-03T07:53:31.150Z"
   },
   {
    "duration": 6992,
    "start_time": "2021-11-03T07:53:40.737Z"
   },
   {
    "duration": 309,
    "start_time": "2021-11-03T07:54:17.971Z"
   },
   {
    "duration": 369,
    "start_time": "2021-11-03T07:54:27.808Z"
   },
   {
    "duration": 2336,
    "start_time": "2021-11-03T07:54:31.184Z"
   },
   {
    "duration": 360,
    "start_time": "2021-11-03T07:54:56.100Z"
   },
   {
    "duration": 328,
    "start_time": "2021-11-03T07:55:06.170Z"
   },
   {
    "duration": 7626,
    "start_time": "2021-11-03T07:55:15.089Z"
   },
   {
    "duration": 6939,
    "start_time": "2021-11-03T07:55:31.797Z"
   },
   {
    "duration": 309,
    "start_time": "2021-11-03T07:56:31.663Z"
   },
   {
    "duration": 301,
    "start_time": "2021-11-03T07:56:37.810Z"
   },
   {
    "duration": 294,
    "start_time": "2021-11-03T07:56:57.361Z"
   },
   {
    "duration": 337,
    "start_time": "2021-11-03T07:57:00.473Z"
   },
   {
    "duration": 314,
    "start_time": "2021-11-03T07:57:11.688Z"
   },
   {
    "duration": 331,
    "start_time": "2021-11-03T07:57:17.284Z"
   },
   {
    "duration": 310,
    "start_time": "2021-11-03T07:57:32.976Z"
   },
   {
    "duration": 384,
    "start_time": "2021-11-03T10:29:04.613Z"
   },
   {
    "duration": 363,
    "start_time": "2021-11-03T10:29:19.202Z"
   },
   {
    "duration": 1221,
    "start_time": "2021-11-03T10:29:27.263Z"
   },
   {
    "duration": 189,
    "start_time": "2021-11-03T10:29:28.486Z"
   },
   {
    "duration": 9,
    "start_time": "2021-11-03T10:29:28.677Z"
   },
   {
    "duration": 15,
    "start_time": "2021-11-03T10:29:28.687Z"
   },
   {
    "duration": 5,
    "start_time": "2021-11-03T10:29:28.703Z"
   },
   {
    "duration": 7,
    "start_time": "2021-11-03T10:29:28.792Z"
   },
   {
    "duration": 7,
    "start_time": "2021-11-03T10:29:28.993Z"
   },
   {
    "duration": 10,
    "start_time": "2021-11-03T10:29:29.413Z"
   },
   {
    "duration": 7,
    "start_time": "2021-11-03T10:29:30.196Z"
   },
   {
    "duration": 397,
    "start_time": "2021-11-03T10:29:31.375Z"
   },
   {
    "duration": 27,
    "start_time": "2021-11-03T10:30:20.959Z"
   },
   {
    "duration": 25,
    "start_time": "2021-11-03T10:30:38.216Z"
   },
   {
    "duration": 20,
    "start_time": "2021-11-03T10:31:17.249Z"
   },
   {
    "duration": 18,
    "start_time": "2021-11-03T10:31:27.009Z"
   },
   {
    "duration": 2,
    "start_time": "2021-11-03T10:31:39.895Z"
   },
   {
    "duration": 12,
    "start_time": "2021-11-03T10:31:46.252Z"
   },
   {
    "duration": 29,
    "start_time": "2021-11-03T10:33:39.122Z"
   },
   {
    "duration": 11,
    "start_time": "2021-11-03T10:33:50.648Z"
   },
   {
    "duration": 21,
    "start_time": "2021-11-03T10:34:02.180Z"
   },
   {
    "duration": 20,
    "start_time": "2021-11-03T10:34:02.714Z"
   },
   {
    "duration": 847,
    "start_time": "2021-11-03T10:35:44.406Z"
   },
   {
    "duration": 8628,
    "start_time": "2021-11-03T10:35:48.726Z"
   },
   {
    "duration": 15,
    "start_time": "2021-11-03T10:36:08.811Z"
   },
   {
    "duration": 6,
    "start_time": "2021-11-03T10:36:16.520Z"
   },
   {
    "duration": 209,
    "start_time": "2021-11-03T10:36:16.877Z"
   },
   {
    "duration": 8,
    "start_time": "2021-11-03T10:36:17.089Z"
   },
   {
    "duration": 15,
    "start_time": "2021-11-03T10:36:17.208Z"
   },
   {
    "duration": 4,
    "start_time": "2021-11-03T10:36:17.345Z"
   },
   {
    "duration": 6,
    "start_time": "2021-11-03T10:36:18.172Z"
   },
   {
    "duration": 11,
    "start_time": "2021-11-03T10:36:18.513Z"
   },
   {
    "duration": 4,
    "start_time": "2021-11-03T10:36:18.886Z"
   },
   {
    "duration": 7,
    "start_time": "2021-11-03T10:36:21.308Z"
   },
   {
    "duration": 16,
    "start_time": "2021-11-03T10:36:22.498Z"
   },
   {
    "duration": 343,
    "start_time": "2021-11-03T10:36:26.852Z"
   },
   {
    "duration": 17,
    "start_time": "2021-11-03T10:37:15.535Z"
   },
   {
    "duration": 344,
    "start_time": "2021-11-03T10:37:25.651Z"
   },
   {
    "duration": 17,
    "start_time": "2021-11-03T10:38:11.520Z"
   },
   {
    "duration": 16,
    "start_time": "2021-11-03T10:38:43.178Z"
   },
   {
    "duration": 35,
    "start_time": "2021-11-03T10:39:14.812Z"
   },
   {
    "duration": 16,
    "start_time": "2021-11-03T10:39:16.037Z"
   },
   {
    "duration": 358,
    "start_time": "2021-11-03T10:39:58.357Z"
   },
   {
    "duration": 4,
    "start_time": "2021-11-03T10:40:03.435Z"
   },
   {
    "duration": 156,
    "start_time": "2021-11-03T10:40:03.745Z"
   },
   {
    "duration": 15,
    "start_time": "2021-11-03T10:40:03.903Z"
   },
   {
    "duration": 13,
    "start_time": "2021-11-03T10:40:04.030Z"
   },
   {
    "duration": 4,
    "start_time": "2021-11-03T10:40:04.151Z"
   },
   {
    "duration": 10,
    "start_time": "2021-11-03T10:40:04.405Z"
   },
   {
    "duration": 7,
    "start_time": "2021-11-03T10:40:04.538Z"
   },
   {
    "duration": 4,
    "start_time": "2021-11-03T10:40:04.886Z"
   },
   {
    "duration": 6,
    "start_time": "2021-11-03T10:40:05.698Z"
   },
   {
    "duration": 25,
    "start_time": "2021-11-03T10:40:06.711Z"
   },
   {
    "duration": 383,
    "start_time": "2021-11-03T10:40:07.417Z"
   },
   {
    "duration": 35,
    "start_time": "2021-11-03T10:42:11.399Z"
   },
   {
    "duration": 23,
    "start_time": "2021-11-03T10:42:12.920Z"
   },
   {
    "duration": 399,
    "start_time": "2021-11-03T10:42:55.031Z"
   },
   {
    "duration": 396,
    "start_time": "2021-11-03T10:43:16.421Z"
   },
   {
    "duration": 437,
    "start_time": "2021-11-03T10:43:31.596Z"
   },
   {
    "duration": 10977,
    "start_time": "2021-11-03T10:43:50.974Z"
   },
   {
    "duration": 450,
    "start_time": "2021-11-03T11:23:32.917Z"
   },
   {
    "duration": 437,
    "start_time": "2021-11-03T11:25:22.434Z"
   },
   {
    "duration": 368,
    "start_time": "2021-11-03T11:26:07.444Z"
   },
   {
    "duration": 597,
    "start_time": "2021-11-03T11:27:58.349Z"
   },
   {
    "duration": 358,
    "start_time": "2021-11-03T11:28:15.283Z"
   },
   {
    "duration": 11,
    "start_time": "2021-11-03T11:28:48.236Z"
   },
   {
    "duration": 5,
    "start_time": "2021-11-03T11:28:50.836Z"
   },
   {
    "duration": 9,
    "start_time": "2021-11-03T11:28:59.661Z"
   },
   {
    "duration": 350,
    "start_time": "2021-11-03T11:29:25.940Z"
   },
   {
    "duration": 438,
    "start_time": "2021-11-03T11:29:30.244Z"
   },
   {
    "duration": 7,
    "start_time": "2021-11-03T11:29:37.967Z"
   },
   {
    "duration": 11,
    "start_time": "2021-11-03T11:29:40.511Z"
   },
   {
    "duration": 4,
    "start_time": "2021-11-03T11:30:07.131Z"
   },
   {
    "duration": 28,
    "start_time": "2021-11-03T11:30:07.994Z"
   },
   {
    "duration": 16,
    "start_time": "2021-11-03T11:30:13.860Z"
   },
   {
    "duration": 19,
    "start_time": "2021-11-03T11:30:22.521Z"
   },
   {
    "duration": 8,
    "start_time": "2021-11-03T11:30:35.681Z"
   },
   {
    "duration": 3,
    "start_time": "2021-11-03T11:30:36.201Z"
   },
   {
    "duration": 20,
    "start_time": "2021-11-03T11:30:36.609Z"
   },
   {
    "duration": 7,
    "start_time": "2021-11-03T11:44:51.374Z"
   },
   {
    "duration": 9,
    "start_time": "2021-11-03T11:45:22.813Z"
   },
   {
    "duration": 398,
    "start_time": "2021-11-03T11:46:01.208Z"
   },
   {
    "duration": 363,
    "start_time": "2021-11-03T11:46:14.370Z"
   },
   {
    "duration": 18,
    "start_time": "2021-11-03T11:46:22.640Z"
   },
   {
    "duration": 22,
    "start_time": "2021-11-03T11:47:41.908Z"
   },
   {
    "duration": 18,
    "start_time": "2021-11-03T11:47:58.251Z"
   },
   {
    "duration": 14,
    "start_time": "2021-11-03T11:48:15.547Z"
   },
   {
    "duration": 31,
    "start_time": "2021-11-03T11:50:23.316Z"
   },
   {
    "duration": 12,
    "start_time": "2021-11-03T11:50:31.763Z"
   },
   {
    "duration": 2233,
    "start_time": "2021-11-03T11:57:54.945Z"
   },
   {
    "duration": 6,
    "start_time": "2021-11-03T11:58:01.686Z"
   },
   {
    "duration": 9,
    "start_time": "2021-11-03T11:58:02.245Z"
   },
   {
    "duration": 6,
    "start_time": "2021-11-03T11:58:02.721Z"
   },
   {
    "duration": 26,
    "start_time": "2021-11-03T11:58:06.508Z"
   },
   {
    "duration": 679,
    "start_time": "2021-11-03T12:05:23.900Z"
   },
   {
    "duration": 629,
    "start_time": "2021-11-03T12:07:37.452Z"
   },
   {
    "duration": 661,
    "start_time": "2021-11-03T12:07:55.487Z"
   },
   {
    "duration": 628,
    "start_time": "2021-11-03T12:08:01.363Z"
   },
   {
    "duration": 867,
    "start_time": "2021-11-03T12:09:20.598Z"
   },
   {
    "duration": 653,
    "start_time": "2021-11-03T12:10:17.517Z"
   },
   {
    "duration": 679,
    "start_time": "2021-11-03T12:10:27.322Z"
   },
   {
    "duration": 774,
    "start_time": "2021-11-03T12:10:38.154Z"
   },
   {
    "duration": 656,
    "start_time": "2021-11-03T12:20:09.659Z"
   },
   {
    "duration": 4,
    "start_time": "2021-11-03T12:28:23.792Z"
   },
   {
    "duration": 13,
    "start_time": "2021-11-03T12:28:25.551Z"
   },
   {
    "duration": 1094,
    "start_time": "2021-11-03T12:28:26.220Z"
   },
   {
    "duration": 28,
    "start_time": "2021-11-03T12:28:40.644Z"
   },
   {
    "duration": 265,
    "start_time": "2021-11-03T12:28:45.938Z"
   },
   {
    "duration": 231,
    "start_time": "2021-11-03T12:29:16.718Z"
   },
   {
    "duration": 499,
    "start_time": "2021-11-03T12:30:00.795Z"
   },
   {
    "duration": 260,
    "start_time": "2021-11-03T12:30:37.912Z"
   },
   {
    "duration": 4,
    "start_time": "2021-11-03T12:30:59.865Z"
   },
   {
    "duration": 13,
    "start_time": "2021-11-03T12:31:00.320Z"
   },
   {
    "duration": 262,
    "start_time": "2021-11-03T12:31:01.062Z"
   },
   {
    "duration": 22,
    "start_time": "2021-11-03T12:31:04.413Z"
   },
   {
    "duration": 406,
    "start_time": "2021-11-03T12:31:05.951Z"
   },
   {
    "duration": 9,
    "start_time": "2021-11-03T12:31:10.543Z"
   },
   {
    "duration": 157,
    "start_time": "2021-11-03T12:31:11.599Z"
   },
   {
    "duration": 291,
    "start_time": "2021-11-03T12:31:16.969Z"
   },
   {
    "duration": 279,
    "start_time": "2021-11-03T12:31:21.615Z"
   },
   {
    "duration": 145,
    "start_time": "2021-11-03T12:31:26.249Z"
   },
   {
    "duration": 18,
    "start_time": "2021-11-03T12:31:31.123Z"
   },
   {
    "duration": 243,
    "start_time": "2021-11-03T12:31:31.852Z"
   },
   {
    "duration": 6,
    "start_time": "2021-11-03T12:32:34.027Z"
   },
   {
    "duration": 10,
    "start_time": "2021-11-03T12:32:34.660Z"
   },
   {
    "duration": 255,
    "start_time": "2021-11-03T12:32:35.684Z"
   },
   {
    "duration": 251,
    "start_time": "2021-11-03T12:33:04.028Z"
   },
   {
    "duration": 341,
    "start_time": "2021-11-03T12:34:52.126Z"
   },
   {
    "duration": 265,
    "start_time": "2021-11-03T12:34:59.217Z"
   },
   {
    "duration": 261,
    "start_time": "2021-11-03T12:35:15.657Z"
   },
   {
    "duration": 539,
    "start_time": "2021-11-03T12:35:21.300Z"
   },
   {
    "duration": 503,
    "start_time": "2021-11-03T12:35:32.208Z"
   },
   {
    "duration": 12,
    "start_time": "2021-11-03T12:36:06.451Z"
   },
   {
    "duration": 698,
    "start_time": "2021-11-03T12:36:07.151Z"
   },
   {
    "duration": 29,
    "start_time": "2021-11-03T12:36:12.869Z"
   },
   {
    "duration": 1325,
    "start_time": "2021-11-03T12:36:14.014Z"
   },
   {
    "duration": 31,
    "start_time": "2021-11-03T12:36:23.546Z"
   },
   {
    "duration": 2561,
    "start_time": "2021-11-03T12:36:25.367Z"
   },
   {
    "duration": 17,
    "start_time": "2021-11-03T12:36:36.129Z"
   },
   {
    "duration": 463,
    "start_time": "2021-11-03T12:37:45.478Z"
   },
   {
    "duration": 455,
    "start_time": "2021-11-03T12:37:52.173Z"
   },
   {
    "duration": 461,
    "start_time": "2021-11-03T12:37:58.398Z"
   },
   {
    "duration": 239,
    "start_time": "2021-11-03T12:38:02.937Z"
   },
   {
    "duration": 444,
    "start_time": "2021-11-03T12:38:09.087Z"
   },
   {
    "duration": 455,
    "start_time": "2021-11-03T12:38:15.831Z"
   },
   {
    "duration": 457,
    "start_time": "2021-11-03T12:38:20.393Z"
   },
   {
    "duration": 4,
    "start_time": "2021-11-03T12:48:22.410Z"
   },
   {
    "duration": 341,
    "start_time": "2021-11-03T12:49:02.377Z"
   },
   {
    "duration": 3,
    "start_time": "2021-11-03T12:49:14.035Z"
   },
   {
    "duration": 62,
    "start_time": "2021-11-03T12:49:32.521Z"
   },
   {
    "duration": 473,
    "start_time": "2021-11-03T12:50:21.440Z"
   },
   {
    "duration": 75,
    "start_time": "2021-11-03T12:50:36.259Z"
   },
   {
    "duration": 42,
    "start_time": "2021-11-03T12:51:01.135Z"
   },
   {
    "duration": 61,
    "start_time": "2021-11-03T12:51:15.612Z"
   },
   {
    "duration": 57,
    "start_time": "2021-11-03T12:51:37.026Z"
   },
   {
    "duration": 73,
    "start_time": "2021-11-03T12:51:42.113Z"
   },
   {
    "duration": 58,
    "start_time": "2021-11-03T12:51:46.995Z"
   },
   {
    "duration": 40,
    "start_time": "2021-11-03T12:51:53.133Z"
   },
   {
    "duration": 353,
    "start_time": "2021-11-03T12:52:06.934Z"
   },
   {
    "duration": 107,
    "start_time": "2021-11-03T12:52:16.150Z"
   },
   {
    "duration": 203,
    "start_time": "2021-11-03T12:52:26.958Z"
   },
   {
    "duration": 42,
    "start_time": "2021-11-03T12:52:58.623Z"
   },
   {
    "duration": 36,
    "start_time": "2021-11-03T12:53:17.961Z"
   },
   {
    "duration": 37,
    "start_time": "2021-11-03T12:53:28.948Z"
   },
   {
    "duration": 28,
    "start_time": "2021-11-03T12:53:38.947Z"
   },
   {
    "duration": 23,
    "start_time": "2021-11-03T12:53:47.427Z"
   },
   {
    "duration": 20,
    "start_time": "2021-11-03T12:53:51.773Z"
   },
   {
    "duration": 28,
    "start_time": "2021-11-03T12:53:56.174Z"
   },
   {
    "duration": 26,
    "start_time": "2021-11-03T12:54:01.588Z"
   },
   {
    "duration": 46,
    "start_time": "2021-11-03T12:54:11.140Z"
   },
   {
    "duration": 25,
    "start_time": "2021-11-03T12:54:15.770Z"
   },
   {
    "duration": 52,
    "start_time": "2021-11-03T12:54:31.117Z"
   },
   {
    "duration": 98,
    "start_time": "2021-11-03T12:54:36.022Z"
   },
   {
    "duration": 169,
    "start_time": "2021-11-03T12:54:40.750Z"
   },
   {
    "duration": 94,
    "start_time": "2021-11-03T12:54:45.728Z"
   },
   {
    "duration": 186,
    "start_time": "2021-11-03T12:54:49.254Z"
   },
   {
    "duration": 120,
    "start_time": "2021-11-03T12:54:53.955Z"
   },
   {
    "duration": 4,
    "start_time": "2021-11-03T12:55:53.484Z"
   },
   {
    "duration": 10,
    "start_time": "2021-11-03T12:55:53.924Z"
   },
   {
    "duration": 24,
    "start_time": "2021-11-03T12:55:54.332Z"
   },
   {
    "duration": 98,
    "start_time": "2021-11-03T12:55:55.557Z"
   },
   {
    "duration": 10,
    "start_time": "2021-11-03T12:56:10.263Z"
   },
   {
    "duration": 176,
    "start_time": "2021-11-03T12:56:18.315Z"
   },
   {
    "duration": 96,
    "start_time": "2021-11-03T12:57:51.484Z"
   },
   {
    "duration": 92,
    "start_time": "2021-11-03T12:57:56.758Z"
   },
   {
    "duration": 23,
    "start_time": "2021-11-03T12:58:30.333Z"
   },
   {
    "duration": 90,
    "start_time": "2021-11-03T12:58:30.824Z"
   },
   {
    "duration": 33,
    "start_time": "2021-11-03T14:00:22.797Z"
   },
   {
    "duration": 92,
    "start_time": "2021-11-03T14:00:24.161Z"
   },
   {
    "duration": 346,
    "start_time": "2021-11-03T14:00:49.630Z"
   },
   {
    "duration": 4,
    "start_time": "2021-11-03T14:00:57.229Z"
   },
   {
    "duration": 9,
    "start_time": "2021-11-03T14:00:58.142Z"
   },
   {
    "duration": 18,
    "start_time": "2021-11-03T14:01:23.536Z"
   },
   {
    "duration": 21,
    "start_time": "2021-11-03T14:01:31.778Z"
   },
   {
    "duration": 25,
    "start_time": "2021-11-03T14:01:36.810Z"
   },
   {
    "duration": 22,
    "start_time": "2021-11-03T14:01:41.578Z"
   },
   {
    "duration": 39,
    "start_time": "2021-11-03T14:02:07.096Z"
   },
   {
    "duration": 28,
    "start_time": "2021-11-03T14:02:22.417Z"
   },
   {
    "duration": 86,
    "start_time": "2021-11-03T14:02:22.866Z"
   },
   {
    "duration": 4,
    "start_time": "2021-11-03T14:02:39.626Z"
   },
   {
    "duration": 182,
    "start_time": "2021-11-03T14:02:40.445Z"
   },
   {
    "duration": 9,
    "start_time": "2021-11-03T14:02:40.857Z"
   },
   {
    "duration": 12,
    "start_time": "2021-11-03T14:02:41.286Z"
   },
   {
    "duration": 5,
    "start_time": "2021-11-03T14:02:41.774Z"
   },
   {
    "duration": 7,
    "start_time": "2021-11-03T14:02:42.598Z"
   },
   {
    "duration": 7,
    "start_time": "2021-11-03T14:02:42.984Z"
   },
   {
    "duration": 5,
    "start_time": "2021-11-03T14:02:43.391Z"
   },
   {
    "duration": 8,
    "start_time": "2021-11-03T14:02:44.681Z"
   },
   {
    "duration": 7,
    "start_time": "2021-11-03T14:02:45.522Z"
   },
   {
    "duration": 4,
    "start_time": "2021-11-03T14:02:46.032Z"
   },
   {
    "duration": 10,
    "start_time": "2021-11-03T14:02:46.430Z"
   },
   {
    "duration": 3,
    "start_time": "2021-11-03T14:02:48.877Z"
   },
   {
    "duration": 3,
    "start_time": "2021-11-03T14:02:49.454Z"
   },
   {
    "duration": 6,
    "start_time": "2021-11-03T14:02:50.994Z"
   },
   {
    "duration": 7,
    "start_time": "2021-11-03T14:02:51.458Z"
   },
   {
    "duration": 6,
    "start_time": "2021-11-03T14:02:51.915Z"
   },
   {
    "duration": 14,
    "start_time": "2021-11-03T14:02:53.779Z"
   },
   {
    "duration": 592,
    "start_time": "2021-11-03T14:02:55.495Z"
   },
   {
    "duration": 6,
    "start_time": "2021-11-03T14:03:03.452Z"
   },
   {
    "duration": 4,
    "start_time": "2021-11-03T14:03:11.244Z"
   },
   {
    "duration": 14,
    "start_time": "2021-11-03T14:03:11.799Z"
   },
   {
    "duration": 40,
    "start_time": "2021-11-03T14:03:12.334Z"
   },
   {
    "duration": 100,
    "start_time": "2021-11-03T14:03:14.553Z"
   },
   {
    "duration": 169,
    "start_time": "2021-11-03T14:03:45.850Z"
   },
   {
    "duration": 94,
    "start_time": "2021-11-03T14:03:50.472Z"
   },
   {
    "duration": 103,
    "start_time": "2021-11-03T14:03:54.441Z"
   },
   {
    "duration": 126,
    "start_time": "2021-11-03T14:03:57.675Z"
   },
   {
    "duration": 141,
    "start_time": "2021-11-03T14:04:01.315Z"
   },
   {
    "duration": 1153,
    "start_time": "2021-11-03T14:04:07.015Z"
   },
   {
    "duration": 2327,
    "start_time": "2021-11-03T14:04:13.133Z"
   },
   {
    "duration": 147,
    "start_time": "2021-11-03T14:04:21.190Z"
   },
   {
    "duration": 3455,
    "start_time": "2021-11-03T14:04:32.799Z"
   },
   {
    "duration": 139,
    "start_time": "2021-11-03T14:04:47.332Z"
   },
   {
    "duration": 10,
    "start_time": "2021-11-03T14:05:01.835Z"
   },
   {
    "duration": 176,
    "start_time": "2021-11-03T14:05:04.048Z"
   },
   {
    "duration": 11,
    "start_time": "2021-11-03T14:05:32.320Z"
   },
   {
    "duration": 36,
    "start_time": "2021-11-03T14:05:33.031Z"
   },
   {
    "duration": 176,
    "start_time": "2021-11-03T14:05:34.333Z"
   },
   {
    "duration": 10,
    "start_time": "2021-11-03T14:05:40.784Z"
   },
   {
    "duration": 31,
    "start_time": "2021-11-03T14:05:41.452Z"
   },
   {
    "duration": 145,
    "start_time": "2021-11-03T14:05:42.458Z"
   },
   {
    "duration": 11,
    "start_time": "2021-11-03T14:05:48.129Z"
   },
   {
    "duration": 36,
    "start_time": "2021-11-03T14:05:51.344Z"
   },
   {
    "duration": 131,
    "start_time": "2021-11-03T14:05:51.952Z"
   },
   {
    "duration": 1125,
    "start_time": "2021-11-03T14:05:53.135Z"
   },
   {
    "duration": 9303,
    "start_time": "2021-11-03T14:06:04.096Z"
   },
   {
    "duration": 13,
    "start_time": "2021-11-03T14:06:18.646Z"
   },
   {
    "duration": 58,
    "start_time": "2021-11-03T14:06:19.312Z"
   },
   {
    "duration": 1651,
    "start_time": "2021-11-03T14:06:20.151Z"
   },
   {
    "duration": 178,
    "start_time": "2021-11-03T14:06:25.937Z"
   },
   {
    "duration": 11,
    "start_time": "2021-11-03T14:06:30.829Z"
   },
   {
    "duration": 33,
    "start_time": "2021-11-03T14:06:31.046Z"
   },
   {
    "duration": 177,
    "start_time": "2021-11-03T14:06:31.221Z"
   },
   {
    "duration": 10,
    "start_time": "2021-11-03T14:06:38.212Z"
   },
   {
    "duration": 29,
    "start_time": "2021-11-03T14:06:38.728Z"
   },
   {
    "duration": 124,
    "start_time": "2021-11-03T14:06:39.845Z"
   },
   {
    "duration": 381,
    "start_time": "2021-11-03T14:07:28.157Z"
   },
   {
    "duration": 4,
    "start_time": "2021-11-03T14:07:33.431Z"
   },
   {
    "duration": 186,
    "start_time": "2021-11-03T14:07:34.317Z"
   },
   {
    "duration": 9,
    "start_time": "2021-11-03T14:07:34.882Z"
   },
   {
    "duration": 12,
    "start_time": "2021-11-03T14:07:36.079Z"
   },
   {
    "duration": 4,
    "start_time": "2021-11-03T14:07:36.828Z"
   },
   {
    "duration": 7,
    "start_time": "2021-11-03T14:07:38.227Z"
   },
   {
    "duration": 8,
    "start_time": "2021-11-03T14:07:38.815Z"
   },
   {
    "duration": 5,
    "start_time": "2021-11-03T14:07:39.223Z"
   },
   {
    "duration": 7,
    "start_time": "2021-11-03T14:07:40.559Z"
   },
   {
    "duration": 8,
    "start_time": "2021-11-03T14:07:42.067Z"
   },
   {
    "duration": 4,
    "start_time": "2021-11-03T14:07:43.715Z"
   },
   {
    "duration": 11,
    "start_time": "2021-11-03T14:07:44.751Z"
   },
   {
    "duration": 3,
    "start_time": "2021-11-03T14:07:57.380Z"
   },
   {
    "duration": 3,
    "start_time": "2021-11-03T14:07:57.571Z"
   },
   {
    "duration": 8,
    "start_time": "2021-11-03T14:07:59.315Z"
   },
   {
    "duration": 6,
    "start_time": "2021-11-03T14:08:00.546Z"
   },
   {
    "duration": 6,
    "start_time": "2021-11-03T14:08:01.009Z"
   },
   {
    "duration": 15,
    "start_time": "2021-11-03T14:08:05.164Z"
   },
   {
    "duration": 540,
    "start_time": "2021-11-03T14:08:09.048Z"
   },
   {
    "duration": 7,
    "start_time": "2021-11-03T14:08:15.071Z"
   },
   {
    "duration": 4,
    "start_time": "2021-11-03T14:08:49.054Z"
   },
   {
    "duration": 10,
    "start_time": "2021-11-03T14:08:51.036Z"
   },
   {
    "duration": 44,
    "start_time": "2021-11-03T14:08:51.783Z"
   },
   {
    "duration": 124,
    "start_time": "2021-11-03T14:08:53.959Z"
   },
   {
    "duration": 10,
    "start_time": "2021-11-03T14:09:01.569Z"
   },
   {
    "duration": 34,
    "start_time": "2021-11-03T14:09:02.093Z"
   },
   {
    "duration": 173,
    "start_time": "2021-11-03T14:09:02.960Z"
   },
   {
    "duration": 10,
    "start_time": "2021-11-03T14:09:10.076Z"
   },
   {
    "duration": 289,
    "start_time": "2021-11-03T14:09:11.143Z"
   },
   {
    "duration": 531,
    "start_time": "2021-11-03T14:14:54.702Z"
   },
   {
    "duration": 218,
    "start_time": "2021-11-03T14:15:41.640Z"
   },
   {
    "duration": 9360,
    "start_time": "2021-11-03T14:16:14.858Z"
   },
   {
    "duration": 118,
    "start_time": "2021-11-03T14:25:03.323Z"
   },
   {
    "duration": 1370,
    "start_time": "2021-11-03T14:25:10.004Z"
   },
   {
    "duration": 364,
    "start_time": "2021-11-03T14:25:32.127Z"
   },
   {
    "duration": 369,
    "start_time": "2021-11-03T14:25:52.089Z"
   },
   {
    "duration": 382,
    "start_time": "2021-11-03T14:26:27.835Z"
   },
   {
    "duration": 384,
    "start_time": "2021-11-03T14:26:43.023Z"
   },
   {
    "duration": 376,
    "start_time": "2021-11-03T14:27:47.504Z"
   },
   {
    "duration": 112,
    "start_time": "2021-11-03T14:32:17.149Z"
   },
   {
    "duration": 118,
    "start_time": "2021-11-03T14:33:05.898Z"
   },
   {
    "duration": 8597,
    "start_time": "2021-11-03T14:33:11.333Z"
   },
   {
    "duration": 354,
    "start_time": "2021-11-03T14:33:32.808Z"
   },
   {
    "duration": 7,
    "start_time": "2021-11-03T14:33:48.694Z"
   },
   {
    "duration": 4,
    "start_time": "2021-11-03T14:34:25.825Z"
   },
   {
    "duration": 10,
    "start_time": "2021-11-03T14:34:28.949Z"
   },
   {
    "duration": 46,
    "start_time": "2021-11-03T14:34:34.016Z"
   },
   {
    "duration": 178,
    "start_time": "2021-11-03T14:34:42.165Z"
   },
   {
    "duration": 359,
    "start_time": "2021-11-03T14:34:50.219Z"
   },
   {
    "duration": 4,
    "start_time": "2021-11-03T14:35:11.957Z"
   },
   {
    "duration": 9,
    "start_time": "2021-11-03T14:35:12.355Z"
   },
   {
    "duration": 36,
    "start_time": "2021-11-03T14:35:12.856Z"
   },
   {
    "duration": 204,
    "start_time": "2021-11-03T14:35:14.157Z"
   },
   {
    "duration": 14,
    "start_time": "2021-11-03T14:35:30.361Z"
   },
   {
    "duration": 191,
    "start_time": "2021-11-03T14:35:31.370Z"
   },
   {
    "duration": 10,
    "start_time": "2021-11-03T15:01:22.591Z"
   },
   {
    "duration": 55,
    "start_time": "2021-11-03T15:01:22.603Z"
   },
   {
    "duration": 357,
    "start_time": "2021-11-03T15:01:24.025Z"
   },
   {
    "duration": 37,
    "start_time": "2021-11-03T15:01:33.401Z"
   },
   {
    "duration": 175,
    "start_time": "2021-11-03T15:01:34.460Z"
   },
   {
    "duration": 1805,
    "start_time": "2021-11-03T15:01:36.631Z"
   },
   {
    "duration": 1397,
    "start_time": "2021-11-04T05:29:05.661Z"
   },
   {
    "duration": 199,
    "start_time": "2021-11-04T05:29:07.061Z"
   },
   {
    "duration": 12,
    "start_time": "2021-11-04T05:29:07.263Z"
   },
   {
    "duration": 22,
    "start_time": "2021-11-04T05:29:07.278Z"
   },
   {
    "duration": 6,
    "start_time": "2021-11-04T05:29:07.302Z"
   },
   {
    "duration": 8,
    "start_time": "2021-11-04T05:29:07.323Z"
   },
   {
    "duration": 9,
    "start_time": "2021-11-04T05:29:07.347Z"
   },
   {
    "duration": 6,
    "start_time": "2021-11-04T05:29:07.499Z"
   },
   {
    "duration": 9,
    "start_time": "2021-11-04T05:29:07.977Z"
   },
   {
    "duration": 11,
    "start_time": "2021-11-04T05:29:08.296Z"
   },
   {
    "duration": 4,
    "start_time": "2021-11-04T05:29:08.455Z"
   },
   {
    "duration": 15,
    "start_time": "2021-11-04T05:29:08.616Z"
   },
   {
    "duration": 3,
    "start_time": "2021-11-04T05:29:09.631Z"
   },
   {
    "duration": 3,
    "start_time": "2021-11-04T05:29:09.785Z"
   },
   {
    "duration": 398,
    "start_time": "2021-11-04T05:29:10.627Z"
   },
   {
    "duration": 13,
    "start_time": "2021-11-04T05:29:11.014Z"
   },
   {
    "duration": 13,
    "start_time": "2021-11-04T05:29:11.016Z"
   },
   {
    "duration": 259,
    "start_time": "2021-11-04T05:29:11.273Z"
   },
   {
    "duration": 266,
    "start_time": "2021-11-04T05:29:12.066Z"
   },
   {
    "duration": 279,
    "start_time": "2021-11-04T05:29:12.733Z"
   },
   {
    "duration": 251,
    "start_time": "2021-11-04T05:29:13.458Z"
   },
   {
    "duration": 6,
    "start_time": "2021-11-04T05:29:22.992Z"
   },
   {
    "duration": 143,
    "start_time": "2021-11-04T05:29:24.357Z"
   },
   {
    "duration": 12,
    "start_time": "2021-11-04T05:29:25.548Z"
   },
   {
    "duration": 17,
    "start_time": "2021-11-04T05:29:26.550Z"
   },
   {
    "duration": 6,
    "start_time": "2021-11-04T05:29:27.489Z"
   },
   {
    "duration": 9,
    "start_time": "2021-11-04T05:29:28.770Z"
   },
   {
    "duration": 9,
    "start_time": "2021-11-04T05:29:29.380Z"
   },
   {
    "duration": 6,
    "start_time": "2021-11-04T05:29:29.818Z"
   },
   {
    "duration": 9,
    "start_time": "2021-11-04T05:29:31.109Z"
   },
   {
    "duration": 11,
    "start_time": "2021-11-04T05:29:31.941Z"
   },
   {
    "duration": 4,
    "start_time": "2021-11-04T05:29:32.468Z"
   },
   {
    "duration": 15,
    "start_time": "2021-11-04T05:29:33.127Z"
   },
   {
    "duration": 3,
    "start_time": "2021-11-04T05:29:35.385Z"
   },
   {
    "duration": 4,
    "start_time": "2021-11-04T05:29:35.867Z"
   },
   {
    "duration": 264,
    "start_time": "2021-11-04T05:29:38.202Z"
   },
   {
    "duration": 9,
    "start_time": "2021-11-04T05:30:00.136Z"
   },
   {
    "duration": 8,
    "start_time": "2021-11-04T05:30:01.313Z"
   },
   {
    "duration": 8,
    "start_time": "2021-11-04T05:30:03.347Z"
   },
   {
    "duration": 32,
    "start_time": "2021-11-04T05:30:04.741Z"
   },
   {
    "duration": 142,
    "start_time": "2021-11-04T05:30:06.840Z"
   },
   {
    "duration": 5591,
    "start_time": "2021-11-04T05:30:08.481Z"
   },
   {
    "duration": 267,
    "start_time": "2021-11-04T05:30:57.625Z"
   },
   {
    "duration": 6,
    "start_time": "2021-11-04T05:31:06.016Z"
   },
   {
    "duration": 154,
    "start_time": "2021-11-04T05:31:06.853Z"
   },
   {
    "duration": 12,
    "start_time": "2021-11-04T05:31:07.311Z"
   },
   {
    "duration": 21,
    "start_time": "2021-11-04T05:31:08.051Z"
   },
   {
    "duration": 6,
    "start_time": "2021-11-04T05:31:08.681Z"
   },
   {
    "duration": 8,
    "start_time": "2021-11-04T05:31:09.968Z"
   },
   {
    "duration": 9,
    "start_time": "2021-11-04T05:31:10.720Z"
   },
   {
    "duration": 6,
    "start_time": "2021-11-04T05:31:11.245Z"
   },
   {
    "duration": 10,
    "start_time": "2021-11-04T05:31:12.786Z"
   },
   {
    "duration": 10,
    "start_time": "2021-11-04T05:31:14.131Z"
   },
   {
    "duration": 4,
    "start_time": "2021-11-04T05:31:14.885Z"
   },
   {
    "duration": 16,
    "start_time": "2021-11-04T05:31:15.839Z"
   },
   {
    "duration": 3,
    "start_time": "2021-11-04T05:31:19.126Z"
   },
   {
    "duration": 3,
    "start_time": "2021-11-04T05:31:19.657Z"
   },
   {
    "duration": 25,
    "start_time": "2021-11-04T05:32:46.272Z"
   },
   {
    "duration": 7,
    "start_time": "2021-11-04T05:33:39.973Z"
   },
   {
    "duration": 25,
    "start_time": "2021-11-04T05:33:48.340Z"
   },
   {
    "duration": 8,
    "start_time": "2021-11-04T05:34:07.263Z"
   },
   {
    "duration": 10,
    "start_time": "2021-11-04T05:34:33.395Z"
   },
   {
    "duration": 4,
    "start_time": "2021-11-04T05:34:33.907Z"
   },
   {
    "duration": 14,
    "start_time": "2021-11-04T05:34:34.513Z"
   },
   {
    "duration": 3,
    "start_time": "2021-11-04T05:34:41.106Z"
   },
   {
    "duration": 4,
    "start_time": "2021-11-04T05:34:41.505Z"
   },
   {
    "duration": 11,
    "start_time": "2021-11-04T05:34:49.616Z"
   },
   {
    "duration": 7,
    "start_time": "2021-11-04T05:34:50.810Z"
   },
   {
    "duration": 10,
    "start_time": "2021-11-04T05:34:52.315Z"
   },
   {
    "duration": 32,
    "start_time": "2021-11-04T05:34:53.887Z"
   },
   {
    "duration": 522,
    "start_time": "2021-11-04T05:34:57.535Z"
   },
   {
    "duration": 10212,
    "start_time": "2021-11-04T05:35:01.550Z"
   },
   {
    "duration": 464,
    "start_time": "2021-11-04T05:35:11.765Z"
   },
   {
    "duration": 5,
    "start_time": "2021-11-04T05:40:49.323Z"
   },
   {
    "duration": 136,
    "start_time": "2021-11-04T05:40:53.110Z"
   },
   {
    "duration": 461,
    "start_time": "2021-11-04T05:41:20.274Z"
   },
   {
    "duration": 6,
    "start_time": "2021-11-04T05:41:53.890Z"
   },
   {
    "duration": 123,
    "start_time": "2021-11-04T05:42:08.458Z"
   },
   {
    "duration": 411,
    "start_time": "2021-11-04T05:42:09.446Z"
   },
   {
    "duration": 9642,
    "start_time": "2021-11-04T05:42:19.955Z"
   },
   {
    "duration": 3813,
    "start_time": "2021-11-04T05:42:39.439Z"
   },
   {
    "duration": 23,
    "start_time": "2021-11-04T05:43:06.188Z"
   },
   {
    "duration": 285,
    "start_time": "2021-11-04T05:43:16.429Z"
   },
   {
    "duration": 285,
    "start_time": "2021-11-04T05:44:52.590Z"
   },
   {
    "duration": 24,
    "start_time": "2021-11-04T05:45:49.041Z"
   },
   {
    "duration": 265,
    "start_time": "2021-11-04T05:45:52.063Z"
   },
   {
    "duration": 354,
    "start_time": "2021-11-04T05:46:20.950Z"
   },
   {
    "duration": 22,
    "start_time": "2021-11-04T05:47:26.276Z"
   },
   {
    "duration": 3,
    "start_time": "2021-11-04T05:48:03.127Z"
   },
   {
    "duration": 10873,
    "start_time": "2021-11-04T06:27:40.283Z"
   },
   {
    "duration": 52,
    "start_time": "2021-11-04T06:27:58.415Z"
   },
   {
    "duration": 47,
    "start_time": "2021-11-04T06:27:58.964Z"
   },
   {
    "duration": 331,
    "start_time": "2021-11-04T06:27:59.778Z"
   },
   {
    "duration": 3886,
    "start_time": "2021-11-04T06:28:10.936Z"
   },
   {
    "duration": 5415,
    "start_time": "2021-11-04T06:28:19.559Z"
   },
   {
    "duration": 3669,
    "start_time": "2021-11-04T06:28:31.816Z"
   },
   {
    "duration": 1640,
    "start_time": "2021-11-04T08:01:42.256Z"
   },
   {
    "duration": 2688,
    "start_time": "2021-11-04T08:01:43.898Z"
   },
   {
    "duration": 243,
    "start_time": "2021-11-04T08:01:46.347Z"
   },
   {
    "duration": 241,
    "start_time": "2021-11-04T08:01:46.351Z"
   },
   {
    "duration": 240,
    "start_time": "2021-11-04T08:01:46.353Z"
   },
   {
    "duration": 238,
    "start_time": "2021-11-04T08:01:46.356Z"
   },
   {
    "duration": 237,
    "start_time": "2021-11-04T08:01:46.358Z"
   },
   {
    "duration": 237,
    "start_time": "2021-11-04T08:01:46.360Z"
   },
   {
    "duration": 236,
    "start_time": "2021-11-04T08:01:46.362Z"
   },
   {
    "duration": 237,
    "start_time": "2021-11-04T08:01:46.363Z"
   },
   {
    "duration": 236,
    "start_time": "2021-11-04T08:01:46.365Z"
   },
   {
    "duration": 237,
    "start_time": "2021-11-04T08:01:46.366Z"
   },
   {
    "duration": 236,
    "start_time": "2021-11-04T08:01:46.368Z"
   },
   {
    "duration": 235,
    "start_time": "2021-11-04T08:01:46.370Z"
   },
   {
    "duration": 236,
    "start_time": "2021-11-04T08:01:46.371Z"
   },
   {
    "duration": 235,
    "start_time": "2021-11-04T08:01:46.373Z"
   },
   {
    "duration": 234,
    "start_time": "2021-11-04T08:01:46.375Z"
   },
   {
    "duration": 234,
    "start_time": "2021-11-04T08:01:46.376Z"
   },
   {
    "duration": 34,
    "start_time": "2021-11-04T08:02:02.419Z"
   },
   {
    "duration": 38,
    "start_time": "2021-11-04T08:02:09.272Z"
   },
   {
    "duration": 12,
    "start_time": "2021-11-04T08:02:10.003Z"
   },
   {
    "duration": 27,
    "start_time": "2021-11-04T08:02:12.740Z"
   },
   {
    "duration": 8,
    "start_time": "2021-11-04T08:02:12.937Z"
   },
   {
    "duration": 10,
    "start_time": "2021-11-04T08:02:13.248Z"
   },
   {
    "duration": 8,
    "start_time": "2021-11-04T08:02:13.418Z"
   },
   {
    "duration": 6,
    "start_time": "2021-11-04T08:02:13.586Z"
   },
   {
    "duration": 10,
    "start_time": "2021-11-04T08:02:14.165Z"
   },
   {
    "duration": 13,
    "start_time": "2021-11-04T08:02:14.589Z"
   },
   {
    "duration": 6,
    "start_time": "2021-11-04T08:02:14.776Z"
   },
   {
    "duration": 16,
    "start_time": "2021-11-04T08:02:15.040Z"
   },
   {
    "duration": 3,
    "start_time": "2021-11-04T08:02:17.898Z"
   },
   {
    "duration": 4,
    "start_time": "2021-11-04T08:02:18.433Z"
   },
   {
    "duration": 10,
    "start_time": "2021-11-04T08:02:20.441Z"
   },
   {
    "duration": 9,
    "start_time": "2021-11-04T08:02:20.721Z"
   },
   {
    "duration": 5,
    "start_time": "2021-11-04T08:02:21.005Z"
   },
   {
    "duration": 30,
    "start_time": "2021-11-04T08:02:22.126Z"
   },
   {
    "duration": 4,
    "start_time": "2021-11-04T08:02:46.233Z"
   },
   {
    "duration": 371,
    "start_time": "2021-11-04T08:02:47.009Z"
   },
   {
    "duration": 354,
    "start_time": "2021-11-04T08:03:11.092Z"
   },
   {
    "duration": 335,
    "start_time": "2021-11-04T08:03:11.746Z"
   },
   {
    "duration": 344,
    "start_time": "2021-11-04T08:03:16.757Z"
   },
   {
    "duration": 336,
    "start_time": "2021-11-04T08:03:20.403Z"
   },
   {
    "duration": 32,
    "start_time": "2021-11-04T08:03:26.465Z"
   },
   {
    "duration": 9,
    "start_time": "2021-11-04T08:03:31.592Z"
   },
   {
    "duration": 379,
    "start_time": "2021-11-04T08:04:27.568Z"
   },
   {
    "duration": 28,
    "start_time": "2021-11-04T08:04:31.928Z"
   },
   {
    "duration": 9,
    "start_time": "2021-11-04T08:04:35.898Z"
   },
   {
    "duration": 358,
    "start_time": "2021-11-04T08:04:36.443Z"
   },
   {
    "duration": 25,
    "start_time": "2021-11-04T08:04:47.569Z"
   },
   {
    "duration": 404,
    "start_time": "2021-11-04T08:04:48.379Z"
   },
   {
    "duration": 8,
    "start_time": "2021-11-04T08:05:04.010Z"
   },
   {
    "duration": 8,
    "start_time": "2021-11-04T08:05:04.353Z"
   },
   {
    "duration": 5,
    "start_time": "2021-11-04T08:05:04.719Z"
   },
   {
    "duration": 318,
    "start_time": "2021-11-04T08:05:08.455Z"
   },
   {
    "duration": 28,
    "start_time": "2021-11-04T08:05:21.622Z"
   },
   {
    "duration": 377,
    "start_time": "2021-11-04T08:05:22.390Z"
   },
   {
    "duration": 4,
    "start_time": "2021-11-04T08:05:27.102Z"
   },
   {
    "duration": 1957,
    "start_time": "2021-11-04T08:05:27.554Z"
   },
   {
    "duration": 353,
    "start_time": "2021-11-04T08:05:31.325Z"
   },
   {
    "duration": 5,
    "start_time": "2021-11-04T08:05:42.266Z"
   },
   {
    "duration": 126,
    "start_time": "2021-11-04T08:05:43.784Z"
   },
   {
    "duration": 775,
    "start_time": "2021-11-04T08:05:48.123Z"
   },
   {
    "duration": 53,
    "start_time": "2021-11-04T08:05:50.230Z"
   },
   {
    "duration": 966,
    "start_time": "2021-11-04T08:05:52.902Z"
   },
   {
    "duration": 58,
    "start_time": "2021-11-04T08:05:54.634Z"
   },
   {
    "duration": 1110,
    "start_time": "2021-11-04T08:05:57.079Z"
   },
   {
    "duration": 80,
    "start_time": "2021-11-04T08:05:58.191Z"
   },
   {
    "duration": 786,
    "start_time": "2021-11-04T08:06:04.205Z"
   },
   {
    "duration": 68,
    "start_time": "2021-11-04T08:06:04.994Z"
   },
   {
    "duration": 697,
    "start_time": "2021-11-04T08:06:06.937Z"
   },
   {
    "duration": 50,
    "start_time": "2021-11-04T08:06:07.636Z"
   },
   {
    "duration": 2482,
    "start_time": "2021-11-04T08:07:55.270Z"
   },
   {
    "duration": 305,
    "start_time": "2021-11-04T11:30:11.726Z"
   },
   {
    "duration": 1177,
    "start_time": "2021-11-04T11:30:16.715Z"
   },
   {
    "duration": 137,
    "start_time": "2021-11-04T11:30:17.894Z"
   },
   {
    "duration": 10,
    "start_time": "2021-11-04T11:30:18.033Z"
   },
   {
    "duration": 15,
    "start_time": "2021-11-04T11:30:18.046Z"
   },
   {
    "duration": 5,
    "start_time": "2021-11-04T11:30:18.063Z"
   },
   {
    "duration": 9,
    "start_time": "2021-11-04T11:30:18.069Z"
   },
   {
    "duration": 20,
    "start_time": "2021-11-04T11:30:18.079Z"
   },
   {
    "duration": 5,
    "start_time": "2021-11-04T11:30:18.190Z"
   },
   {
    "duration": 8,
    "start_time": "2021-11-04T11:30:18.643Z"
   },
   {
    "duration": 8,
    "start_time": "2021-11-04T11:30:18.938Z"
   },
   {
    "duration": 3,
    "start_time": "2021-11-04T11:30:19.049Z"
   },
   {
    "duration": 9,
    "start_time": "2021-11-04T11:30:19.196Z"
   },
   {
    "duration": 2,
    "start_time": "2021-11-04T11:30:20.285Z"
   },
   {
    "duration": 2,
    "start_time": "2021-11-04T11:30:20.440Z"
   },
   {
    "duration": 7,
    "start_time": "2021-11-04T11:30:21.206Z"
   },
   {
    "duration": 6,
    "start_time": "2021-11-04T11:30:21.395Z"
   },
   {
    "duration": 5,
    "start_time": "2021-11-04T11:30:21.573Z"
   },
   {
    "duration": 25,
    "start_time": "2021-11-04T11:30:21.885Z"
   },
   {
    "duration": 415,
    "start_time": "2021-11-04T11:30:22.385Z"
   },
   {
    "duration": 7208,
    "start_time": "2021-11-04T11:30:22.802Z"
   },
   {
    "duration": 338,
    "start_time": "2021-11-04T11:30:30.012Z"
   },
   {
    "duration": 6,
    "start_time": "2021-11-04T11:30:30.352Z"
   },
   {
    "duration": 18,
    "start_time": "2021-11-04T11:30:30.359Z"
   },
   {
    "duration": 88,
    "start_time": "2021-11-04T11:30:30.379Z"
   },
   {
    "duration": 210,
    "start_time": "2021-11-04T11:30:30.469Z"
   },
   {
    "duration": 3123,
    "start_time": "2021-11-04T11:30:30.681Z"
   },
   {
    "duration": 23,
    "start_time": "2021-11-04T11:30:37.831Z"
   },
   {
    "duration": 20,
    "start_time": "2021-11-04T11:30:39.203Z"
   },
   {
    "duration": 160,
    "start_time": "2021-11-04T11:30:40.888Z"
   },
   {
    "duration": 9997,
    "start_time": "2021-11-04T11:30:49.000Z"
   },
   {
    "duration": 59,
    "start_time": "2021-11-04T11:31:02.144Z"
   },
   {
    "duration": 51,
    "start_time": "2021-11-04T11:31:03.169Z"
   },
   {
    "duration": 207,
    "start_time": "2021-11-04T11:31:04.706Z"
   },
   {
    "duration": 14053,
    "start_time": "2021-11-04T11:31:18.007Z"
   },
   {
    "duration": 82,
    "start_time": "2021-11-04T11:31:37.957Z"
   },
   {
    "duration": 1911,
    "start_time": "2021-11-04T11:31:47.306Z"
   },
   {
    "duration": 16,
    "start_time": "2021-11-04T11:31:52.798Z"
   },
   {
    "duration": 13,
    "start_time": "2021-11-04T11:31:53.336Z"
   },
   {
    "duration": 163,
    "start_time": "2021-11-04T11:31:54.194Z"
   },
   {
    "duration": 2341,
    "start_time": "2021-11-04T11:33:38.218Z"
   },
   {
    "duration": 1899,
    "start_time": "2021-11-04T11:33:47.917Z"
   },
   {
    "duration": 16,
    "start_time": "2021-11-04T11:33:55.661Z"
   },
   {
    "duration": 14,
    "start_time": "2021-11-04T11:33:56.535Z"
   },
   {
    "duration": 2096,
    "start_time": "2021-11-04T11:34:38.314Z"
   },
   {
    "duration": 267,
    "start_time": "2021-11-04T11:34:58.734Z"
   },
   {
    "duration": 4,
    "start_time": "2021-11-04T11:35:08.723Z"
   },
   {
    "duration": 2047,
    "start_time": "2021-11-04T11:35:20.060Z"
   },
   {
    "duration": 4,
    "start_time": "2021-11-04T11:36:25.694Z"
   },
   {
    "duration": 2045,
    "start_time": "2021-11-04T11:36:31.627Z"
   },
   {
    "duration": 1862,
    "start_time": "2021-11-04T11:38:55.673Z"
   },
   {
    "duration": 16,
    "start_time": "2021-11-04T11:39:00.261Z"
   },
   {
    "duration": 14,
    "start_time": "2021-11-04T11:39:01.078Z"
   },
   {
    "duration": 180,
    "start_time": "2021-11-04T11:39:01.675Z"
   },
   {
    "duration": 4,
    "start_time": "2021-11-04T11:39:49.368Z"
   },
   {
    "duration": 16,
    "start_time": "2021-11-04T11:39:49.755Z"
   },
   {
    "duration": 56,
    "start_time": "2021-11-04T11:39:50.451Z"
   },
   {
    "duration": 360,
    "start_time": "2021-11-04T11:39:53.296Z"
   },
   {
    "duration": 17,
    "start_time": "2021-11-04T11:39:58.500Z"
   },
   {
    "duration": 20,
    "start_time": "2021-11-04T11:39:59.847Z"
   },
   {
    "duration": 227,
    "start_time": "2021-11-04T11:40:00.850Z"
   },
   {
    "duration": 21,
    "start_time": "2021-11-04T11:40:47.841Z"
   },
   {
    "duration": 5,
    "start_time": "2021-11-04T11:41:06.253Z"
   },
   {
    "duration": 403,
    "start_time": "2021-11-04T11:41:30.670Z"
   },
   {
    "duration": 16,
    "start_time": "2021-11-04T11:41:35.499Z"
   },
   {
    "duration": 395,
    "start_time": "2021-11-04T11:41:43.302Z"
   },
   {
    "duration": 17,
    "start_time": "2021-11-04T11:41:47.355Z"
   },
   {
    "duration": 16,
    "start_time": "2021-11-04T11:41:48.429Z"
   },
   {
    "duration": 169,
    "start_time": "2021-11-04T11:41:49.487Z"
   },
   {
    "duration": 423,
    "start_time": "2021-11-04T11:41:58.956Z"
   },
   {
    "duration": 18,
    "start_time": "2021-11-04T11:42:01.758Z"
   },
   {
    "duration": 436,
    "start_time": "2021-11-04T11:42:06.213Z"
   },
   {
    "duration": 17,
    "start_time": "2021-11-04T11:42:08.680Z"
   },
   {
    "duration": 17,
    "start_time": "2021-11-04T11:42:10.293Z"
   },
   {
    "duration": 167,
    "start_time": "2021-11-04T11:42:11.176Z"
   },
   {
    "duration": 501,
    "start_time": "2021-11-04T11:42:20.946Z"
   },
   {
    "duration": 18,
    "start_time": "2021-11-04T11:42:23.621Z"
   },
   {
    "duration": 528,
    "start_time": "2021-11-04T11:42:29.000Z"
   },
   {
    "duration": 19,
    "start_time": "2021-11-04T11:42:31.681Z"
   },
   {
    "duration": 479,
    "start_time": "2021-11-04T11:42:37.168Z"
   },
   {
    "duration": 19,
    "start_time": "2021-11-04T11:42:38.852Z"
   },
   {
    "duration": 429,
    "start_time": "2021-11-04T11:42:43.746Z"
   },
   {
    "duration": 17,
    "start_time": "2021-11-04T11:42:46.186Z"
   },
   {
    "duration": 441,
    "start_time": "2021-11-04T11:42:51.427Z"
   },
   {
    "duration": 19,
    "start_time": "2021-11-04T11:42:53.896Z"
   },
   {
    "duration": 460,
    "start_time": "2021-11-04T11:43:00.389Z"
   },
   {
    "duration": 17,
    "start_time": "2021-11-04T11:43:02.776Z"
   },
   {
    "duration": 17,
    "start_time": "2021-11-04T11:43:05.320Z"
   },
   {
    "duration": 176,
    "start_time": "2021-11-04T11:43:06.120Z"
   }
  ],
  "kernelspec": {
   "display_name": "Python 3 (ipykernel)",
   "language": "python",
   "name": "python3"
  },
  "language_info": {
   "codemirror_mode": {
    "name": "ipython",
    "version": 3
   },
   "file_extension": ".py",
   "mimetype": "text/x-python",
   "name": "python",
   "nbconvert_exporter": "python",
   "pygments_lexer": "ipython3",
   "version": "3.8.9"
  },
  "toc": {
   "base_numbering": 1,
   "nav_menu": {},
   "number_sections": true,
   "sideBar": true,
   "skip_h1_title": true,
   "title_cell": "Содержание",
   "title_sidebar": "Contents",
   "toc_cell": true,
   "toc_position": {},
   "toc_section_display": true,
   "toc_window_display": true
  }
 },
 "nbformat": 4,
 "nbformat_minor": 2
}