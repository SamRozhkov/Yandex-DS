{
 "cells": [
  {
   "cell_type": "markdown",
   "metadata": {
    "datalore": {
     "sheet_delimiter": false,
     "type": "MD"
    },
    "jupyter": {
     "outputs_hidden": false,
     "source_hidden": false
    },
    "pycharm": {
     "name": "#%% md\n"
    }
   },
   "source": [
    "# Прогнозирование оттока клиентов в сети отелей «Как в гостях»"
   ]
  },
  {
   "cell_type": "markdown",
   "metadata": {
    "datalore": {
     "sheet_delimiter": false,
     "type": "MD"
    },
    "jupyter": {
     "outputs_hidden": false,
     "source_hidden": false
    },
    "pycharm": {
     "name": "#%% md\n"
    }
   },
   "source": [
    "### Шаг 1. Откройте файлы с данными"
   ]
  },
  {
   "cell_type": "code",
   "execution_count": 1,
   "metadata": {
    "datalore": {
     "sheet_delimiter": false,
     "type": "CODE"
    },
    "jupyter": {
     "outputs_hidden": false,
     "source_hidden": false
    },
    "pycharm": {
     "name": "#%%\n"
    }
   },
   "outputs": [],
   "source": [
    "import pandas as pd\n",
    "%matplotlib inline\n",
    "import matplotlib.pyplot as plt\n",
    "import seaborn as sns\n",
    "import numpy as np\n",
    "from sklearn.linear_model import LogisticRegression\n",
    "from sklearn.ensemble import RandomForestClassifier \n",
    "from sklearn.preprocessing import OrdinalEncoder \n",
    "from sklearn.preprocessing import StandardScaler\n",
    "from sklearn.metrics import accuracy_score\n",
    "from sklearn.dummy import DummyClassifier\n",
    "from sklearn.metrics import f1_score\n",
    "from sklearn.utils import shuffle\n",
    "from sklearn.metrics import roc_curve \n",
    "from sklearn.metrics import roc_auc_score, classification_report\n",
    "from sklearn.model_selection import cross_val_score\n",
    "import seaborn as sns"
   ]
  },
  {
   "cell_type": "code",
   "execution_count": 2,
   "metadata": {
    "datalore": {
     "sheet_delimiter": false,
     "type": "CODE"
    },
    "jupyter": {
     "outputs_hidden": false,
     "source_hidden": false
    },
    "pycharm": {
     "name": "#%%\n"
    }
   },
   "outputs": [],
   "source": [
    "pd.options.mode.chained_assignment = None"
   ]
  },
  {
   "cell_type": "code",
   "execution_count": 3,
   "metadata": {
    "datalore": {
     "sheet_delimiter": false,
     "type": "CODE"
    },
    "jupyter": {
     "outputs_hidden": false,
     "source_hidden": false
    },
    "pycharm": {
     "name": "#%%\n"
    }
   },
   "outputs": [],
   "source": [
    "hotel_train = pd.read_csv('https://code.s3.yandex.net/datasets/hotel_train.csv')\n",
    "hotel_test = pd.read_csv('https://code.s3.yandex.net/datasets/hotel_test.csv')"
   ]
  },
  {
   "cell_type": "code",
   "execution_count": 4,
   "metadata": {
    "datalore": {
     "sheet_delimiter": false,
     "type": "CODE"
    },
    "jupyter": {
     "outputs_hidden": false,
     "source_hidden": false
    },
    "pycharm": {
     "name": "#%%\n"
    }
   },
   "outputs": [
    {
     "data": {
      "text/html": [
       "<div>\n",
       "<style scoped>\n",
       "    .dataframe tbody tr th:only-of-type {\n",
       "        vertical-align: middle;\n",
       "    }\n",
       "\n",
       "    .dataframe tbody tr th {\n",
       "        vertical-align: top;\n",
       "    }\n",
       "\n",
       "    .dataframe thead th {\n",
       "        text-align: right;\n",
       "    }\n",
       "</style>\n",
       "<table border=\"1\" class=\"dataframe\">\n",
       "  <thead>\n",
       "    <tr style=\"text-align: right;\">\n",
       "      <th></th>\n",
       "      <th>id</th>\n",
       "      <th>is_canceled</th>\n",
       "      <th>lead_time</th>\n",
       "      <th>arrival_date_year</th>\n",
       "      <th>arrival_date_month</th>\n",
       "      <th>arrival_date_week_number</th>\n",
       "      <th>arrival_date_day_of_month</th>\n",
       "      <th>stays_in_weekend_nights</th>\n",
       "      <th>stays_in_week_nights</th>\n",
       "      <th>adults</th>\n",
       "      <th>...</th>\n",
       "      <th>is_repeated_guest</th>\n",
       "      <th>previous_cancellations</th>\n",
       "      <th>previous_bookings_not_canceled</th>\n",
       "      <th>reserved_room_type</th>\n",
       "      <th>booking_changes</th>\n",
       "      <th>days_in_waiting_list</th>\n",
       "      <th>customer_type</th>\n",
       "      <th>required_car_parking_spaces</th>\n",
       "      <th>total_of_special_requests</th>\n",
       "      <th>total_nights</th>\n",
       "    </tr>\n",
       "  </thead>\n",
       "  <tbody>\n",
       "    <tr>\n",
       "      <td>0</td>\n",
       "      <td>0</td>\n",
       "      <td>0</td>\n",
       "      <td>7.0</td>\n",
       "      <td>2015</td>\n",
       "      <td>July</td>\n",
       "      <td>27</td>\n",
       "      <td>1</td>\n",
       "      <td>0</td>\n",
       "      <td>1</td>\n",
       "      <td>1.0</td>\n",
       "      <td>...</td>\n",
       "      <td>0</td>\n",
       "      <td>0</td>\n",
       "      <td>0</td>\n",
       "      <td>A</td>\n",
       "      <td>0</td>\n",
       "      <td>0</td>\n",
       "      <td>Transient</td>\n",
       "      <td>0</td>\n",
       "      <td>0</td>\n",
       "      <td>1</td>\n",
       "    </tr>\n",
       "    <tr>\n",
       "      <td>1</td>\n",
       "      <td>1</td>\n",
       "      <td>0</td>\n",
       "      <td>14.0</td>\n",
       "      <td>2015</td>\n",
       "      <td>July</td>\n",
       "      <td>27</td>\n",
       "      <td>1</td>\n",
       "      <td>0</td>\n",
       "      <td>2</td>\n",
       "      <td>2.0</td>\n",
       "      <td>...</td>\n",
       "      <td>0</td>\n",
       "      <td>0</td>\n",
       "      <td>0</td>\n",
       "      <td>A</td>\n",
       "      <td>0</td>\n",
       "      <td>0</td>\n",
       "      <td>Transient</td>\n",
       "      <td>0</td>\n",
       "      <td>1</td>\n",
       "      <td>2</td>\n",
       "    </tr>\n",
       "    <tr>\n",
       "      <td>2</td>\n",
       "      <td>2</td>\n",
       "      <td>0</td>\n",
       "      <td>0.0</td>\n",
       "      <td>2015</td>\n",
       "      <td>July</td>\n",
       "      <td>27</td>\n",
       "      <td>1</td>\n",
       "      <td>0</td>\n",
       "      <td>2</td>\n",
       "      <td>2.0</td>\n",
       "      <td>...</td>\n",
       "      <td>0</td>\n",
       "      <td>0</td>\n",
       "      <td>0</td>\n",
       "      <td>C</td>\n",
       "      <td>0</td>\n",
       "      <td>0</td>\n",
       "      <td>Transient</td>\n",
       "      <td>0</td>\n",
       "      <td>0</td>\n",
       "      <td>2</td>\n",
       "    </tr>\n",
       "    <tr>\n",
       "      <td>3</td>\n",
       "      <td>3</td>\n",
       "      <td>0</td>\n",
       "      <td>9.0</td>\n",
       "      <td>2015</td>\n",
       "      <td>July</td>\n",
       "      <td>27</td>\n",
       "      <td>1</td>\n",
       "      <td>0</td>\n",
       "      <td>2</td>\n",
       "      <td>2.0</td>\n",
       "      <td>...</td>\n",
       "      <td>0</td>\n",
       "      <td>0</td>\n",
       "      <td>0</td>\n",
       "      <td>C</td>\n",
       "      <td>0</td>\n",
       "      <td>0</td>\n",
       "      <td>Transient</td>\n",
       "      <td>0</td>\n",
       "      <td>1</td>\n",
       "      <td>2</td>\n",
       "    </tr>\n",
       "    <tr>\n",
       "      <td>4</td>\n",
       "      <td>4</td>\n",
       "      <td>1</td>\n",
       "      <td>85.0</td>\n",
       "      <td>2015</td>\n",
       "      <td>July</td>\n",
       "      <td>27</td>\n",
       "      <td>1</td>\n",
       "      <td>0</td>\n",
       "      <td>3</td>\n",
       "      <td>2.0</td>\n",
       "      <td>...</td>\n",
       "      <td>0</td>\n",
       "      <td>0</td>\n",
       "      <td>0</td>\n",
       "      <td>A</td>\n",
       "      <td>0</td>\n",
       "      <td>0</td>\n",
       "      <td>Transient</td>\n",
       "      <td>0</td>\n",
       "      <td>1</td>\n",
       "      <td>3</td>\n",
       "    </tr>\n",
       "  </tbody>\n",
       "</table>\n",
       "<p>5 rows × 25 columns</p>\n",
       "</div>"
      ],
      "text/plain": [
       "   id  is_canceled  lead_time  arrival_date_year arrival_date_month  \\\n",
       "0   0            0        7.0               2015               July   \n",
       "1   1            0       14.0               2015               July   \n",
       "2   2            0        0.0               2015               July   \n",
       "3   3            0        9.0               2015               July   \n",
       "4   4            1       85.0               2015               July   \n",
       "\n",
       "   arrival_date_week_number  arrival_date_day_of_month  \\\n",
       "0                        27                          1   \n",
       "1                        27                          1   \n",
       "2                        27                          1   \n",
       "3                        27                          1   \n",
       "4                        27                          1   \n",
       "\n",
       "   stays_in_weekend_nights  stays_in_week_nights  adults  ...  \\\n",
       "0                        0                     1     1.0  ...   \n",
       "1                        0                     2     2.0  ...   \n",
       "2                        0                     2     2.0  ...   \n",
       "3                        0                     2     2.0  ...   \n",
       "4                        0                     3     2.0  ...   \n",
       "\n",
       "   is_repeated_guest  previous_cancellations previous_bookings_not_canceled  \\\n",
       "0                  0                       0                              0   \n",
       "1                  0                       0                              0   \n",
       "2                  0                       0                              0   \n",
       "3                  0                       0                              0   \n",
       "4                  0                       0                              0   \n",
       "\n",
       "  reserved_room_type booking_changes  days_in_waiting_list  customer_type  \\\n",
       "0   A                              0                     0      Transient   \n",
       "1   A                              0                     0      Transient   \n",
       "2   C                              0                     0      Transient   \n",
       "3   C                              0                     0      Transient   \n",
       "4   A                              0                     0      Transient   \n",
       "\n",
       "   required_car_parking_spaces total_of_special_requests  total_nights  \n",
       "0                            0                         0             1  \n",
       "1                            0                         1             2  \n",
       "2                            0                         0             2  \n",
       "3                            0                         1             2  \n",
       "4                            0                         1             3  \n",
       "\n",
       "[5 rows x 25 columns]"
      ]
     },
     "metadata": {},
     "output_type": "display_data"
    }
   ],
   "source": [
    "display(hotel_train.head())"
   ]
  },
  {
   "cell_type": "code",
   "execution_count": 5,
   "metadata": {
    "datalore": {
     "sheet_delimiter": false,
     "type": "CODE"
    },
    "jupyter": {
     "outputs_hidden": false,
     "source_hidden": false
    },
    "pycharm": {
     "name": "#%%\n"
    }
   },
   "outputs": [
    {
     "data": {
      "text/html": [
       "<div>\n",
       "<style scoped>\n",
       "    .dataframe tbody tr th:only-of-type {\n",
       "        vertical-align: middle;\n",
       "    }\n",
       "\n",
       "    .dataframe tbody tr th {\n",
       "        vertical-align: top;\n",
       "    }\n",
       "\n",
       "    .dataframe thead th {\n",
       "        text-align: right;\n",
       "    }\n",
       "</style>\n",
       "<table border=\"1\" class=\"dataframe\">\n",
       "  <thead>\n",
       "    <tr style=\"text-align: right;\">\n",
       "      <th></th>\n",
       "      <th>id</th>\n",
       "      <th>is_canceled</th>\n",
       "      <th>lead_time</th>\n",
       "      <th>arrival_date_year</th>\n",
       "      <th>arrival_date_month</th>\n",
       "      <th>arrival_date_week_number</th>\n",
       "      <th>arrival_date_day_of_month</th>\n",
       "      <th>stays_in_weekend_nights</th>\n",
       "      <th>stays_in_week_nights</th>\n",
       "      <th>adults</th>\n",
       "      <th>...</th>\n",
       "      <th>is_repeated_guest</th>\n",
       "      <th>previous_cancellations</th>\n",
       "      <th>previous_bookings_not_canceled</th>\n",
       "      <th>reserved_room_type</th>\n",
       "      <th>booking_changes</th>\n",
       "      <th>days_in_waiting_list</th>\n",
       "      <th>customer_type</th>\n",
       "      <th>required_car_parking_spaces</th>\n",
       "      <th>total_of_special_requests</th>\n",
       "      <th>total_nights</th>\n",
       "    </tr>\n",
       "  </thead>\n",
       "  <tbody>\n",
       "    <tr>\n",
       "      <td>0</td>\n",
       "      <td>6086</td>\n",
       "      <td>1</td>\n",
       "      <td>74.0</td>\n",
       "      <td>2017</td>\n",
       "      <td>January</td>\n",
       "      <td>1</td>\n",
       "      <td>1</td>\n",
       "      <td>1</td>\n",
       "      <td>0</td>\n",
       "      <td>2.0</td>\n",
       "      <td>...</td>\n",
       "      <td>0</td>\n",
       "      <td>0</td>\n",
       "      <td>0</td>\n",
       "      <td>A</td>\n",
       "      <td>0</td>\n",
       "      <td>0</td>\n",
       "      <td>Transient</td>\n",
       "      <td>0</td>\n",
       "      <td>0</td>\n",
       "      <td>1</td>\n",
       "    </tr>\n",
       "    <tr>\n",
       "      <td>1</td>\n",
       "      <td>6087</td>\n",
       "      <td>1</td>\n",
       "      <td>62.0</td>\n",
       "      <td>2017</td>\n",
       "      <td>January</td>\n",
       "      <td>1</td>\n",
       "      <td>1</td>\n",
       "      <td>2</td>\n",
       "      <td>2</td>\n",
       "      <td>2.0</td>\n",
       "      <td>...</td>\n",
       "      <td>0</td>\n",
       "      <td>0</td>\n",
       "      <td>0</td>\n",
       "      <td>A</td>\n",
       "      <td>0</td>\n",
       "      <td>0</td>\n",
       "      <td>Transient</td>\n",
       "      <td>0</td>\n",
       "      <td>1</td>\n",
       "      <td>4</td>\n",
       "    </tr>\n",
       "    <tr>\n",
       "      <td>2</td>\n",
       "      <td>6088</td>\n",
       "      <td>1</td>\n",
       "      <td>62.0</td>\n",
       "      <td>2017</td>\n",
       "      <td>January</td>\n",
       "      <td>1</td>\n",
       "      <td>1</td>\n",
       "      <td>2</td>\n",
       "      <td>2</td>\n",
       "      <td>2.0</td>\n",
       "      <td>...</td>\n",
       "      <td>0</td>\n",
       "      <td>0</td>\n",
       "      <td>0</td>\n",
       "      <td>A</td>\n",
       "      <td>0</td>\n",
       "      <td>0</td>\n",
       "      <td>Transient</td>\n",
       "      <td>0</td>\n",
       "      <td>1</td>\n",
       "      <td>4</td>\n",
       "    </tr>\n",
       "    <tr>\n",
       "      <td>3</td>\n",
       "      <td>6089</td>\n",
       "      <td>1</td>\n",
       "      <td>71.0</td>\n",
       "      <td>2017</td>\n",
       "      <td>January</td>\n",
       "      <td>1</td>\n",
       "      <td>1</td>\n",
       "      <td>2</td>\n",
       "      <td>2</td>\n",
       "      <td>1.0</td>\n",
       "      <td>...</td>\n",
       "      <td>0</td>\n",
       "      <td>0</td>\n",
       "      <td>0</td>\n",
       "      <td>A</td>\n",
       "      <td>0</td>\n",
       "      <td>0</td>\n",
       "      <td>Transient</td>\n",
       "      <td>0</td>\n",
       "      <td>1</td>\n",
       "      <td>4</td>\n",
       "    </tr>\n",
       "    <tr>\n",
       "      <td>4</td>\n",
       "      <td>6090</td>\n",
       "      <td>1</td>\n",
       "      <td>172.0</td>\n",
       "      <td>2017</td>\n",
       "      <td>January</td>\n",
       "      <td>1</td>\n",
       "      <td>1</td>\n",
       "      <td>2</td>\n",
       "      <td>5</td>\n",
       "      <td>2.0</td>\n",
       "      <td>...</td>\n",
       "      <td>0</td>\n",
       "      <td>0</td>\n",
       "      <td>0</td>\n",
       "      <td>A</td>\n",
       "      <td>0</td>\n",
       "      <td>0</td>\n",
       "      <td>Transient</td>\n",
       "      <td>0</td>\n",
       "      <td>0</td>\n",
       "      <td>7</td>\n",
       "    </tr>\n",
       "  </tbody>\n",
       "</table>\n",
       "<p>5 rows × 25 columns</p>\n",
       "</div>"
      ],
      "text/plain": [
       "     id  is_canceled  lead_time  arrival_date_year arrival_date_month  \\\n",
       "0  6086            1       74.0               2017            January   \n",
       "1  6087            1       62.0               2017            January   \n",
       "2  6088            1       62.0               2017            January   \n",
       "3  6089            1       71.0               2017            January   \n",
       "4  6090            1      172.0               2017            January   \n",
       "\n",
       "   arrival_date_week_number  arrival_date_day_of_month  \\\n",
       "0                         1                          1   \n",
       "1                         1                          1   \n",
       "2                         1                          1   \n",
       "3                         1                          1   \n",
       "4                         1                          1   \n",
       "\n",
       "   stays_in_weekend_nights  stays_in_week_nights  adults  ...  \\\n",
       "0                        1                     0     2.0  ...   \n",
       "1                        2                     2     2.0  ...   \n",
       "2                        2                     2     2.0  ...   \n",
       "3                        2                     2     1.0  ...   \n",
       "4                        2                     5     2.0  ...   \n",
       "\n",
       "   is_repeated_guest  previous_cancellations previous_bookings_not_canceled  \\\n",
       "0                  0                       0                              0   \n",
       "1                  0                       0                              0   \n",
       "2                  0                       0                              0   \n",
       "3                  0                       0                              0   \n",
       "4                  0                       0                              0   \n",
       "\n",
       "  reserved_room_type booking_changes  days_in_waiting_list  customer_type  \\\n",
       "0   A                              0                     0      Transient   \n",
       "1   A                              0                     0      Transient   \n",
       "2   A                              0                     0      Transient   \n",
       "3   A                              0                     0      Transient   \n",
       "4   A                              0                     0      Transient   \n",
       "\n",
       "   required_car_parking_spaces total_of_special_requests  total_nights  \n",
       "0                            0                         0             1  \n",
       "1                            0                         1             4  \n",
       "2                            0                         1             4  \n",
       "3                            0                         1             4  \n",
       "4                            0                         0             7  \n",
       "\n",
       "[5 rows x 25 columns]"
      ]
     },
     "metadata": {},
     "output_type": "display_data"
    }
   ],
   "source": [
    "display(hotel_test.head())"
   ]
  },
  {
   "cell_type": "code",
   "execution_count": 6,
   "metadata": {
    "datalore": {
     "sheet_delimiter": false,
     "type": "CODE"
    },
    "jupyter": {
     "outputs_hidden": false,
     "source_hidden": false
    },
    "pycharm": {
     "name": "#%%\n"
    }
   },
   "outputs": [
    {
     "name": "stdout",
     "output_type": "stream",
     "text": [
      "<class 'pandas.core.frame.DataFrame'>\n",
      "RangeIndex: 65229 entries, 0 to 65228\n",
      "Data columns (total 25 columns):\n",
      "id                                65229 non-null int64\n",
      "is_canceled                       65229 non-null int64\n",
      "lead_time                         65229 non-null float64\n",
      "arrival_date_year                 65229 non-null int64\n",
      "arrival_date_month                65229 non-null object\n",
      "arrival_date_week_number          65229 non-null int64\n",
      "arrival_date_day_of_month         65229 non-null int64\n",
      "stays_in_weekend_nights           65229 non-null int64\n",
      "stays_in_week_nights              65229 non-null int64\n",
      "adults                            65229 non-null float64\n",
      "children                          65229 non-null float64\n",
      "babies                            65229 non-null float64\n",
      "meal                              65229 non-null object\n",
      "country                           65229 non-null object\n",
      "distribution_channel              65229 non-null object\n",
      "is_repeated_guest                 65229 non-null int64\n",
      "previous_cancellations            65229 non-null int64\n",
      "previous_bookings_not_canceled    65229 non-null int64\n",
      "reserved_room_type                65229 non-null object\n",
      "booking_changes                   65229 non-null int64\n",
      "days_in_waiting_list              65229 non-null int64\n",
      "customer_type                     65229 non-null object\n",
      "required_car_parking_spaces       65229 non-null int64\n",
      "total_of_special_requests         65229 non-null int64\n",
      "total_nights                      65229 non-null int64\n",
      "dtypes: float64(4), int64(15), object(6)\n",
      "memory usage: 12.4+ MB\n"
     ]
    }
   ],
   "source": [
    "hotel_train.info()"
   ]
  },
  {
   "cell_type": "code",
   "execution_count": 7,
   "metadata": {
    "datalore": {
     "sheet_delimiter": false,
     "type": "CODE"
    },
    "jupyter": {
     "outputs_hidden": false,
     "source_hidden": false
    },
    "pycharm": {
     "name": "#%%\n"
    }
   },
   "outputs": [
    {
     "name": "stdout",
     "output_type": "stream",
     "text": [
      "<class 'pandas.core.frame.DataFrame'>\n",
      "RangeIndex: 32412 entries, 0 to 32411\n",
      "Data columns (total 25 columns):\n",
      "id                                32412 non-null int64\n",
      "is_canceled                       32412 non-null int64\n",
      "lead_time                         32412 non-null float64\n",
      "arrival_date_year                 32412 non-null int64\n",
      "arrival_date_month                32412 non-null object\n",
      "arrival_date_week_number          32412 non-null int64\n",
      "arrival_date_day_of_month         32412 non-null int64\n",
      "stays_in_weekend_nights           32412 non-null int64\n",
      "stays_in_week_nights              32412 non-null int64\n",
      "adults                            32412 non-null float64\n",
      "children                          32412 non-null float64\n",
      "babies                            32412 non-null float64\n",
      "meal                              32412 non-null object\n",
      "country                           32412 non-null object\n",
      "distribution_channel              32412 non-null object\n",
      "is_repeated_guest                 32412 non-null int64\n",
      "previous_cancellations            32412 non-null int64\n",
      "previous_bookings_not_canceled    32412 non-null int64\n",
      "reserved_room_type                32412 non-null object\n",
      "booking_changes                   32412 non-null int64\n",
      "days_in_waiting_list              32412 non-null int64\n",
      "customer_type                     32412 non-null object\n",
      "required_car_parking_spaces       32412 non-null int64\n",
      "total_of_special_requests         32412 non-null int64\n",
      "total_nights                      32412 non-null int64\n",
      "dtypes: float64(4), int64(15), object(6)\n",
      "memory usage: 6.2+ MB\n"
     ]
    }
   ],
   "source": [
    "hotel_test.info()"
   ]
  },
  {
   "cell_type": "code",
   "execution_count": 8,
   "metadata": {
    "datalore": {
     "sheet_delimiter": false,
     "type": "CODE"
    },
    "jupyter": {
     "outputs_hidden": false,
     "source_hidden": false
    },
    "pycharm": {
     "name": "#%%\n"
    }
   },
   "outputs": [],
   "source": [
    "#Объеденим данные для предварительной обработки в последующем разделим общий датасет на тестовую выборку и обучающую\n",
    "merge_data = hotel_train.append(hotel_test)"
   ]
  },
  {
   "cell_type": "code",
   "execution_count": 9,
   "metadata": {
    "datalore": {
     "sheet_delimiter": false,
     "type": "CODE"
    },
    "jupyter": {
     "outputs_hidden": false,
     "source_hidden": false
    },
    "pycharm": {
     "name": "#%%\n"
    }
   },
   "outputs": [],
   "source": [
    "#test_index = merge_data['id'].isin(hotel_test['id'])\n",
    "#train_index = merge_data['id'].isin(hotel_train['id'])"
   ]
  },
  {
   "cell_type": "code",
   "execution_count": 10,
   "metadata": {
    "datalore": {
     "sheet_delimiter": false,
     "type": "CODE"
    },
    "jupyter": {
     "outputs_hidden": false,
     "source_hidden": false
    },
    "pycharm": {
     "name": "#%%\n"
    }
   },
   "outputs": [],
   "source": [
    "#merge_data[train_index]\n",
    "#merge_data[test_index]"
   ]
  },
  {
   "cell_type": "markdown",
   "metadata": {
    "datalore": {
     "sheet_delimiter": false,
     "type": "MD"
    },
    "jupyter": {
     "outputs_hidden": false,
     "source_hidden": false
    },
    "pycharm": {
     "name": "#%% md\n"
    }
   },
   "source": [
    "### Шаг 2. Предобработка и исследовательский анализ данных"
   ]
  },
  {
   "cell_type": "code",
   "execution_count": 11,
   "metadata": {
    "datalore": {
     "sheet_delimiter": false,
     "type": "CODE"
    },
    "jupyter": {
     "outputs_hidden": false,
     "source_hidden": false
    },
    "pycharm": {
     "name": "#%%\n"
    }
   },
   "outputs": [
    {
     "name": "stdout",
     "output_type": "stream",
     "text": [
      "Колличество добликатов в датасете: 0\n"
     ]
    }
   ],
   "source": [
    "print('Колличество добликатов в датасете:',merge_data.duplicated().sum())"
   ]
  },
  {
   "cell_type": "code",
   "execution_count": 12,
   "metadata": {
    "datalore": {
     "sheet_delimiter": false,
     "type": "CODE"
    },
    "jupyter": {
     "outputs_hidden": false,
     "source_hidden": false
    },
    "pycharm": {
     "name": "#%%\n"
    }
   },
   "outputs": [],
   "source": [
    "#Приведем значения в столбцах lead_time, adults, children, babies к типу int\n",
    "merge_data[['lead_time','adults','children','babies']] = merge_data[['lead_time','adults','children','babies']].astype('int')"
   ]
  },
  {
   "cell_type": "code",
   "execution_count": 13,
   "metadata": {
    "datalore": {
     "sheet_delimiter": false,
     "type": "CODE"
    },
    "jupyter": {
     "outputs_hidden": false,
     "source_hidden": false
    },
    "pycharm": {
     "name": "#%%\n"
    }
   },
   "outputs": [
    {
     "name": "stdout",
     "output_type": "stream",
     "text": [
      "<class 'pandas.core.frame.DataFrame'>\n",
      "Int64Index: 97641 entries, 0 to 32411\n",
      "Data columns (total 25 columns):\n",
      "id                                97641 non-null int64\n",
      "is_canceled                       97641 non-null int64\n",
      "lead_time                         97641 non-null int64\n",
      "arrival_date_year                 97641 non-null int64\n",
      "arrival_date_month                97641 non-null object\n",
      "arrival_date_week_number          97641 non-null int64\n",
      "arrival_date_day_of_month         97641 non-null int64\n",
      "stays_in_weekend_nights           97641 non-null int64\n",
      "stays_in_week_nights              97641 non-null int64\n",
      "adults                            97641 non-null int64\n",
      "children                          97641 non-null int64\n",
      "babies                            97641 non-null int64\n",
      "meal                              97641 non-null object\n",
      "country                           97641 non-null object\n",
      "distribution_channel              97641 non-null object\n",
      "is_repeated_guest                 97641 non-null int64\n",
      "previous_cancellations            97641 non-null int64\n",
      "previous_bookings_not_canceled    97641 non-null int64\n",
      "reserved_room_type                97641 non-null object\n",
      "booking_changes                   97641 non-null int64\n",
      "days_in_waiting_list              97641 non-null int64\n",
      "customer_type                     97641 non-null object\n",
      "required_car_parking_spaces       97641 non-null int64\n",
      "total_of_special_requests         97641 non-null int64\n",
      "total_nights                      97641 non-null int64\n",
      "dtypes: int64(19), object(6)\n",
      "memory usage: 19.4+ MB\n"
     ]
    }
   ],
   "source": [
    "merge_data.info()"
   ]
  },
  {
   "cell_type": "code",
   "execution_count": 14,
   "metadata": {
    "datalore": {
     "sheet_delimiter": false,
     "type": "CODE"
    },
    "jupyter": {
     "outputs_hidden": false,
     "source_hidden": false
    },
    "pycharm": {
     "name": "#%%\n"
    }
   },
   "outputs": [
    {
     "data": {
      "text/html": [
       "<div>\n",
       "<style scoped>\n",
       "    .dataframe tbody tr th:only-of-type {\n",
       "        vertical-align: middle;\n",
       "    }\n",
       "\n",
       "    .dataframe tbody tr th {\n",
       "        vertical-align: top;\n",
       "    }\n",
       "\n",
       "    .dataframe thead th {\n",
       "        text-align: right;\n",
       "    }\n",
       "</style>\n",
       "<table border=\"1\" class=\"dataframe\">\n",
       "  <thead>\n",
       "    <tr style=\"text-align: right;\">\n",
       "      <th></th>\n",
       "      <th>id</th>\n",
       "      <th>is_canceled</th>\n",
       "      <th>lead_time</th>\n",
       "      <th>arrival_date_year</th>\n",
       "      <th>arrival_date_week_number</th>\n",
       "      <th>arrival_date_day_of_month</th>\n",
       "      <th>stays_in_weekend_nights</th>\n",
       "      <th>stays_in_week_nights</th>\n",
       "      <th>adults</th>\n",
       "      <th>children</th>\n",
       "      <th>babies</th>\n",
       "      <th>is_repeated_guest</th>\n",
       "      <th>previous_cancellations</th>\n",
       "      <th>previous_bookings_not_canceled</th>\n",
       "      <th>booking_changes</th>\n",
       "      <th>days_in_waiting_list</th>\n",
       "      <th>required_car_parking_spaces</th>\n",
       "      <th>total_of_special_requests</th>\n",
       "      <th>total_nights</th>\n",
       "    </tr>\n",
       "  </thead>\n",
       "  <tbody>\n",
       "    <tr>\n",
       "      <td>count</td>\n",
       "      <td>97641.000000</td>\n",
       "      <td>97641.000000</td>\n",
       "      <td>97641.000000</td>\n",
       "      <td>97641.000000</td>\n",
       "      <td>97641.000000</td>\n",
       "      <td>97641.000000</td>\n",
       "      <td>97641.000000</td>\n",
       "      <td>97641.000000</td>\n",
       "      <td>97641.000000</td>\n",
       "      <td>97641.000000</td>\n",
       "      <td>97641.000000</td>\n",
       "      <td>97641.000000</td>\n",
       "      <td>97641.000000</td>\n",
       "      <td>97641.000000</td>\n",
       "      <td>97641.000000</td>\n",
       "      <td>97641.000000</td>\n",
       "      <td>97641.000000</td>\n",
       "      <td>97641.000000</td>\n",
       "      <td>97641.000000</td>\n",
       "    </tr>\n",
       "    <tr>\n",
       "      <td>mean</td>\n",
       "      <td>49050.280456</td>\n",
       "      <td>0.375201</td>\n",
       "      <td>96.752839</td>\n",
       "      <td>2016.144243</td>\n",
       "      <td>26.846581</td>\n",
       "      <td>15.784455</td>\n",
       "      <td>0.839361</td>\n",
       "      <td>2.263066</td>\n",
       "      <td>1.843887</td>\n",
       "      <td>0.077836</td>\n",
       "      <td>0.006667</td>\n",
       "      <td>0.028554</td>\n",
       "      <td>0.089972</td>\n",
       "      <td>0.128860</td>\n",
       "      <td>0.201729</td>\n",
       "      <td>2.314642</td>\n",
       "      <td>0.053195</td>\n",
       "      <td>0.560902</td>\n",
       "      <td>3.102426</td>\n",
       "    </tr>\n",
       "    <tr>\n",
       "      <td>std</td>\n",
       "      <td>28234.038292</td>\n",
       "      <td>0.484177</td>\n",
       "      <td>93.045823</td>\n",
       "      <td>0.706299</td>\n",
       "      <td>13.772847</td>\n",
       "      <td>8.754660</td>\n",
       "      <td>0.853682</td>\n",
       "      <td>1.362798</td>\n",
       "      <td>0.483393</td>\n",
       "      <td>0.337358</td>\n",
       "      <td>0.091790</td>\n",
       "      <td>0.166549</td>\n",
       "      <td>0.797737</td>\n",
       "      <td>1.530961</td>\n",
       "      <td>0.609830</td>\n",
       "      <td>15.224212</td>\n",
       "      <td>0.228000</td>\n",
       "      <td>0.783654</td>\n",
       "      <td>1.739882</td>\n",
       "    </tr>\n",
       "    <tr>\n",
       "      <td>min</td>\n",
       "      <td>0.000000</td>\n",
       "      <td>0.000000</td>\n",
       "      <td>0.000000</td>\n",
       "      <td>2015.000000</td>\n",
       "      <td>1.000000</td>\n",
       "      <td>1.000000</td>\n",
       "      <td>0.000000</td>\n",
       "      <td>0.000000</td>\n",
       "      <td>0.000000</td>\n",
       "      <td>0.000000</td>\n",
       "      <td>0.000000</td>\n",
       "      <td>0.000000</td>\n",
       "      <td>0.000000</td>\n",
       "      <td>0.000000</td>\n",
       "      <td>0.000000</td>\n",
       "      <td>0.000000</td>\n",
       "      <td>0.000000</td>\n",
       "      <td>0.000000</td>\n",
       "      <td>1.000000</td>\n",
       "    </tr>\n",
       "    <tr>\n",
       "      <td>25%</td>\n",
       "      <td>24673.000000</td>\n",
       "      <td>0.000000</td>\n",
       "      <td>19.000000</td>\n",
       "      <td>2016.000000</td>\n",
       "      <td>16.000000</td>\n",
       "      <td>8.000000</td>\n",
       "      <td>0.000000</td>\n",
       "      <td>1.000000</td>\n",
       "      <td>2.000000</td>\n",
       "      <td>0.000000</td>\n",
       "      <td>0.000000</td>\n",
       "      <td>0.000000</td>\n",
       "      <td>0.000000</td>\n",
       "      <td>0.000000</td>\n",
       "      <td>0.000000</td>\n",
       "      <td>0.000000</td>\n",
       "      <td>0.000000</td>\n",
       "      <td>0.000000</td>\n",
       "      <td>2.000000</td>\n",
       "    </tr>\n",
       "    <tr>\n",
       "      <td>50%</td>\n",
       "      <td>49083.000000</td>\n",
       "      <td>0.000000</td>\n",
       "      <td>68.000000</td>\n",
       "      <td>2016.000000</td>\n",
       "      <td>27.000000</td>\n",
       "      <td>16.000000</td>\n",
       "      <td>1.000000</td>\n",
       "      <td>2.000000</td>\n",
       "      <td>2.000000</td>\n",
       "      <td>0.000000</td>\n",
       "      <td>0.000000</td>\n",
       "      <td>0.000000</td>\n",
       "      <td>0.000000</td>\n",
       "      <td>0.000000</td>\n",
       "      <td>0.000000</td>\n",
       "      <td>0.000000</td>\n",
       "      <td>0.000000</td>\n",
       "      <td>0.000000</td>\n",
       "      <td>3.000000</td>\n",
       "    </tr>\n",
       "    <tr>\n",
       "      <td>75%</td>\n",
       "      <td>73493.000000</td>\n",
       "      <td>1.000000</td>\n",
       "      <td>152.000000</td>\n",
       "      <td>2017.000000</td>\n",
       "      <td>38.000000</td>\n",
       "      <td>23.000000</td>\n",
       "      <td>2.000000</td>\n",
       "      <td>3.000000</td>\n",
       "      <td>2.000000</td>\n",
       "      <td>0.000000</td>\n",
       "      <td>0.000000</td>\n",
       "      <td>0.000000</td>\n",
       "      <td>0.000000</td>\n",
       "      <td>0.000000</td>\n",
       "      <td>0.000000</td>\n",
       "      <td>0.000000</td>\n",
       "      <td>0.000000</td>\n",
       "      <td>1.000000</td>\n",
       "      <td>4.000000</td>\n",
       "    </tr>\n",
       "    <tr>\n",
       "      <td>max</td>\n",
       "      <td>97903.000000</td>\n",
       "      <td>1.000000</td>\n",
       "      <td>374.000000</td>\n",
       "      <td>2017.000000</td>\n",
       "      <td>53.000000</td>\n",
       "      <td>31.000000</td>\n",
       "      <td>4.000000</td>\n",
       "      <td>6.000000</td>\n",
       "      <td>4.000000</td>\n",
       "      <td>3.000000</td>\n",
       "      <td>10.000000</td>\n",
       "      <td>1.000000</td>\n",
       "      <td>26.000000</td>\n",
       "      <td>72.000000</td>\n",
       "      <td>18.000000</td>\n",
       "      <td>259.000000</td>\n",
       "      <td>8.000000</td>\n",
       "      <td>5.000000</td>\n",
       "      <td>10.000000</td>\n",
       "    </tr>\n",
       "  </tbody>\n",
       "</table>\n",
       "</div>"
      ],
      "text/plain": [
       "                 id   is_canceled     lead_time  arrival_date_year  \\\n",
       "count  97641.000000  97641.000000  97641.000000       97641.000000   \n",
       "mean   49050.280456      0.375201     96.752839        2016.144243   \n",
       "std    28234.038292      0.484177     93.045823           0.706299   \n",
       "min        0.000000      0.000000      0.000000        2015.000000   \n",
       "25%    24673.000000      0.000000     19.000000        2016.000000   \n",
       "50%    49083.000000      0.000000     68.000000        2016.000000   \n",
       "75%    73493.000000      1.000000    152.000000        2017.000000   \n",
       "max    97903.000000      1.000000    374.000000        2017.000000   \n",
       "\n",
       "       arrival_date_week_number  arrival_date_day_of_month  \\\n",
       "count              97641.000000               97641.000000   \n",
       "mean                  26.846581                  15.784455   \n",
       "std                   13.772847                   8.754660   \n",
       "min                    1.000000                   1.000000   \n",
       "25%                   16.000000                   8.000000   \n",
       "50%                   27.000000                  16.000000   \n",
       "75%                   38.000000                  23.000000   \n",
       "max                   53.000000                  31.000000   \n",
       "\n",
       "       stays_in_weekend_nights  stays_in_week_nights        adults  \\\n",
       "count             97641.000000          97641.000000  97641.000000   \n",
       "mean                  0.839361              2.263066      1.843887   \n",
       "std                   0.853682              1.362798      0.483393   \n",
       "min                   0.000000              0.000000      0.000000   \n",
       "25%                   0.000000              1.000000      2.000000   \n",
       "50%                   1.000000              2.000000      2.000000   \n",
       "75%                   2.000000              3.000000      2.000000   \n",
       "max                   4.000000              6.000000      4.000000   \n",
       "\n",
       "           children        babies  is_repeated_guest  previous_cancellations  \\\n",
       "count  97641.000000  97641.000000       97641.000000            97641.000000   \n",
       "mean       0.077836      0.006667           0.028554                0.089972   \n",
       "std        0.337358      0.091790           0.166549                0.797737   \n",
       "min        0.000000      0.000000           0.000000                0.000000   \n",
       "25%        0.000000      0.000000           0.000000                0.000000   \n",
       "50%        0.000000      0.000000           0.000000                0.000000   \n",
       "75%        0.000000      0.000000           0.000000                0.000000   \n",
       "max        3.000000     10.000000           1.000000               26.000000   \n",
       "\n",
       "       previous_bookings_not_canceled  booking_changes  days_in_waiting_list  \\\n",
       "count                    97641.000000     97641.000000          97641.000000   \n",
       "mean                         0.128860         0.201729              2.314642   \n",
       "std                          1.530961         0.609830             15.224212   \n",
       "min                          0.000000         0.000000              0.000000   \n",
       "25%                          0.000000         0.000000              0.000000   \n",
       "50%                          0.000000         0.000000              0.000000   \n",
       "75%                          0.000000         0.000000              0.000000   \n",
       "max                         72.000000        18.000000            259.000000   \n",
       "\n",
       "       required_car_parking_spaces  total_of_special_requests  total_nights  \n",
       "count                 97641.000000               97641.000000  97641.000000  \n",
       "mean                      0.053195                   0.560902      3.102426  \n",
       "std                       0.228000                   0.783654      1.739882  \n",
       "min                       0.000000                   0.000000      1.000000  \n",
       "25%                       0.000000                   0.000000      2.000000  \n",
       "50%                       0.000000                   0.000000      3.000000  \n",
       "75%                       0.000000                   1.000000      4.000000  \n",
       "max                       8.000000                   5.000000     10.000000  "
      ]
     },
     "execution_count": 14,
     "metadata": {},
     "output_type": "execute_result"
    }
   ],
   "source": [
    "merge_data.describe()"
   ]
  },
  {
   "cell_type": "code",
   "execution_count": 15,
   "metadata": {
    "datalore": {
     "sheet_delimiter": false,
     "type": "CODE"
    },
    "jupyter": {
     "outputs_hidden": false,
     "source_hidden": false
    },
    "pycharm": {
     "name": "#%%\n"
    }
   },
   "outputs": [
    {
     "data": {
      "image/png": "[encoded data removed]",
      "text/plain": [
       "<Figure size 1080x288 with 2 Axes>"
      ]
     },
     "metadata": {
      "needs_background": "light"
     },
     "output_type": "display_data"
    }
   ],
   "source": [
    "f, ax = plt.subplots(nrows=1, ncols=2, figsize=(15, 4))\n",
    "ax[0].hist(merge_data['lead_time'], bins=100)\n",
    "ax[0].set_title('Распределение количества дней между\\n датой бронирования и датой прибытия')\n",
    "ax[0].set_xlabel('Количество дней')\n",
    "ax[0].set_ylabel('Частота')\n",
    "ax[1].boxplot(merge_data['lead_time'], )\n",
    "ax[1].set_title('')\n",
    "plt.show()"
   ]
  },
  {
   "cell_type": "code",
   "execution_count": 16,
   "metadata": {
    "datalore": {
     "sheet_delimiter": false,
     "type": "CODE"
    },
    "jupyter": {
     "outputs_hidden": false,
     "source_hidden": false
    },
    "pycharm": {
     "name": "#%%\n"
    }
   },
   "outputs": [
    {
     "name": "stdout",
     "output_type": "stream",
     "text": [
      "Доля дней > 350: 0.007722165893425917\n"
     ]
    }
   ],
   "source": [
    "# Доля заказов в которых значение количества дней между датой бронирования и датой прибытия превышает 350 дней\n",
    "print('Доля дней > 350:',merge_data[merge_data['lead_time'] > 350]['id'].count() / merge_data.shape[0])"
   ]
  },
  {
   "cell_type": "code",
   "execution_count": 17,
   "metadata": {
    "datalore": {
     "sheet_delimiter": false,
     "type": "CODE"
    },
    "jupyter": {
     "outputs_hidden": false,
     "source_hidden": false
    },
    "pycharm": {
     "name": "#%%\n"
    }
   },
   "outputs": [
    {
     "data": {
      "image/png": "[encoded data removed]",
      "text/plain": [
       "<Figure size 1080x360 with 2 Axes>"
      ]
     },
     "metadata": {
      "needs_background": "light"
     },
     "output_type": "display_data"
    }
   ],
   "source": [
    "merge_is_canceled = merge_data.groupby('is_canceled').agg({'id':'count'}).reset_index()\n",
    "merge_is_canceled_more_350_day = merge_data[merge_data['lead_time'] > 350].groupby('is_canceled').agg({'id':'count'}).reset_index()\n",
    "\n",
    "f, ax = plt.subplots(1,2, figsize=(15, 5), sharex=True)\n",
    "ax[0].set_title('Заказы')\n",
    "ax[0].set_xticks(merge_is_canceled['is_canceled'])\n",
    "ax[0].set_xticklabels(['Не отменен','Отменен'])\n",
    "#ax[0].xlabel(merge_is_canceled['is_canceled'], labels=)\n",
    "#ax[0].set_xticks(merge_is_canceled['is_canceled'], labels=['Не отменен','Отменен'])\n",
    "ax[0].bar(data=merge_is_canceled, x='is_canceled', height='id')\n",
    "\n",
    "ax[1].set_title('Заказы у которых дата прибытия превышает 350 дней')\n",
    "#ax[1].set_xticks(merge_is_canceled_more_350_day['is_canceled'], labels=['Не отменен','Отменен'])\n",
    "ax[1].bar(data=merge_is_canceled_more_350_day, x='is_canceled', height='id')\n",
    "#plt.xtricks(merge_is_canceled['is_canceled'], labels=['Не отменен','Отменен'])\n",
    "plt.show()\n"
   ]
  },
  {
   "cell_type": "markdown",
   "metadata": {
    "pycharm": {
     "name": "#%% md\n"
    }
   },
   "source": [
    "Ошибку поправил"
   ]
  },
  {
   "cell_type": "code",
   "execution_count": 18,
   "metadata": {
    "datalore": {
     "sheet_delimiter": false,
     "type": "CODE"
    },
    "jupyter": {
     "outputs_hidden": false,
     "source_hidden": false
    },
    "pycharm": {
     "name": "#%%\n"
    }
   },
   "outputs": [
    {
     "data": {
      "image/png": "[encoded data removed]",
      "text/plain": [
       "<Figure size 1080x216 with 1 Axes>"
      ]
     },
     "metadata": {
      "needs_background": "light"
     },
     "output_type": "display_data"
    }
   ],
   "source": [
    "merge_data['reserved_room_type'].value_counts().plot(kind=\"bar\", title=\"Гистограмма распределения по типу бронирования\", figsize=(15,3))\n",
    "plt.show()"
   ]
  },
  {
   "cell_type": "code",
   "execution_count": 19,
   "metadata": {
    "datalore": {
     "sheet_delimiter": false,
     "type": "CODE"
    },
    "jupyter": {
     "outputs_hidden": false,
     "source_hidden": false
    },
    "pycharm": {
     "name": "#%%\n"
    }
   },
   "outputs": [
    {
     "data": {
      "text/plain": [
       "<matplotlib.axes._subplots.AxesSubplot at 0x7f9c9d1c2cd0>"
      ]
     },
     "execution_count": 19,
     "metadata": {},
     "output_type": "execute_result"
    },
    {
     "data": {
      "image/png": "[encoded data removed]",
      "text/plain": [
       "<Figure size 432x288 with 1 Axes>"
      ]
     },
     "metadata": {
      "needs_background": "light"
     },
     "output_type": "display_data"
    }
   ],
   "source": [
    "merge_data.groupby(['reserved_room_type', 'is_canceled'])['id'].agg('sum').unstack().plot(kind='bar')"
   ]
  },
  {
   "cell_type": "code",
   "execution_count": 20,
   "metadata": {
    "datalore": {
     "sheet_delimiter": false,
     "type": "CODE"
    },
    "jupyter": {
     "outputs_hidden": false,
     "source_hidden": false
    },
    "pycharm": {
     "name": "#%%\n"
    }
   },
   "outputs": [
    {
     "data": {
      "image/png": "[encoded data removed]",
      "text/plain": [
       "<Figure size 1080x216 with 1 Axes>"
      ]
     },
     "metadata": {
      "needs_background": "light"
     },
     "output_type": "display_data"
    }
   ],
   "source": [
    "(\n",
    "merge_data['total_nights'].value_counts().sort_values(ascending=False)\n",
    "    .plot(kind='bar', title='Распределение по колличеству проведенных ночей', figsize=(15,3))\n",
    ")\n",
    "plt.show()"
   ]
  },
  {
   "cell_type": "code",
   "execution_count": 21,
   "metadata": {
    "datalore": {
     "sheet_delimiter": false,
     "type": "CODE"
    },
    "jupyter": {
     "outputs_hidden": false,
     "source_hidden": false
    },
    "pycharm": {
     "name": "#%%\n"
    }
   },
   "outputs": [
    {
     "data": {
      "text/plain": [
       "<matplotlib.axes._subplots.AxesSubplot at 0x7f9c9d19add0>"
      ]
     },
     "execution_count": 21,
     "metadata": {},
     "output_type": "execute_result"
    },
    {
     "data": {
      "image/png": "[encoded data removed]",
      "text/plain": [
       "<Figure size 432x288 with 1 Axes>"
      ]
     },
     "metadata": {
      "needs_background": "light"
     },
     "output_type": "display_data"
    }
   ],
   "source": [
    "merge_data['meal'].value_counts().plot(kind='bar')"
   ]
  },
  {
   "cell_type": "markdown",
   "metadata": {
    "datalore": {
     "sheet_delimiter": false,
     "type": "MD"
    },
    "jupyter": {
     "outputs_hidden": false,
     "source_hidden": false
    },
    "pycharm": {
     "name": "#%% md\n"
    }
   },
   "source": [
    "В значениях опции заказа присутствуют пробелы. Удалим их в значениях"
   ]
  },
  {
   "cell_type": "code",
   "execution_count": 22,
   "metadata": {
    "datalore": {
     "sheet_delimiter": false,
     "type": "CODE"
    },
    "jupyter": {
     "outputs_hidden": false,
     "source_hidden": false
    },
    "pycharm": {
     "name": "#%%\n"
    }
   },
   "outputs": [],
   "source": [
    "merge_data['meal'] = merge_data['meal'].apply(lambda x: x.strip())"
   ]
  },
  {
   "cell_type": "code",
   "execution_count": 23,
   "metadata": {
    "datalore": {
     "sheet_delimiter": false,
     "type": "CODE"
    },
    "jupyter": {
     "outputs_hidden": false,
     "source_hidden": false
    },
    "pycharm": {
     "name": "#%%\n"
    }
   },
   "outputs": [
    {
     "data": {
      "text/plain": [
       "<matplotlib.axes._subplots.AxesSubplot at 0x7f9c9cbe7450>"
      ]
     },
     "execution_count": 23,
     "metadata": {},
     "output_type": "execute_result"
    },
    {
     "data": {
      "image/png": "[encoded data removed]",
      "text/plain": [
       "<Figure size 432x288 with 1 Axes>"
      ]
     },
     "metadata": {
      "needs_background": "light"
     },
     "output_type": "display_data"
    }
   ],
   "source": [
    "merge_data.groupby(['meal', 'is_canceled'])['id'].agg('sum').unstack().plot(kind='bar')"
   ]
  },
  {
   "cell_type": "markdown",
   "metadata": {
    "datalore": {
     "sheet_delimiter": false,
     "type": "MD"
    },
    "jupyter": {
     "outputs_hidden": false,
     "source_hidden": false
    },
    "pycharm": {
     "name": "#%% md\n"
    }
   },
   "source": [
    "В значениях стран присутсвуют невные дубликаты CH и CHN"
   ]
  },
  {
   "cell_type": "code",
   "execution_count": 24,
   "metadata": {
    "datalore": {
     "sheet_delimiter": false,
     "type": "CODE"
    },
    "jupyter": {
     "outputs_hidden": false,
     "source_hidden": false
    },
    "pycharm": {
     "name": "#%%\n"
    }
   },
   "outputs": [],
   "source": [
    "merge_data['country'] = merge_data['country'].replace('CN', 'CHN')"
   ]
  },
  {
   "cell_type": "code",
   "execution_count": 25,
   "metadata": {
    "datalore": {
     "sheet_delimiter": false,
     "type": "CODE"
    },
    "jupyter": {
     "outputs_hidden": false,
     "source_hidden": false
    },
    "pycharm": {
     "name": "#%%\n"
    }
   },
   "outputs": [
    {
     "data": {
      "text/plain": [
       "PRT    38718\n",
       "FRA     9451\n",
       "GBR     9036\n",
       "ESP     6832\n",
       "DEU     6265\n",
       "       ...  \n",
       "MRT        1\n",
       "ASM        1\n",
       "ATF        1\n",
       "BFA        1\n",
       "NIC        1\n",
       "Name: country, Length: 173, dtype: int64"
      ]
     },
     "execution_count": 25,
     "metadata": {},
     "output_type": "execute_result"
    }
   ],
   "source": [
    "merge_data['country'].value_counts()"
   ]
  },
  {
   "cell_type": "code",
   "execution_count": 26,
   "metadata": {
    "datalore": {
     "sheet_delimiter": false,
     "type": "CODE"
    },
    "jupyter": {
     "outputs_hidden": false,
     "source_hidden": false
    },
    "pycharm": {
     "name": "#%%\n"
    }
   },
   "outputs": [
    {
     "data": {
      "text/html": [
       "<div>\n",
       "<style scoped>\n",
       "    .dataframe tbody tr th:only-of-type {\n",
       "        vertical-align: middle;\n",
       "    }\n",
       "\n",
       "    .dataframe tbody tr th {\n",
       "        vertical-align: top;\n",
       "    }\n",
       "\n",
       "    .dataframe thead th {\n",
       "        text-align: right;\n",
       "    }\n",
       "</style>\n",
       "<table border=\"1\" class=\"dataframe\">\n",
       "  <thead>\n",
       "    <tr style=\"text-align: right;\">\n",
       "      <th></th>\n",
       "      <th>index</th>\n",
       "      <th>country</th>\n",
       "      <th>proportions</th>\n",
       "    </tr>\n",
       "  </thead>\n",
       "  <tbody>\n",
       "    <tr>\n",
       "      <td>0</td>\n",
       "      <td>PRT</td>\n",
       "      <td>38718</td>\n",
       "      <td>0.396534</td>\n",
       "    </tr>\n",
       "    <tr>\n",
       "      <td>1</td>\n",
       "      <td>FRA</td>\n",
       "      <td>9451</td>\n",
       "      <td>0.096793</td>\n",
       "    </tr>\n",
       "    <tr>\n",
       "      <td>2</td>\n",
       "      <td>GBR</td>\n",
       "      <td>9036</td>\n",
       "      <td>0.092543</td>\n",
       "    </tr>\n",
       "    <tr>\n",
       "      <td>3</td>\n",
       "      <td>ESP</td>\n",
       "      <td>6832</td>\n",
       "      <td>0.069971</td>\n",
       "    </tr>\n",
       "    <tr>\n",
       "      <td>4</td>\n",
       "      <td>DEU</td>\n",
       "      <td>6265</td>\n",
       "      <td>0.064164</td>\n",
       "    </tr>\n",
       "    <tr>\n",
       "      <td>...</td>\n",
       "      <td>...</td>\n",
       "      <td>...</td>\n",
       "      <td>...</td>\n",
       "    </tr>\n",
       "    <tr>\n",
       "      <td>168</td>\n",
       "      <td>MRT</td>\n",
       "      <td>1</td>\n",
       "      <td>0.000010</td>\n",
       "    </tr>\n",
       "    <tr>\n",
       "      <td>169</td>\n",
       "      <td>ASM</td>\n",
       "      <td>1</td>\n",
       "      <td>0.000010</td>\n",
       "    </tr>\n",
       "    <tr>\n",
       "      <td>170</td>\n",
       "      <td>ATF</td>\n",
       "      <td>1</td>\n",
       "      <td>0.000010</td>\n",
       "    </tr>\n",
       "    <tr>\n",
       "      <td>171</td>\n",
       "      <td>BFA</td>\n",
       "      <td>1</td>\n",
       "      <td>0.000010</td>\n",
       "    </tr>\n",
       "    <tr>\n",
       "      <td>172</td>\n",
       "      <td>NIC</td>\n",
       "      <td>1</td>\n",
       "      <td>0.000010</td>\n",
       "    </tr>\n",
       "  </tbody>\n",
       "</table>\n",
       "<p>173 rows × 3 columns</p>\n",
       "</div>"
      ],
      "text/plain": [
       "    index  country  proportions\n",
       "0     PRT    38718     0.396534\n",
       "1     FRA     9451     0.096793\n",
       "2     GBR     9036     0.092543\n",
       "3     ESP     6832     0.069971\n",
       "4     DEU     6265     0.064164\n",
       "..    ...      ...          ...\n",
       "168   MRT        1     0.000010\n",
       "169   ASM        1     0.000010\n",
       "170   ATF        1     0.000010\n",
       "171   BFA        1     0.000010\n",
       "172   NIC        1     0.000010\n",
       "\n",
       "[173 rows x 3 columns]"
      ]
     },
     "execution_count": 26,
     "metadata": {},
     "output_type": "execute_result"
    }
   ],
   "source": [
    "country_values = merge_data['country'].value_counts().reset_index()\n",
    "country_values['proportions'] = country_values['country'] / country_values['country'].sum()\n",
    "country_values"
   ]
  },
  {
   "cell_type": "markdown",
   "metadata": {
    "datalore": {
     "sheet_delimiter": false,
     "type": "MD"
    },
    "jupyter": {
     "outputs_hidden": false,
     "source_hidden": true
    },
    "pycharm": {
     "name": "#%% md\n"
    }
   },
   "source": [
    "**Вывод:**\n",
    "Очень много постояльцев из Португалии из остальных стран значительно меньше. Примем за пороговое значение долю в 1 процент. Все что меньше отнесем к категории Other."
   ]
  },
  {
   "cell_type": "code",
   "execution_count": 27,
   "metadata": {
    "datalore": {
     "sheet_delimiter": false,
     "type": "CODE"
    },
    "jupyter": {
     "outputs_hidden": false,
     "source_hidden": false
    },
    "pycharm": {
     "name": "#%%\n"
    }
   },
   "outputs": [],
   "source": [
    "#Отберем те страны из которых посетителей больше 1%\n",
    "countries = country_values[country_values['country'] > 1000]"
   ]
  },
  {
   "cell_type": "code",
   "execution_count": 28,
   "metadata": {
    "datalore": {
     "sheet_delimiter": false,
     "type": "CODE"
    },
    "jupyter": {
     "outputs_hidden": false,
     "source_hidden": false
    },
    "pycharm": {
     "name": "#%%\n"
    }
   },
   "outputs": [],
   "source": [
    "#Выберем названия стран\n",
    "countries_value = list(countries['index'])"
   ]
  },
  {
   "cell_type": "code",
   "execution_count": 29,
   "metadata": {
    "datalore": {
     "sheet_delimiter": false,
     "type": "CODE"
    },
    "jupyter": {
     "outputs_hidden": false,
     "source_hidden": false
    },
    "pycharm": {
     "name": "#%%\n"
    }
   },
   "outputs": [],
   "source": [
    "def set_country_other(value, countries):\n",
    "    if value not in countries:\n",
    "        return 'OTHER'\n",
    "    \n",
    "    return value"
   ]
  },
  {
   "cell_type": "code",
   "execution_count": 30,
   "metadata": {
    "datalore": {
     "sheet_delimiter": false,
     "type": "CODE"
    },
    "jupyter": {
     "outputs_hidden": false,
     "source_hidden": false
    },
    "pycharm": {
     "name": "#%%\n"
    }
   },
   "outputs": [],
   "source": [
    "merge_data['country'] = merge_data['country'].apply(lambda x: set_country_other(x, countries_value))"
   ]
  },
  {
   "cell_type": "code",
   "execution_count": 31,
   "metadata": {
    "datalore": {
     "sheet_delimiter": false,
     "type": "CODE"
    },
    "jupyter": {
     "outputs_hidden": false,
     "source_hidden": false
    },
    "pycharm": {
     "name": "#%%\n"
    }
   },
   "outputs": [
    {
     "data": {
      "text/plain": [
       "<matplotlib.axes._subplots.AxesSubplot at 0x7f9c9cba0210>"
      ]
     },
     "execution_count": 31,
     "metadata": {},
     "output_type": "execute_result"
    },
    {
     "data": {
      "image/png": "[encoded data removed]",
      "text/plain": [
       "<Figure size 1080x216 with 1 Axes>"
      ]
     },
     "metadata": {
      "needs_background": "light"
     },
     "output_type": "display_data"
    }
   ],
   "source": [
    "merge_data['country'].value_counts().plot(kind='bar', figsize=(15,3))"
   ]
  },
  {
   "cell_type": "code",
   "execution_count": 32,
   "metadata": {
    "datalore": {
     "sheet_delimiter": false,
     "type": "CODE"
    },
    "jupyter": {
     "outputs_hidden": false,
     "source_hidden": false
    },
    "pycharm": {
     "name": "#%%\n"
    }
   },
   "outputs": [
    {
     "data": {
      "text/plain": [
       "<matplotlib.axes._subplots.AxesSubplot at 0x7f9c9cb2d2d0>"
      ]
     },
     "execution_count": 32,
     "metadata": {},
     "output_type": "execute_result"
    },
    {
     "data": {
      "image/png": "[encoded data removed]",
      "text/plain": [
       "<Figure size 1080x360 with 1 Axes>"
      ]
     },
     "metadata": {
      "needs_background": "light"
     },
     "output_type": "display_data"
    }
   ],
   "source": [
    "merge_data.groupby(['country', 'is_canceled'])['id'].agg('sum').unstack().plot(kind='bar', figsize=(15,5))"
   ]
  },
  {
   "cell_type": "code",
   "execution_count": 33,
   "metadata": {
    "datalore": {
     "sheet_delimiter": false,
     "type": "CODE"
    },
    "jupyter": {
     "outputs_hidden": false,
     "source_hidden": false
    },
    "pycharm": {
     "name": "#%%\n"
    }
   },
   "outputs": [
    {
     "data": {
      "image/png": "[encoded data removed]",
      "text/plain": [
       "<Figure size 1080x216 with 1 Axes>"
      ]
     },
     "metadata": {
      "needs_background": "light"
     },
     "output_type": "display_data"
    }
   ],
   "source": [
    "merge_data['distribution_channel'].value_counts().plot(kind='bar', figsize=(15,3), title='Распеределение каналов дистрибуции')\n",
    "plt.show()"
   ]
  },
  {
   "cell_type": "code",
   "execution_count": 34,
   "metadata": {
    "datalore": {
     "sheet_delimiter": false,
     "type": "CODE"
    },
    "jupyter": {
     "outputs_hidden": false,
     "source_hidden": false
    },
    "pycharm": {
     "name": "#%%\n"
    }
   },
   "outputs": [
    {
     "data": {
      "text/plain": [
       "<matplotlib.axes._subplots.AxesSubplot at 0x7f9c9c9f8f50>"
      ]
     },
     "execution_count": 34,
     "metadata": {},
     "output_type": "execute_result"
    },
    {
     "data": {
      "image/png": "[encoded data removed]",
      "text/plain": [
       "<Figure size 1080x360 with 1 Axes>"
      ]
     },
     "metadata": {
      "needs_background": "light"
     },
     "output_type": "display_data"
    }
   ],
   "source": [
    "merge_data.groupby(['distribution_channel', 'is_canceled'])['id'].agg('sum').unstack().plot(kind='bar', figsize=(15,5))"
   ]
  },
  {
   "cell_type": "code",
   "execution_count": 35,
   "metadata": {
    "datalore": {
     "sheet_delimiter": false,
     "type": "CODE"
    },
    "jupyter": {
     "outputs_hidden": false,
     "source_hidden": false
    },
    "pycharm": {
     "name": "#%%\n"
    }
   },
   "outputs": [
    {
     "data": {
      "image/png": "[encoded data removed]",
      "text/plain": [
       "<Figure size 1080x216 with 1 Axes>"
      ]
     },
     "metadata": {
      "needs_background": "light"
     },
     "output_type": "display_data"
    }
   ],
   "source": [
    "merge_data['customer_type'].value_counts().plot(kind='bar', figsize=(15,3), title='Распределение типов заказчика')\n",
    "plt.show()"
   ]
  },
  {
   "cell_type": "code",
   "execution_count": 36,
   "metadata": {
    "datalore": {
     "sheet_delimiter": false,
     "type": "CODE"
    },
    "jupyter": {
     "outputs_hidden": false,
     "source_hidden": false
    },
    "pycharm": {
     "name": "#%%\n"
    }
   },
   "outputs": [
    {
     "data": {
      "text/plain": [
       "<matplotlib.axes._subplots.AxesSubplot at 0x7f9c9c941590>"
      ]
     },
     "execution_count": 36,
     "metadata": {},
     "output_type": "execute_result"
    },
    {
     "data": {
      "image/png": "[encoded data removed]",
      "text/plain": [
       "<Figure size 1080x360 with 1 Axes>"
      ]
     },
     "metadata": {
      "needs_background": "light"
     },
     "output_type": "display_data"
    }
   ],
   "source": [
    "merge_data.groupby(['customer_type', 'is_canceled'])['id'].agg('sum').unstack().plot(kind='bar', figsize=(15,5))"
   ]
  },
  {
   "cell_type": "code",
   "execution_count": 37,
   "metadata": {
    "datalore": {
     "sheet_delimiter": false,
     "type": "CODE"
    },
    "jupyter": {
     "outputs_hidden": false,
     "source_hidden": false
    },
    "pycharm": {
     "name": "#%%\n"
    }
   },
   "outputs": [
    {
     "data": {
      "image/png": "[encoded data removed]",
      "text/plain": [
       "<Figure size 432x288 with 1 Axes>"
      ]
     },
     "metadata": {
      "needs_background": "light"
     },
     "output_type": "display_data"
    }
   ],
   "source": [
    "merge_data.groupby(['arrival_date_year'])['id'].agg('count').sort_values().plot(kind='bar', title=\"Распределение посетителей по годам\")\n",
    "plt.show()"
   ]
  },
  {
   "cell_type": "code",
   "execution_count": 38,
   "metadata": {
    "datalore": {
     "sheet_delimiter": false,
     "type": "CODE"
    },
    "jupyter": {
     "outputs_hidden": false,
     "source_hidden": false
    },
    "pycharm": {
     "name": "#%%\n"
    }
   },
   "outputs": [
    {
     "data": {
      "text/plain": [
       "<matplotlib.axes._subplots.AxesSubplot at 0x7f9c9c7e7d10>"
      ]
     },
     "execution_count": 38,
     "metadata": {},
     "output_type": "execute_result"
    },
    {
     "data": {
      "image/png": "[encoded data removed]",
      "text/plain": [
       "<Figure size 1080x360 with 1 Axes>"
      ]
     },
     "metadata": {
      "needs_background": "light"
     },
     "output_type": "display_data"
    }
   ],
   "source": [
    "merge_data.groupby(['arrival_date_year', 'is_canceled'])['id'].agg('sum').unstack().plot(kind='bar', figsize=(15,5))"
   ]
  },
  {
   "cell_type": "code",
   "execution_count": 39,
   "metadata": {
    "datalore": {
     "sheet_delimiter": false,
     "type": "CODE"
    },
    "jupyter": {
     "outputs_hidden": false,
     "source_hidden": false
    },
    "pycharm": {
     "name": "#%%\n"
    }
   },
   "outputs": [
    {
     "data": {
      "image/png": "[encoded data removed]",
      "text/plain": [
       "<Figure size 432x288 with 1 Axes>"
      ]
     },
     "metadata": {
      "needs_background": "light"
     },
     "output_type": "display_data"
    }
   ],
   "source": [
    "merge_data.groupby(['arrival_date_month'])['id'].agg('count').sort_values().plot(kind='bar', title=\"Распределение посетителей по месяцам\")\n",
    "plt.show()"
   ]
  },
  {
   "cell_type": "code",
   "execution_count": 40,
   "metadata": {
    "datalore": {
     "sheet_delimiter": false,
     "type": "CODE"
    },
    "jupyter": {
     "outputs_hidden": false,
     "source_hidden": false
    },
    "pycharm": {
     "name": "#%%\n"
    }
   },
   "outputs": [
    {
     "data": {
      "text/plain": [
       "<matplotlib.axes._subplots.AxesSubplot at 0x7f9c9c95b610>"
      ]
     },
     "execution_count": 40,
     "metadata": {},
     "output_type": "execute_result"
    },
    {
     "data": {
      "image/png": "[encoded data removed]",
      "text/plain": [
       "<Figure size 1080x360 with 1 Axes>"
      ]
     },
     "metadata": {
      "needs_background": "light"
     },
     "output_type": "display_data"
    }
   ],
   "source": [
    "merge_data.groupby(['arrival_date_month', 'is_canceled'])['id'].agg('sum').unstack().plot(kind='bar', figsize=(15,5))"
   ]
  },
  {
   "cell_type": "markdown",
   "metadata": {
    "datalore": {
     "sheet_delimiter": false,
     "type": "MD"
    },
    "jupyter": {
     "outputs_hidden": false,
     "source_hidden": false
    },
    "pycharm": {
     "name": "#%% md\n"
    }
   },
   "source": [
    "**Вывод**\n",
    "\n",
    "В зимнее время количество посетителей меньше чем в другое время"
   ]
  },
  {
   "cell_type": "code",
   "execution_count": 41,
   "metadata": {
    "datalore": {
     "sheet_delimiter": false,
     "type": "CODE"
    },
    "jupyter": {
     "outputs_hidden": false,
     "source_hidden": false
    },
    "pycharm": {
     "name": "#%%\n"
    }
   },
   "outputs": [],
   "source": [
    "#Сгенерируем дополнительный категоральный признак время года\n",
    "def get_season(value):\n",
    "    if value in ['December', 'February', 'January']:\n",
    "        return 'Winter'\n",
    "    elif value in ['March', 'April', 'May']:\n",
    "        return 'Spring'\n",
    "    elif value in ['June', 'Jule', 'August']:\n",
    "        return 'Summer'\n",
    "    else:\n",
    "        return 'Autumn'\n",
    "\n"
   ]
  },
  {
   "cell_type": "code",
   "execution_count": 42,
   "metadata": {
    "datalore": {
     "sheet_delimiter": false,
     "type": "CODE"
    },
    "jupyter": {
     "outputs_hidden": false,
     "source_hidden": false
    },
    "pycharm": {
     "name": "#%%\n"
    }
   },
   "outputs": [],
   "source": [
    "merge_data['season'] = merge_data['arrival_date_month'].apply(lambda x: get_season(x))"
   ]
  },
  {
   "cell_type": "code",
   "execution_count": 43,
   "metadata": {
    "datalore": {
     "sheet_delimiter": false,
     "type": "CODE"
    },
    "jupyter": {
     "outputs_hidden": false,
     "source_hidden": false
    },
    "pycharm": {
     "name": "#%%\n"
    }
   },
   "outputs": [
    {
     "data": {
      "image/png": "[encoded data removed]",
      "text/plain": [
       "<Figure size 1080x216 with 1 Axes>"
      ]
     },
     "metadata": {
      "needs_background": "light"
     },
     "output_type": "display_data"
    }
   ],
   "source": [
    "merge_data.groupby(['season'])['id'].agg('count').plot(kind='bar', figsize=(15,3), title=\"Распределение посетителей по временам года\")\n",
    "plt.show()"
   ]
  },
  {
   "cell_type": "code",
   "execution_count": 44,
   "metadata": {
    "datalore": {
     "sheet_delimiter": false,
     "type": "CODE"
    },
    "jupyter": {
     "outputs_hidden": false,
     "source_hidden": false
    },
    "pycharm": {
     "name": "#%%\n"
    }
   },
   "outputs": [
    {
     "data": {
      "text/plain": [
       "<matplotlib.axes._subplots.AxesSubplot at 0x7f9c9c82e690>"
      ]
     },
     "execution_count": 44,
     "metadata": {},
     "output_type": "execute_result"
    },
    {
     "data": {
      "image/png": "[encoded data removed]",
      "text/plain": [
       "<Figure size 1080x360 with 1 Axes>"
      ]
     },
     "metadata": {
      "needs_background": "light"
     },
     "output_type": "display_data"
    }
   ],
   "source": [
    "merge_data.groupby(['season', 'is_canceled'])['id'].agg('sum').unstack().plot(kind='bar', figsize=(15,5))"
   ]
  },
  {
   "cell_type": "code",
   "execution_count": 45,
   "metadata": {
    "datalore": {
     "sheet_delimiter": false,
     "type": "CODE"
    },
    "jupyter": {
     "outputs_hidden": false,
     "source_hidden": false
    },
    "pycharm": {
     "name": "#%%\n"
    }
   },
   "outputs": [
    {
     "data": {
      "image/png": "[encoded data removed]",
      "text/plain": [
       "<Figure size 1080x216 with 1 Axes>"
      ]
     },
     "metadata": {
      "needs_background": "light"
     },
     "output_type": "display_data"
    }
   ],
   "source": [
    "(merge_data.groupby(['arrival_date_year','season'])['id'].\n",
    "        agg('count').\n",
    "        unstack().\n",
    "        plot(kind='bar',\n",
    "        figsize=(15,3), title=\"Распределение посетителей по временам года\")\n",
    ")\n",
    "plt.show()"
   ]
  },
  {
   "cell_type": "code",
   "execution_count": 46,
   "metadata": {
    "datalore": {
     "sheet_delimiter": false,
     "type": "CODE"
    },
    "jupyter": {
     "outputs_hidden": false,
     "source_hidden": false
    },
    "pycharm": {
     "name": "#%%\n"
    }
   },
   "outputs": [
    {
     "data": {
      "text/plain": [
       "8        2\n",
       "3        2\n",
       "2       17\n",
       "1     5138\n",
       "0    92482\n",
       "Name: required_car_parking_spaces, dtype: int64"
      ]
     },
     "execution_count": 46,
     "metadata": {},
     "output_type": "execute_result"
    }
   ],
   "source": [
    "merge_data['required_car_parking_spaces'].value_counts().sort_values()"
   ]
  },
  {
   "cell_type": "markdown",
   "metadata": {
    "datalore": {
     "sheet_delimiter": false,
     "type": "MD"
    },
    "jupyter": {
     "outputs_hidden": false,
     "source_hidden": false
    },
    "pycharm": {
     "name": "#%% md\n"
    }
   },
   "source": [
    "**Вывод**\n",
    "\n",
    "Значения required_car_parking_spaces (необходимость места для автомобиля) содержит значения отличне от 0 и 1. Либо это информация о количестве требуемых мест, либо ошибка. Приведем все значения больше 1 к значению 1"
   ]
  },
  {
   "cell_type": "code",
   "execution_count": 47,
   "metadata": {
    "datalore": {
     "sheet_delimiter": false,
     "type": "CODE"
    },
    "jupyter": {
     "outputs_hidden": false,
     "source_hidden": false
    },
    "pycharm": {
     "name": "#%%\n"
    }
   },
   "outputs": [],
   "source": [
    "merge_data['required_car_parking_spaces'] = merge_data['required_car_parking_spaces'].apply(lambda x: x == 1 if x > 1 else x)"
   ]
  },
  {
   "cell_type": "code",
   "execution_count": 48,
   "metadata": {
    "datalore": {
     "sheet_delimiter": false,
     "type": "CODE"
    },
    "jupyter": {
     "outputs_hidden": false,
     "source_hidden": false
    },
    "pycharm": {
     "name": "#%%\n"
    }
   },
   "outputs": [
    {
     "data": {
      "image/png": "[encoded data removed]",
      "text/plain": [
       "<Figure size 1080x216 with 1 Axes>"
      ]
     },
     "metadata": {
      "needs_background": "light"
     },
     "output_type": "display_data"
    }
   ],
   "source": [
    "(\n",
    "    merge_data['reserved_room_type'].value_counts().\n",
    "    sort_values(ascending=False).\n",
    "    plot(kind='bar', figsize=(15,3), \n",
    "         title=\"Распределение типов номеров\")\n",
    ")\n",
    "plt.show()"
   ]
  },
  {
   "cell_type": "code",
   "execution_count": 49,
   "metadata": {
    "datalore": {
     "sheet_delimiter": false,
     "type": "CODE"
    },
    "jupyter": {
     "outputs_hidden": false,
     "source_hidden": false
    },
    "pycharm": {
     "name": "#%%\n"
    }
   },
   "outputs": [
    {
     "data": {
      "text/plain": [
       "<matplotlib.axes._subplots.AxesSubplot at 0x7f9c9c5d6bd0>"
      ]
     },
     "execution_count": 49,
     "metadata": {},
     "output_type": "execute_result"
    },
    {
     "data": {
      "image/png": "[encoded data removed]",
      "text/plain": [
       "<Figure size 1080x360 with 1 Axes>"
      ]
     },
     "metadata": {
      "needs_background": "light"
     },
     "output_type": "display_data"
    }
   ],
   "source": [
    "merge_data.groupby(['reserved_room_type', 'is_canceled'])['id'].agg('sum').unstack().plot(kind='bar', figsize=(15,5))"
   ]
  },
  {
   "cell_type": "code",
   "execution_count": 50,
   "metadata": {
    "datalore": {
     "sheet_delimiter": false,
     "type": "CODE"
    },
    "jupyter": {
     "outputs_hidden": false,
     "source_hidden": false
    },
    "pycharm": {
     "name": "#%%\n"
    }
   },
   "outputs": [
    {
     "data": {
      "text/plain": [
       "Index(['A               ', 'D               ', 'E               ',\n",
       "       'F               ', 'B               ', 'G               ',\n",
       "       'C               '],\n",
       "      dtype='object')"
      ]
     },
     "execution_count": 50,
     "metadata": {},
     "output_type": "execute_result"
    }
   ],
   "source": [
    "merge_data['reserved_room_type'].value_counts().index"
   ]
  },
  {
   "cell_type": "code",
   "execution_count": 51,
   "metadata": {
    "datalore": {
     "sheet_delimiter": false,
     "type": "CODE"
    },
    "jupyter": {
     "outputs_hidden": false,
     "source_hidden": false
    },
    "pycharm": {
     "name": "#%%\n"
    }
   },
   "outputs": [],
   "source": [
    "#В названиях категорий присутствуют пробелы\n",
    "merge_data['reserved_room_type'] = merge_data['reserved_room_type'].apply(lambda x: str.strip(x))"
   ]
  },
  {
   "cell_type": "code",
   "execution_count": 52,
   "metadata": {
    "datalore": {
     "sheet_delimiter": false,
     "type": "CODE"
    },
    "jupyter": {
     "outputs_hidden": false,
     "source_hidden": false
    },
    "pycharm": {
     "name": "#%%\n"
    }
   },
   "outputs": [
    {
     "data": {
      "text/plain": [
       "<matplotlib.axes._subplots.AxesSubplot at 0x7f9c9c583b90>"
      ]
     },
     "execution_count": 52,
     "metadata": {},
     "output_type": "execute_result"
    },
    {
     "data": {
      "image/png": "[encoded data removed]",
      "text/plain": [
       "<Figure size 1080x360 with 1 Axes>"
      ]
     },
     "metadata": {
      "needs_background": "light"
     },
     "output_type": "display_data"
    }
   ],
   "source": [
    "merge_data.groupby(['reserved_room_type', 'is_canceled'])['id'].agg('sum').unstack().plot(kind='bar', figsize=(15,5))"
   ]
  },
  {
   "cell_type": "code",
   "execution_count": 53,
   "metadata": {
    "datalore": {
     "sheet_delimiter": false,
     "type": "CODE"
    },
    "jupyter": {
     "outputs_hidden": false,
     "source_hidden": false
    },
    "pycharm": {
     "name": "#%%\n"
    }
   },
   "outputs": [
    {
     "data": {
      "text/html": [
       "<div>\n",
       "<style scoped>\n",
       "    .dataframe tbody tr th:only-of-type {\n",
       "        vertical-align: middle;\n",
       "    }\n",
       "\n",
       "    .dataframe tbody tr th {\n",
       "        vertical-align: top;\n",
       "    }\n",
       "\n",
       "    .dataframe thead th {\n",
       "        text-align: right;\n",
       "    }\n",
       "</style>\n",
       "<table border=\"1\" class=\"dataframe\">\n",
       "  <thead>\n",
       "    <tr style=\"text-align: right;\">\n",
       "      <th></th>\n",
       "      <th>id</th>\n",
       "      <th>is_canceled</th>\n",
       "      <th>lead_time</th>\n",
       "      <th>arrival_date_year</th>\n",
       "      <th>arrival_date_month</th>\n",
       "      <th>arrival_date_week_number</th>\n",
       "      <th>arrival_date_day_of_month</th>\n",
       "      <th>stays_in_weekend_nights</th>\n",
       "      <th>stays_in_week_nights</th>\n",
       "      <th>adults</th>\n",
       "      <th>...</th>\n",
       "      <th>previous_cancellations</th>\n",
       "      <th>previous_bookings_not_canceled</th>\n",
       "      <th>reserved_room_type</th>\n",
       "      <th>booking_changes</th>\n",
       "      <th>days_in_waiting_list</th>\n",
       "      <th>customer_type</th>\n",
       "      <th>required_car_parking_spaces</th>\n",
       "      <th>total_of_special_requests</th>\n",
       "      <th>total_nights</th>\n",
       "      <th>season</th>\n",
       "    </tr>\n",
       "  </thead>\n",
       "  <tbody>\n",
       "    <tr>\n",
       "      <td>0</td>\n",
       "      <td>0</td>\n",
       "      <td>0</td>\n",
       "      <td>7</td>\n",
       "      <td>2015</td>\n",
       "      <td>July</td>\n",
       "      <td>27</td>\n",
       "      <td>1</td>\n",
       "      <td>0</td>\n",
       "      <td>1</td>\n",
       "      <td>1</td>\n",
       "      <td>...</td>\n",
       "      <td>0</td>\n",
       "      <td>0</td>\n",
       "      <td>A</td>\n",
       "      <td>0</td>\n",
       "      <td>0</td>\n",
       "      <td>Transient</td>\n",
       "      <td>0</td>\n",
       "      <td>0</td>\n",
       "      <td>1</td>\n",
       "      <td>Autumn</td>\n",
       "    </tr>\n",
       "    <tr>\n",
       "      <td>1</td>\n",
       "      <td>1</td>\n",
       "      <td>0</td>\n",
       "      <td>14</td>\n",
       "      <td>2015</td>\n",
       "      <td>July</td>\n",
       "      <td>27</td>\n",
       "      <td>1</td>\n",
       "      <td>0</td>\n",
       "      <td>2</td>\n",
       "      <td>2</td>\n",
       "      <td>...</td>\n",
       "      <td>0</td>\n",
       "      <td>0</td>\n",
       "      <td>A</td>\n",
       "      <td>0</td>\n",
       "      <td>0</td>\n",
       "      <td>Transient</td>\n",
       "      <td>0</td>\n",
       "      <td>1</td>\n",
       "      <td>2</td>\n",
       "      <td>Autumn</td>\n",
       "    </tr>\n",
       "    <tr>\n",
       "      <td>2</td>\n",
       "      <td>2</td>\n",
       "      <td>0</td>\n",
       "      <td>0</td>\n",
       "      <td>2015</td>\n",
       "      <td>July</td>\n",
       "      <td>27</td>\n",
       "      <td>1</td>\n",
       "      <td>0</td>\n",
       "      <td>2</td>\n",
       "      <td>2</td>\n",
       "      <td>...</td>\n",
       "      <td>0</td>\n",
       "      <td>0</td>\n",
       "      <td>C</td>\n",
       "      <td>0</td>\n",
       "      <td>0</td>\n",
       "      <td>Transient</td>\n",
       "      <td>0</td>\n",
       "      <td>0</td>\n",
       "      <td>2</td>\n",
       "      <td>Autumn</td>\n",
       "    </tr>\n",
       "    <tr>\n",
       "      <td>3</td>\n",
       "      <td>3</td>\n",
       "      <td>0</td>\n",
       "      <td>9</td>\n",
       "      <td>2015</td>\n",
       "      <td>July</td>\n",
       "      <td>27</td>\n",
       "      <td>1</td>\n",
       "      <td>0</td>\n",
       "      <td>2</td>\n",
       "      <td>2</td>\n",
       "      <td>...</td>\n",
       "      <td>0</td>\n",
       "      <td>0</td>\n",
       "      <td>C</td>\n",
       "      <td>0</td>\n",
       "      <td>0</td>\n",
       "      <td>Transient</td>\n",
       "      <td>0</td>\n",
       "      <td>1</td>\n",
       "      <td>2</td>\n",
       "      <td>Autumn</td>\n",
       "    </tr>\n",
       "    <tr>\n",
       "      <td>4</td>\n",
       "      <td>4</td>\n",
       "      <td>1</td>\n",
       "      <td>85</td>\n",
       "      <td>2015</td>\n",
       "      <td>July</td>\n",
       "      <td>27</td>\n",
       "      <td>1</td>\n",
       "      <td>0</td>\n",
       "      <td>3</td>\n",
       "      <td>2</td>\n",
       "      <td>...</td>\n",
       "      <td>0</td>\n",
       "      <td>0</td>\n",
       "      <td>A</td>\n",
       "      <td>0</td>\n",
       "      <td>0</td>\n",
       "      <td>Transient</td>\n",
       "      <td>0</td>\n",
       "      <td>1</td>\n",
       "      <td>3</td>\n",
       "      <td>Autumn</td>\n",
       "    </tr>\n",
       "  </tbody>\n",
       "</table>\n",
       "<p>5 rows × 26 columns</p>\n",
       "</div>"
      ],
      "text/plain": [
       "   id  is_canceled  lead_time  arrival_date_year arrival_date_month  \\\n",
       "0   0            0          7               2015               July   \n",
       "1   1            0         14               2015               July   \n",
       "2   2            0          0               2015               July   \n",
       "3   3            0          9               2015               July   \n",
       "4   4            1         85               2015               July   \n",
       "\n",
       "   arrival_date_week_number  arrival_date_day_of_month  \\\n",
       "0                        27                          1   \n",
       "1                        27                          1   \n",
       "2                        27                          1   \n",
       "3                        27                          1   \n",
       "4                        27                          1   \n",
       "\n",
       "   stays_in_weekend_nights  stays_in_week_nights  adults  ...  \\\n",
       "0                        0                     1       1  ...   \n",
       "1                        0                     2       2  ...   \n",
       "2                        0                     2       2  ...   \n",
       "3                        0                     2       2  ...   \n",
       "4                        0                     3       2  ...   \n",
       "\n",
       "   previous_cancellations  previous_bookings_not_canceled reserved_room_type  \\\n",
       "0                       0                               0                  A   \n",
       "1                       0                               0                  A   \n",
       "2                       0                               0                  C   \n",
       "3                       0                               0                  C   \n",
       "4                       0                               0                  A   \n",
       "\n",
       "  booking_changes days_in_waiting_list  customer_type  \\\n",
       "0               0                    0      Transient   \n",
       "1               0                    0      Transient   \n",
       "2               0                    0      Transient   \n",
       "3               0                    0      Transient   \n",
       "4               0                    0      Transient   \n",
       "\n",
       "   required_car_parking_spaces  total_of_special_requests total_nights  season  \n",
       "0                            0                          0            1  Autumn  \n",
       "1                            0                          1            2  Autumn  \n",
       "2                            0                          0            2  Autumn  \n",
       "3                            0                          1            2  Autumn  \n",
       "4                            0                          1            3  Autumn  \n",
       "\n",
       "[5 rows x 26 columns]"
      ]
     },
     "execution_count": 53,
     "metadata": {},
     "output_type": "execute_result"
    }
   ],
   "source": [
    "merge_data.head()"
   ]
  },
  {
   "cell_type": "code",
   "execution_count": 54,
   "metadata": {
    "datalore": {
     "sheet_delimiter": false,
     "type": "CODE"
    },
    "jupyter": {
     "outputs_hidden": false,
     "source_hidden": false
    },
    "pycharm": {
     "name": "#%%\n"
    }
   },
   "outputs": [
    {
     "data": {
      "text/html": [
       "<div>\n",
       "<style scoped>\n",
       "    .dataframe tbody tr th:only-of-type {\n",
       "        vertical-align: middle;\n",
       "    }\n",
       "\n",
       "    .dataframe tbody tr th {\n",
       "        vertical-align: top;\n",
       "    }\n",
       "\n",
       "    .dataframe thead th {\n",
       "        text-align: right;\n",
       "    }\n",
       "</style>\n",
       "<table border=\"1\" class=\"dataframe\">\n",
       "  <thead>\n",
       "    <tr style=\"text-align: right;\">\n",
       "      <th></th>\n",
       "      <th>is_canceled</th>\n",
       "      <th>lead_time</th>\n",
       "      <th>adults</th>\n",
       "      <th>children</th>\n",
       "      <th>babies</th>\n",
       "      <th>is_repeated_guest</th>\n",
       "      <th>previous_cancellations</th>\n",
       "      <th>previous_bookings_not_canceled</th>\n",
       "      <th>booking_changes</th>\n",
       "      <th>days_in_waiting_list</th>\n",
       "      <th>total_of_special_requests</th>\n",
       "      <th>total_nights</th>\n",
       "    </tr>\n",
       "  </thead>\n",
       "  <tbody>\n",
       "    <tr>\n",
       "      <td>is_canceled</td>\n",
       "      <td>1.000000</td>\n",
       "      <td>0.299984</td>\n",
       "      <td>0.056370</td>\n",
       "      <td>-0.007118</td>\n",
       "      <td>-0.032091</td>\n",
       "      <td>-0.069861</td>\n",
       "      <td>0.119424</td>\n",
       "      <td>-0.052694</td>\n",
       "      <td>-0.140665</td>\n",
       "      <td>0.060559</td>\n",
       "      <td>-0.239981</td>\n",
       "      <td>0.013989</td>\n",
       "    </tr>\n",
       "    <tr>\n",
       "      <td>lead_time</td>\n",
       "      <td>0.299984</td>\n",
       "      <td>1.000000</td>\n",
       "      <td>0.139605</td>\n",
       "      <td>-0.021252</td>\n",
       "      <td>-0.017629</td>\n",
       "      <td>-0.114866</td>\n",
       "      <td>0.114428</td>\n",
       "      <td>-0.070645</td>\n",
       "      <td>0.006326</td>\n",
       "      <td>0.179106</td>\n",
       "      <td>-0.087274</td>\n",
       "      <td>0.204456</td>\n",
       "    </tr>\n",
       "    <tr>\n",
       "      <td>adults</td>\n",
       "      <td>0.056370</td>\n",
       "      <td>0.139605</td>\n",
       "      <td>1.000000</td>\n",
       "      <td>-0.003363</td>\n",
       "      <td>0.019303</td>\n",
       "      <td>-0.172597</td>\n",
       "      <td>-0.006787</td>\n",
       "      <td>-0.122792</td>\n",
       "      <td>-0.057814</td>\n",
       "      <td>-0.013161</td>\n",
       "      <td>0.154778</td>\n",
       "      <td>0.155435</td>\n",
       "    </tr>\n",
       "    <tr>\n",
       "      <td>children</td>\n",
       "      <td>-0.007118</td>\n",
       "      <td>-0.021252</td>\n",
       "      <td>-0.003363</td>\n",
       "      <td>1.000000</td>\n",
       "      <td>0.020284</td>\n",
       "      <td>-0.027708</td>\n",
       "      <td>-0.023967</td>\n",
       "      <td>-0.017159</td>\n",
       "      <td>0.049228</td>\n",
       "      <td>-0.033218</td>\n",
       "      <td>0.097475</td>\n",
       "      <td>0.039217</td>\n",
       "    </tr>\n",
       "    <tr>\n",
       "      <td>babies</td>\n",
       "      <td>-0.032091</td>\n",
       "      <td>-0.017629</td>\n",
       "      <td>0.019303</td>\n",
       "      <td>0.020284</td>\n",
       "      <td>1.000000</td>\n",
       "      <td>-0.008433</td>\n",
       "      <td>-0.007073</td>\n",
       "      <td>-0.005749</td>\n",
       "      <td>0.078981</td>\n",
       "      <td>-0.011043</td>\n",
       "      <td>0.087116</td>\n",
       "      <td>0.026057</td>\n",
       "    </tr>\n",
       "    <tr>\n",
       "      <td>is_repeated_guest</td>\n",
       "      <td>-0.069861</td>\n",
       "      <td>-0.114866</td>\n",
       "      <td>-0.172597</td>\n",
       "      <td>-0.027708</td>\n",
       "      <td>-0.008433</td>\n",
       "      <td>1.000000</td>\n",
       "      <td>0.101302</td>\n",
       "      <td>0.428689</td>\n",
       "      <td>0.011554</td>\n",
       "      <td>-0.023586</td>\n",
       "      <td>0.000016</td>\n",
       "      <td>-0.120718</td>\n",
       "    </tr>\n",
       "    <tr>\n",
       "      <td>previous_cancellations</td>\n",
       "      <td>0.119424</td>\n",
       "      <td>0.114428</td>\n",
       "      <td>-0.006787</td>\n",
       "      <td>-0.023967</td>\n",
       "      <td>-0.007073</td>\n",
       "      <td>0.101302</td>\n",
       "      <td>1.000000</td>\n",
       "      <td>0.174267</td>\n",
       "      <td>-0.028004</td>\n",
       "      <td>0.010679</td>\n",
       "      <td>-0.055219</td>\n",
       "      <td>-0.013746</td>\n",
       "    </tr>\n",
       "    <tr>\n",
       "      <td>previous_bookings_not_canceled</td>\n",
       "      <td>-0.052694</td>\n",
       "      <td>-0.070645</td>\n",
       "      <td>-0.122792</td>\n",
       "      <td>-0.017159</td>\n",
       "      <td>-0.005749</td>\n",
       "      <td>0.428689</td>\n",
       "      <td>0.174267</td>\n",
       "      <td>1.000000</td>\n",
       "      <td>0.014786</td>\n",
       "      <td>-0.009255</td>\n",
       "      <td>0.024882</td>\n",
       "      <td>-0.057777</td>\n",
       "    </tr>\n",
       "    <tr>\n",
       "      <td>booking_changes</td>\n",
       "      <td>-0.140665</td>\n",
       "      <td>0.006326</td>\n",
       "      <td>-0.057814</td>\n",
       "      <td>0.049228</td>\n",
       "      <td>0.078981</td>\n",
       "      <td>0.011554</td>\n",
       "      <td>-0.028004</td>\n",
       "      <td>0.014786</td>\n",
       "      <td>1.000000</td>\n",
       "      <td>-0.008155</td>\n",
       "      <td>0.050768</td>\n",
       "      <td>0.053770</td>\n",
       "    </tr>\n",
       "    <tr>\n",
       "      <td>days_in_waiting_list</td>\n",
       "      <td>0.060559</td>\n",
       "      <td>0.179106</td>\n",
       "      <td>-0.013161</td>\n",
       "      <td>-0.033218</td>\n",
       "      <td>-0.011043</td>\n",
       "      <td>-0.023586</td>\n",
       "      <td>0.010679</td>\n",
       "      <td>-0.009255</td>\n",
       "      <td>-0.008155</td>\n",
       "      <td>1.000000</td>\n",
       "      <td>-0.093692</td>\n",
       "      <td>-0.005266</td>\n",
       "    </tr>\n",
       "    <tr>\n",
       "      <td>total_of_special_requests</td>\n",
       "      <td>-0.239981</td>\n",
       "      <td>-0.087274</td>\n",
       "      <td>0.154778</td>\n",
       "      <td>0.097475</td>\n",
       "      <td>0.087116</td>\n",
       "      <td>0.000016</td>\n",
       "      <td>-0.055219</td>\n",
       "      <td>0.024882</td>\n",
       "      <td>0.050768</td>\n",
       "      <td>-0.093692</td>\n",
       "      <td>1.000000</td>\n",
       "      <td>0.092598</td>\n",
       "    </tr>\n",
       "    <tr>\n",
       "      <td>total_nights</td>\n",
       "      <td>0.013989</td>\n",
       "      <td>0.204456</td>\n",
       "      <td>0.155435</td>\n",
       "      <td>0.039217</td>\n",
       "      <td>0.026057</td>\n",
       "      <td>-0.120718</td>\n",
       "      <td>-0.013746</td>\n",
       "      <td>-0.057777</td>\n",
       "      <td>0.053770</td>\n",
       "      <td>-0.005266</td>\n",
       "      <td>0.092598</td>\n",
       "      <td>1.000000</td>\n",
       "    </tr>\n",
       "  </tbody>\n",
       "</table>\n",
       "</div>"
      ],
      "text/plain": [
       "                                is_canceled  lead_time    adults  children  \\\n",
       "is_canceled                        1.000000   0.299984  0.056370 -0.007118   \n",
       "lead_time                          0.299984   1.000000  0.139605 -0.021252   \n",
       "adults                             0.056370   0.139605  1.000000 -0.003363   \n",
       "children                          -0.007118  -0.021252 -0.003363  1.000000   \n",
       "babies                            -0.032091  -0.017629  0.019303  0.020284   \n",
       "is_repeated_guest                 -0.069861  -0.114866 -0.172597 -0.027708   \n",
       "previous_cancellations             0.119424   0.114428 -0.006787 -0.023967   \n",
       "previous_bookings_not_canceled    -0.052694  -0.070645 -0.122792 -0.017159   \n",
       "booking_changes                   -0.140665   0.006326 -0.057814  0.049228   \n",
       "days_in_waiting_list               0.060559   0.179106 -0.013161 -0.033218   \n",
       "total_of_special_requests         -0.239981  -0.087274  0.154778  0.097475   \n",
       "total_nights                       0.013989   0.204456  0.155435  0.039217   \n",
       "\n",
       "                                  babies  is_repeated_guest  \\\n",
       "is_canceled                    -0.032091          -0.069861   \n",
       "lead_time                      -0.017629          -0.114866   \n",
       "adults                          0.019303          -0.172597   \n",
       "children                        0.020284          -0.027708   \n",
       "babies                          1.000000          -0.008433   \n",
       "is_repeated_guest              -0.008433           1.000000   \n",
       "previous_cancellations         -0.007073           0.101302   \n",
       "previous_bookings_not_canceled -0.005749           0.428689   \n",
       "booking_changes                 0.078981           0.011554   \n",
       "days_in_waiting_list           -0.011043          -0.023586   \n",
       "total_of_special_requests       0.087116           0.000016   \n",
       "total_nights                    0.026057          -0.120718   \n",
       "\n",
       "                                previous_cancellations  \\\n",
       "is_canceled                                   0.119424   \n",
       "lead_time                                     0.114428   \n",
       "adults                                       -0.006787   \n",
       "children                                     -0.023967   \n",
       "babies                                       -0.007073   \n",
       "is_repeated_guest                             0.101302   \n",
       "previous_cancellations                        1.000000   \n",
       "previous_bookings_not_canceled                0.174267   \n",
       "booking_changes                              -0.028004   \n",
       "days_in_waiting_list                          0.010679   \n",
       "total_of_special_requests                    -0.055219   \n",
       "total_nights                                 -0.013746   \n",
       "\n",
       "                                previous_bookings_not_canceled  \\\n",
       "is_canceled                                          -0.052694   \n",
       "lead_time                                            -0.070645   \n",
       "adults                                               -0.122792   \n",
       "children                                             -0.017159   \n",
       "babies                                               -0.005749   \n",
       "is_repeated_guest                                     0.428689   \n",
       "previous_cancellations                                0.174267   \n",
       "previous_bookings_not_canceled                        1.000000   \n",
       "booking_changes                                       0.014786   \n",
       "days_in_waiting_list                                 -0.009255   \n",
       "total_of_special_requests                             0.024882   \n",
       "total_nights                                         -0.057777   \n",
       "\n",
       "                                booking_changes  days_in_waiting_list  \\\n",
       "is_canceled                           -0.140665              0.060559   \n",
       "lead_time                              0.006326              0.179106   \n",
       "adults                                -0.057814             -0.013161   \n",
       "children                               0.049228             -0.033218   \n",
       "babies                                 0.078981             -0.011043   \n",
       "is_repeated_guest                      0.011554             -0.023586   \n",
       "previous_cancellations                -0.028004              0.010679   \n",
       "previous_bookings_not_canceled         0.014786             -0.009255   \n",
       "booking_changes                        1.000000             -0.008155   \n",
       "days_in_waiting_list                  -0.008155              1.000000   \n",
       "total_of_special_requests              0.050768             -0.093692   \n",
       "total_nights                           0.053770             -0.005266   \n",
       "\n",
       "                                total_of_special_requests  total_nights  \n",
       "is_canceled                                     -0.239981      0.013989  \n",
       "lead_time                                       -0.087274      0.204456  \n",
       "adults                                           0.154778      0.155435  \n",
       "children                                         0.097475      0.039217  \n",
       "babies                                           0.087116      0.026057  \n",
       "is_repeated_guest                                0.000016     -0.120718  \n",
       "previous_cancellations                          -0.055219     -0.013746  \n",
       "previous_bookings_not_canceled                   0.024882     -0.057777  \n",
       "booking_changes                                  0.050768      0.053770  \n",
       "days_in_waiting_list                            -0.093692     -0.005266  \n",
       "total_of_special_requests                        1.000000      0.092598  \n",
       "total_nights                                     0.092598      1.000000  "
      ]
     },
     "execution_count": 54,
     "metadata": {},
     "output_type": "execute_result"
    }
   ],
   "source": [
    "merge_data[['is_canceled', 'lead_time', 'adults', \n",
    "            'children', 'babies', 'is_repeated_guest', \n",
    "            'previous_cancellations', 'previous_bookings_not_canceled', \n",
    "            'booking_changes','days_in_waiting_list', 'required_car_parking_spaces',\n",
    "            'total_of_special_requests', 'total_nights']].corr()"
   ]
  },
  {
   "cell_type": "markdown",
   "metadata": {
    "pycharm": {
     "name": "#%% md\n"
    }
   },
   "source": [
    "Да, согласен. С корреляццией возникли проблемы, т.к. признаки категориальные и их очень много. Решил решать задачу не заостряя внимания на корреляцию. Да и времени не очень мого отсается."
   ]
  },
  {
   "cell_type": "markdown",
   "metadata": {
    "datalore": {
     "sheet_delimiter": false,
     "type": "MD"
    },
    "jupyter": {
     "outputs_hidden": false,
     "source_hidden": false
    },
    "pycharm": {
     "name": "#%% md\n"
    }
   },
   "source": [
    "### Шаг 3. Вычислите бизнес-метрику"
   ]
  },
  {
   "cell_type": "code",
   "execution_count": 55,
   "metadata": {
    "datalore": {
     "sheet_delimiter": false,
     "type": "CODE"
    },
    "jupyter": {
     "outputs_hidden": false,
     "source_hidden": false
    },
    "pycharm": {
     "name": "#%%\n"
    }
   },
   "outputs": [],
   "source": [
    "'''\n",
    "категория A: за ночь — 1 000, разовое обслуживание — 400;\n",
    "категория B: за ночь — 800, разовое обслуживание — 350;\n",
    "категория C: за ночь — 600, разовое обслуживание — 350;\n",
    "категория D: за ночь — 550, разовое обслуживание — 150;\n",
    "категория E: за ночь — 500, разовое обслуживание — 150;\n",
    "категория F: за ночь — 450, разовое обслуживание — 150;\n",
    "категория G: за ночь — 350, разовое обслуживание — 150.\n",
    "В ценовой политике отеля используются сезонные коэффициенты: весной и осенью цены повышаются на 20%, летом — на 40%.\n",
    "'''\n",
    "\n",
    "def set_price(value):\n",
    "    if value == 'A':\n",
    "        return 1000\n",
    "    elif value == 'B':\n",
    "        return 800\n",
    "    elif value == 'C':\n",
    "        return 600\n",
    "    elif value == 'D':\n",
    "        return 550\n",
    "    elif value == 'E':\n",
    "        return 500\n",
    "    elif value == 'F':\n",
    "        return 450\n",
    "    elif value == 'G':\n",
    "        return 350\n",
    "\n",
    "def set_price_service(value):\n",
    "    if value == 'A':\n",
    "        return 400\n",
    "    elif value == 'B':\n",
    "        return 350\n",
    "    elif value == 'C':\n",
    "        return 350\n",
    "    elif value == 'D':\n",
    "        return 150\n",
    "    elif value == 'E':\n",
    "        return 150\n",
    "    elif value == 'F':\n",
    "        return 150\n",
    "    elif value == 'G':\n",
    "        return 150"
   ]
  },
  {
   "cell_type": "code",
   "execution_count": 56,
   "metadata": {
    "datalore": {
     "sheet_delimiter": false,
     "type": "CODE"
    },
    "jupyter": {
     "outputs_hidden": false,
     "source_hidden": false
    },
    "pycharm": {
     "name": "#%%\n"
    }
   },
   "outputs": [],
   "source": [
    "merge_data['price'] = merge_data['reserved_room_type'].apply(lambda x: set_price(x))\n",
    "merge_data['price_service'] = merge_data['reserved_room_type'].apply(lambda x: set_price_service(x))"
   ]
  },
  {
   "cell_type": "code",
   "execution_count": 57,
   "metadata": {
    "datalore": {
     "sheet_delimiter": false,
     "type": "CODE"
    },
    "jupyter": {
     "outputs_hidden": false,
     "source_hidden": false
    },
    "pycharm": {
     "name": "#%%\n"
    }
   },
   "outputs": [],
   "source": [
    "#В случае если клиент заказывает номер на долго то уборка 1 раз в 2 дня. \n",
    "#Посчитаем количество уборок.\n",
    "\n",
    "def count_service(x):\n",
    "    if x <= 2: \n",
    "        return 1\n",
    "    else:\n",
    "        return np.divmod(x, 2)[0]"
   ]
  },
  {
   "cell_type": "code",
   "execution_count": 58,
   "metadata": {
    "datalore": {
     "sheet_delimiter": false,
     "type": "CODE"
    },
    "jupyter": {
     "outputs_hidden": false,
     "source_hidden": false
    },
    "pycharm": {
     "name": "#%%\n"
    }
   },
   "outputs": [],
   "source": [
    "merge_data['count_service'] = merge_data['total_nights'].apply(lambda x: count_service(x))"
   ]
  },
  {
   "cell_type": "code",
   "execution_count": 59,
   "metadata": {
    "datalore": {
     "sheet_delimiter": false,
     "type": "CODE"
    },
    "jupyter": {
     "outputs_hidden": false,
     "source_hidden": false
    },
    "pycharm": {
     "name": "#%%\n"
    }
   },
   "outputs": [
    {
     "data": {
      "text/plain": [
       "1    65189\n",
       "2    22154\n",
       "3     9154\n",
       "4      971\n",
       "5      173\n",
       "Name: count_service, dtype: int64"
      ]
     },
     "execution_count": 59,
     "metadata": {},
     "output_type": "execute_result"
    }
   ],
   "source": [
    "merge_data['count_service'].value_counts()"
   ]
  },
  {
   "cell_type": "code",
   "execution_count": 60,
   "metadata": {
    "datalore": {
     "sheet_delimiter": false,
     "type": "CODE"
    },
    "jupyter": {
     "outputs_hidden": false,
     "source_hidden": false
    },
    "pycharm": {
     "name": "#%%\n"
    }
   },
   "outputs": [],
   "source": [
    "def calc_season_price(x):\n",
    "    if x['season'] in ['Spring', 'Autumn']:\n",
    "        return x['price'] * 1.2\n",
    "        #x['price_service'] = x['price_service'] * 1.2\n",
    "\n",
    "    elif x['season'] == 'Summer':\n",
    "        return x['price'] * 1.4\n",
    "        #x['price_service'] = x['price_service'] * 1.4\n",
    "    \n",
    "def calc_season_price_service(x):\n",
    "    if x['season'] in ['Spring', 'Autumn']:\n",
    "        return x['price_service'] * 1.2\n",
    "        #x['price_service'] = x['price_service'] * 1.2\n",
    "\n",
    "    elif x['season'] == 'Summer':\n",
    "        return x['price_service'] * 1.4\n",
    "        #x['price_service'] = x['price_service'] * 1.4"
   ]
  },
  {
   "cell_type": "code",
   "execution_count": 61,
   "metadata": {
    "datalore": {
     "sheet_delimiter": false,
     "type": "CODE"
    },
    "jupyter": {
     "outputs_hidden": false,
     "source_hidden": false
    },
    "pycharm": {
     "name": "#%%\n"
    }
   },
   "outputs": [],
   "source": [
    "#Внесем корректировки по сезонной стоимости\n",
    "merge_data['price'] = merge_data[['price', 'season']].apply(lambda x: calc_season_price(x), axis=1)"
   ]
  },
  {
   "cell_type": "code",
   "execution_count": 62,
   "metadata": {
    "datalore": {
     "sheet_delimiter": false,
     "type": "CODE"
    },
    "jupyter": {
     "outputs_hidden": false,
     "source_hidden": false
    },
    "pycharm": {
     "name": "#%%\n"
    }
   },
   "outputs": [],
   "source": [
    "merge_data['price_service'] = merge_data[['price_service', 'season']].apply(lambda x: calc_season_price_service(x), axis=1)"
   ]
  },
  {
   "cell_type": "code",
   "execution_count": 63,
   "metadata": {
    "datalore": {
     "sheet_delimiter": false,
     "type": "CODE"
    },
    "jupyter": {
     "outputs_hidden": false,
     "source_hidden": false
    },
    "pycharm": {
     "name": "#%%\n"
    }
   },
   "outputs": [],
   "source": [
    "# Функция расчета дохода \n",
    "def calc_income(x):\n",
    "    if x['is_canceled'] == 1:\n",
    "        return 0\n",
    "    else:\n",
    "        return x['total_nights'] * x['price'] - x['price_service'] * x['count_service']"
   ]
  },
  {
   "cell_type": "markdown",
   "metadata": {
    "pycharm": {
     "name": "#%% md\n"
    }
   },
   "source": [
    "Да, здесь я просто не то посчитал"
   ]
  },
  {
   "cell_type": "code",
   "execution_count": 64,
   "metadata": {
    "datalore": {
     "sheet_delimiter": false,
     "type": "CODE"
    },
    "jupyter": {
     "outputs_hidden": false,
     "source_hidden": false
    },
    "pycharm": {
     "name": "#%%\n"
    }
   },
   "outputs": [],
   "source": [
    "#Расчитаем доход кот клиентов без внедрения демозитов\n",
    "merge_data['income'] = merge_data.apply(lambda x: calc_income(x), axis=1)"
   ]
  },
  {
   "cell_type": "code",
   "execution_count": 65,
   "metadata": {
    "datalore": {
     "sheet_delimiter": false,
     "type": "CODE"
    },
    "jupyter": {
     "outputs_hidden": false,
     "source_hidden": false
    },
    "pycharm": {
     "name": "#%%\n"
    }
   },
   "outputs": [
    {
     "name": "stdout",
     "output_type": "stream",
     "text": [
      "Доход полученный за все время без внедрения депозитов 136.34 млн.\n"
     ]
    }
   ],
   "source": [
    "print(\"Доход полученный за все время без внедрения депозитов {0:.2f} млн.\".format(merge_data['income'].sum() / 1000000))"
   ]
  },
  {
   "cell_type": "code",
   "execution_count": 66,
   "metadata": {
    "pycharm": {
     "name": "#%%\n"
    }
   },
   "outputs": [
    {
     "data": {
      "text/plain": [
       "(88.72807, 136.34209, 34.1666)"
      ]
     },
     "execution_count": 66,
     "metadata": {},
     "output_type": "execute_result"
    }
   ],
   "source": [
    "(merge_data['price'].sum() / 1000000), merge_data['income'].sum() / 1000000, merge_data['price_service'].sum() / 1000000"
   ]
  },
  {
   "cell_type": "markdown",
   "metadata": {
    "pycharm": {
     "name": "#%% md\n"
    }
   },
   "source": [
    "В функции уже учитываеются отказники, если отказ, то доход по такой"
   ]
  },
  {
   "cell_type": "code",
   "execution_count": 67,
   "metadata": {
    "pycharm": {
     "name": "#%%\n"
    }
   },
   "outputs": [
    {
     "data": {
      "text/html": [
       "<div>\n",
       "<style scoped>\n",
       "    .dataframe tbody tr th:only-of-type {\n",
       "        vertical-align: middle;\n",
       "    }\n",
       "\n",
       "    .dataframe tbody tr th {\n",
       "        vertical-align: top;\n",
       "    }\n",
       "\n",
       "    .dataframe thead th {\n",
       "        text-align: right;\n",
       "    }\n",
       "</style>\n",
       "<table border=\"1\" class=\"dataframe\">\n",
       "  <thead>\n",
       "    <tr style=\"text-align: right;\">\n",
       "      <th></th>\n",
       "      <th>id</th>\n",
       "      <th>is_canceled</th>\n",
       "      <th>lead_time</th>\n",
       "      <th>arrival_date_year</th>\n",
       "      <th>arrival_date_month</th>\n",
       "      <th>arrival_date_week_number</th>\n",
       "      <th>arrival_date_day_of_month</th>\n",
       "      <th>stays_in_weekend_nights</th>\n",
       "      <th>stays_in_week_nights</th>\n",
       "      <th>adults</th>\n",
       "      <th>...</th>\n",
       "      <th>days_in_waiting_list</th>\n",
       "      <th>customer_type</th>\n",
       "      <th>required_car_parking_spaces</th>\n",
       "      <th>total_of_special_requests</th>\n",
       "      <th>total_nights</th>\n",
       "      <th>season</th>\n",
       "      <th>price</th>\n",
       "      <th>price_service</th>\n",
       "      <th>count_service</th>\n",
       "      <th>income</th>\n",
       "    </tr>\n",
       "  </thead>\n",
       "  <tbody>\n",
       "    <tr>\n",
       "      <td>0</td>\n",
       "      <td>0</td>\n",
       "      <td>0</td>\n",
       "      <td>7</td>\n",
       "      <td>2015</td>\n",
       "      <td>July</td>\n",
       "      <td>27</td>\n",
       "      <td>1</td>\n",
       "      <td>0</td>\n",
       "      <td>1</td>\n",
       "      <td>1</td>\n",
       "      <td>...</td>\n",
       "      <td>0</td>\n",
       "      <td>Transient</td>\n",
       "      <td>0</td>\n",
       "      <td>0</td>\n",
       "      <td>1</td>\n",
       "      <td>Autumn</td>\n",
       "      <td>1200.0</td>\n",
       "      <td>480.0</td>\n",
       "      <td>1</td>\n",
       "      <td>720.0</td>\n",
       "    </tr>\n",
       "    <tr>\n",
       "      <td>1</td>\n",
       "      <td>1</td>\n",
       "      <td>0</td>\n",
       "      <td>14</td>\n",
       "      <td>2015</td>\n",
       "      <td>July</td>\n",
       "      <td>27</td>\n",
       "      <td>1</td>\n",
       "      <td>0</td>\n",
       "      <td>2</td>\n",
       "      <td>2</td>\n",
       "      <td>...</td>\n",
       "      <td>0</td>\n",
       "      <td>Transient</td>\n",
       "      <td>0</td>\n",
       "      <td>1</td>\n",
       "      <td>2</td>\n",
       "      <td>Autumn</td>\n",
       "      <td>1200.0</td>\n",
       "      <td>480.0</td>\n",
       "      <td>1</td>\n",
       "      <td>1920.0</td>\n",
       "    </tr>\n",
       "    <tr>\n",
       "      <td>2</td>\n",
       "      <td>2</td>\n",
       "      <td>0</td>\n",
       "      <td>0</td>\n",
       "      <td>2015</td>\n",
       "      <td>July</td>\n",
       "      <td>27</td>\n",
       "      <td>1</td>\n",
       "      <td>0</td>\n",
       "      <td>2</td>\n",
       "      <td>2</td>\n",
       "      <td>...</td>\n",
       "      <td>0</td>\n",
       "      <td>Transient</td>\n",
       "      <td>0</td>\n",
       "      <td>0</td>\n",
       "      <td>2</td>\n",
       "      <td>Autumn</td>\n",
       "      <td>720.0</td>\n",
       "      <td>420.0</td>\n",
       "      <td>1</td>\n",
       "      <td>1020.0</td>\n",
       "    </tr>\n",
       "    <tr>\n",
       "      <td>3</td>\n",
       "      <td>3</td>\n",
       "      <td>0</td>\n",
       "      <td>9</td>\n",
       "      <td>2015</td>\n",
       "      <td>July</td>\n",
       "      <td>27</td>\n",
       "      <td>1</td>\n",
       "      <td>0</td>\n",
       "      <td>2</td>\n",
       "      <td>2</td>\n",
       "      <td>...</td>\n",
       "      <td>0</td>\n",
       "      <td>Transient</td>\n",
       "      <td>0</td>\n",
       "      <td>1</td>\n",
       "      <td>2</td>\n",
       "      <td>Autumn</td>\n",
       "      <td>720.0</td>\n",
       "      <td>420.0</td>\n",
       "      <td>1</td>\n",
       "      <td>1020.0</td>\n",
       "    </tr>\n",
       "    <tr>\n",
       "      <td>4</td>\n",
       "      <td>4</td>\n",
       "      <td>1</td>\n",
       "      <td>85</td>\n",
       "      <td>2015</td>\n",
       "      <td>July</td>\n",
       "      <td>27</td>\n",
       "      <td>1</td>\n",
       "      <td>0</td>\n",
       "      <td>3</td>\n",
       "      <td>2</td>\n",
       "      <td>...</td>\n",
       "      <td>0</td>\n",
       "      <td>Transient</td>\n",
       "      <td>0</td>\n",
       "      <td>1</td>\n",
       "      <td>3</td>\n",
       "      <td>Autumn</td>\n",
       "      <td>1200.0</td>\n",
       "      <td>480.0</td>\n",
       "      <td>1</td>\n",
       "      <td>0.0</td>\n",
       "    </tr>\n",
       "    <tr>\n",
       "      <td>...</td>\n",
       "      <td>...</td>\n",
       "      <td>...</td>\n",
       "      <td>...</td>\n",
       "      <td>...</td>\n",
       "      <td>...</td>\n",
       "      <td>...</td>\n",
       "      <td>...</td>\n",
       "      <td>...</td>\n",
       "      <td>...</td>\n",
       "      <td>...</td>\n",
       "      <td>...</td>\n",
       "      <td>...</td>\n",
       "      <td>...</td>\n",
       "      <td>...</td>\n",
       "      <td>...</td>\n",
       "      <td>...</td>\n",
       "      <td>...</td>\n",
       "      <td>...</td>\n",
       "      <td>...</td>\n",
       "      <td>...</td>\n",
       "      <td>...</td>\n",
       "    </tr>\n",
       "    <tr>\n",
       "      <td>32407</td>\n",
       "      <td>97899</td>\n",
       "      <td>0</td>\n",
       "      <td>164</td>\n",
       "      <td>2017</td>\n",
       "      <td>August</td>\n",
       "      <td>35</td>\n",
       "      <td>31</td>\n",
       "      <td>2</td>\n",
       "      <td>4</td>\n",
       "      <td>2</td>\n",
       "      <td>...</td>\n",
       "      <td>0</td>\n",
       "      <td>Transient</td>\n",
       "      <td>0</td>\n",
       "      <td>0</td>\n",
       "      <td>6</td>\n",
       "      <td>Summer</td>\n",
       "      <td>1400.0</td>\n",
       "      <td>560.0</td>\n",
       "      <td>3</td>\n",
       "      <td>6720.0</td>\n",
       "    </tr>\n",
       "    <tr>\n",
       "      <td>32408</td>\n",
       "      <td>97900</td>\n",
       "      <td>0</td>\n",
       "      <td>21</td>\n",
       "      <td>2017</td>\n",
       "      <td>August</td>\n",
       "      <td>35</td>\n",
       "      <td>30</td>\n",
       "      <td>2</td>\n",
       "      <td>5</td>\n",
       "      <td>2</td>\n",
       "      <td>...</td>\n",
       "      <td>0</td>\n",
       "      <td>Transient</td>\n",
       "      <td>0</td>\n",
       "      <td>2</td>\n",
       "      <td>7</td>\n",
       "      <td>Summer</td>\n",
       "      <td>1400.0</td>\n",
       "      <td>560.0</td>\n",
       "      <td>3</td>\n",
       "      <td>8120.0</td>\n",
       "    </tr>\n",
       "    <tr>\n",
       "      <td>32409</td>\n",
       "      <td>97901</td>\n",
       "      <td>0</td>\n",
       "      <td>23</td>\n",
       "      <td>2017</td>\n",
       "      <td>August</td>\n",
       "      <td>35</td>\n",
       "      <td>30</td>\n",
       "      <td>2</td>\n",
       "      <td>5</td>\n",
       "      <td>2</td>\n",
       "      <td>...</td>\n",
       "      <td>0</td>\n",
       "      <td>Transient</td>\n",
       "      <td>0</td>\n",
       "      <td>0</td>\n",
       "      <td>7</td>\n",
       "      <td>Summer</td>\n",
       "      <td>1400.0</td>\n",
       "      <td>560.0</td>\n",
       "      <td>3</td>\n",
       "      <td>8120.0</td>\n",
       "    </tr>\n",
       "    <tr>\n",
       "      <td>32410</td>\n",
       "      <td>97902</td>\n",
       "      <td>0</td>\n",
       "      <td>34</td>\n",
       "      <td>2017</td>\n",
       "      <td>August</td>\n",
       "      <td>35</td>\n",
       "      <td>31</td>\n",
       "      <td>2</td>\n",
       "      <td>5</td>\n",
       "      <td>2</td>\n",
       "      <td>...</td>\n",
       "      <td>0</td>\n",
       "      <td>Transient</td>\n",
       "      <td>0</td>\n",
       "      <td>4</td>\n",
       "      <td>7</td>\n",
       "      <td>Summer</td>\n",
       "      <td>770.0</td>\n",
       "      <td>210.0</td>\n",
       "      <td>3</td>\n",
       "      <td>4760.0</td>\n",
       "    </tr>\n",
       "    <tr>\n",
       "      <td>32411</td>\n",
       "      <td>97903</td>\n",
       "      <td>0</td>\n",
       "      <td>109</td>\n",
       "      <td>2017</td>\n",
       "      <td>August</td>\n",
       "      <td>35</td>\n",
       "      <td>31</td>\n",
       "      <td>2</td>\n",
       "      <td>5</td>\n",
       "      <td>2</td>\n",
       "      <td>...</td>\n",
       "      <td>0</td>\n",
       "      <td>Transient</td>\n",
       "      <td>0</td>\n",
       "      <td>0</td>\n",
       "      <td>7</td>\n",
       "      <td>Summer</td>\n",
       "      <td>1400.0</td>\n",
       "      <td>560.0</td>\n",
       "      <td>3</td>\n",
       "      <td>8120.0</td>\n",
       "    </tr>\n",
       "  </tbody>\n",
       "</table>\n",
       "<p>97641 rows × 30 columns</p>\n",
       "</div>"
      ],
      "text/plain": [
       "          id  is_canceled  lead_time  arrival_date_year arrival_date_month  \\\n",
       "0          0            0          7               2015               July   \n",
       "1          1            0         14               2015               July   \n",
       "2          2            0          0               2015               July   \n",
       "3          3            0          9               2015               July   \n",
       "4          4            1         85               2015               July   \n",
       "...      ...          ...        ...                ...                ...   \n",
       "32407  97899            0        164               2017             August   \n",
       "32408  97900            0         21               2017             August   \n",
       "32409  97901            0         23               2017             August   \n",
       "32410  97902            0         34               2017             August   \n",
       "32411  97903            0        109               2017             August   \n",
       "\n",
       "       arrival_date_week_number  arrival_date_day_of_month  \\\n",
       "0                            27                          1   \n",
       "1                            27                          1   \n",
       "2                            27                          1   \n",
       "3                            27                          1   \n",
       "4                            27                          1   \n",
       "...                         ...                        ...   \n",
       "32407                        35                         31   \n",
       "32408                        35                         30   \n",
       "32409                        35                         30   \n",
       "32410                        35                         31   \n",
       "32411                        35                         31   \n",
       "\n",
       "       stays_in_weekend_nights  stays_in_week_nights  adults  ...  \\\n",
       "0                            0                     1       1  ...   \n",
       "1                            0                     2       2  ...   \n",
       "2                            0                     2       2  ...   \n",
       "3                            0                     2       2  ...   \n",
       "4                            0                     3       2  ...   \n",
       "...                        ...                   ...     ...  ...   \n",
       "32407                        2                     4       2  ...   \n",
       "32408                        2                     5       2  ...   \n",
       "32409                        2                     5       2  ...   \n",
       "32410                        2                     5       2  ...   \n",
       "32411                        2                     5       2  ...   \n",
       "\n",
       "       days_in_waiting_list  customer_type required_car_parking_spaces  \\\n",
       "0                         0      Transient                           0   \n",
       "1                         0      Transient                           0   \n",
       "2                         0      Transient                           0   \n",
       "3                         0      Transient                           0   \n",
       "4                         0      Transient                           0   \n",
       "...                     ...            ...                         ...   \n",
       "32407                     0      Transient                           0   \n",
       "32408                     0      Transient                           0   \n",
       "32409                     0      Transient                           0   \n",
       "32410                     0      Transient                           0   \n",
       "32411                     0      Transient                           0   \n",
       "\n",
       "      total_of_special_requests total_nights  season   price  price_service  \\\n",
       "0                             0            1  Autumn  1200.0          480.0   \n",
       "1                             1            2  Autumn  1200.0          480.0   \n",
       "2                             0            2  Autumn   720.0          420.0   \n",
       "3                             1            2  Autumn   720.0          420.0   \n",
       "4                             1            3  Autumn  1200.0          480.0   \n",
       "...                         ...          ...     ...     ...            ...   \n",
       "32407                         0            6  Summer  1400.0          560.0   \n",
       "32408                         2            7  Summer  1400.0          560.0   \n",
       "32409                         0            7  Summer  1400.0          560.0   \n",
       "32410                         4            7  Summer   770.0          210.0   \n",
       "32411                         0            7  Summer  1400.0          560.0   \n",
       "\n",
       "      count_service  income  \n",
       "0                 1   720.0  \n",
       "1                 1  1920.0  \n",
       "2                 1  1020.0  \n",
       "3                 1  1020.0  \n",
       "4                 1     0.0  \n",
       "...             ...     ...  \n",
       "32407             3  6720.0  \n",
       "32408             3  8120.0  \n",
       "32409             3  8120.0  \n",
       "32410             3  4760.0  \n",
       "32411             3  8120.0  \n",
       "\n",
       "[97641 rows x 30 columns]"
      ]
     },
     "execution_count": 67,
     "metadata": {},
     "output_type": "execute_result"
    }
   ],
   "source": [
    "merge_data"
   ]
  },
  {
   "cell_type": "code",
   "execution_count": 68,
   "metadata": {
    "datalore": {
     "sheet_delimiter": false,
     "type": "CODE"
    },
    "jupyter": {
     "outputs_hidden": false,
     "source_hidden": false
    },
    "pycharm": {
     "name": "#%%\n"
    }
   },
   "outputs": [],
   "source": [
    "def calc_deposit(x):\n",
    "    if x['is_canceled'] == 1:\n",
    "        return (x['price'] + x['price_service']) * 0.8\n",
    "    else:\n",
    "        return 0\n",
    "    "
   ]
  },
  {
   "cell_type": "code",
   "execution_count": 69,
   "metadata": {
    "datalore": {
     "sheet_delimiter": false,
     "type": "CODE"
    },
    "jupyter": {
     "outputs_hidden": false,
     "source_hidden": false
    },
    "pycharm": {
     "name": "#%%\n"
    }
   },
   "outputs": [],
   "source": [
    "#Расчитаем размер депозита для тех клиентов, которые отказались от заказа\n",
    "merge_data['deposit'] = merge_data.apply(lambda x: calc_deposit(x), axis=1)"
   ]
  },
  {
   "cell_type": "code",
   "execution_count": 70,
   "metadata": {
    "datalore": {
     "sheet_delimiter": false,
     "type": "CODE"
    },
    "jupyter": {
     "outputs_hidden": false,
     "source_hidden": false
    },
    "pycharm": {
     "name": "#%%\n"
    }
   },
   "outputs": [
    {
     "name": "stdout",
     "output_type": "stream",
     "text": [
      "Доход полученный за все время c внедрением депозитов 175.08 млн.\n"
     ]
    }
   ],
   "source": [
    "width_deposite_income = (merge_data['deposit'].sum() + merge_data['income'].sum()) / 1000000\n",
    "print(\"Доход полученный за все время c внедрением депозитов {0:.2f} млн.\".format(width_deposite_income))"
   ]
  },
  {
   "cell_type": "markdown",
   "metadata": {
    "datalore": {
     "sheet_delimiter": false,
     "type": "MD"
    },
    "jupyter": {
     "outputs_hidden": false,
     "source_hidden": false
    },
    "pycharm": {
     "name": "#%% md\n"
    }
   },
   "source": [
    "**Вывод**\n",
    "\n",
    "С внедрением депозитов, доход отеля может вырасти со 136 млн. до 175 млн."
   ]
  },
  {
   "cell_type": "markdown",
   "metadata": {
    "pycharm": {
     "name": "#%% md\n"
    }
   },
   "source": [
    "Вероятно такие суммы, т.к. я считаю по всем данным."
   ]
  },
  {
   "cell_type": "markdown",
   "metadata": {
    "datalore": {
     "sheet_delimiter": false,
     "type": "MD"
    },
    "jupyter": {
     "outputs_hidden": false,
     "source_hidden": false
    },
    "pycharm": {
     "name": "#%% md\n"
    }
   },
   "source": [
    "### Шаг. 4 Разработка модели ML"
   ]
  },
  {
   "cell_type": "code",
   "execution_count": 71,
   "metadata": {
    "datalore": {
     "sheet_delimiter": false,
     "type": "CODE"
    },
    "jupyter": {
     "outputs_hidden": false,
     "source_hidden": false
    },
    "pycharm": {
     "name": "#%%\n"
    }
   },
   "outputs": [],
   "source": [
    "#Определим по каким данным будем расчитывать модель\n",
    "\"\"\"\n",
    "data = merge_data[['id','is_canceled', 'lead_time', 'arrival_date_year',\n",
    "       'arrival_date_month', 'arrival_date_week_number',\n",
    "       'arrival_date_day_of_month', 'stays_in_weekend_nights',\n",
    "       'stays_in_week_nights', 'adults', 'children', 'babies', 'meal',\n",
    "       'country', 'distribution_channel', 'is_repeated_guest',\n",
    "       'previous_cancellations', 'previous_bookings_not_canceled',\n",
    "       'reserved_room_type', 'booking_changes', 'days_in_waiting_list',\n",
    "       'customer_type', 'required_car_parking_spaces',\n",
    "       'total_of_special_requests', 'total_nights']]\n",
    "\"\"\"\n",
    "data = merge_data[['id','is_canceled', 'lead_time', 'stays_in_weekend_nights',\n",
    "       'stays_in_week_nights', 'adults', 'children', 'babies', 'meal',\n",
    "       'country', 'distribution_channel', 'is_repeated_guest',\n",
    "       'previous_cancellations', 'previous_bookings_not_canceled',\n",
    "       'reserved_room_type', 'booking_changes', 'days_in_waiting_list',\n",
    "       'customer_type', 'required_car_parking_spaces',\n",
    "       'total_of_special_requests', 'total_nights']]"
   ]
  },
  {
   "cell_type": "markdown",
   "metadata": {
    "pycharm": {
     "name": "#%% md\n"
    }
   },
   "source": [
    "Согласен по поводу дат, а id позже удаляется.. оно мне понадобится что бы разделить весь датасет на обучающую выборку и тестовую."
   ]
  },
  {
   "cell_type": "code",
   "execution_count": 72,
   "metadata": {
    "datalore": {
     "sheet_delimiter": false,
     "type": "CODE"
    },
    "jupyter": {
     "outputs_hidden": false,
     "source_hidden": false
    },
    "pycharm": {
     "name": "#%%\n"
    }
   },
   "outputs": [
    {
     "data": {
      "text/html": [
       "<div>\n",
       "<style scoped>\n",
       "    .dataframe tbody tr th:only-of-type {\n",
       "        vertical-align: middle;\n",
       "    }\n",
       "\n",
       "    .dataframe tbody tr th {\n",
       "        vertical-align: top;\n",
       "    }\n",
       "\n",
       "    .dataframe thead th {\n",
       "        text-align: right;\n",
       "    }\n",
       "</style>\n",
       "<table border=\"1\" class=\"dataframe\">\n",
       "  <thead>\n",
       "    <tr style=\"text-align: right;\">\n",
       "      <th></th>\n",
       "      <th>id</th>\n",
       "      <th>is_canceled</th>\n",
       "      <th>lead_time</th>\n",
       "      <th>stays_in_weekend_nights</th>\n",
       "      <th>stays_in_week_nights</th>\n",
       "      <th>adults</th>\n",
       "      <th>children</th>\n",
       "      <th>babies</th>\n",
       "      <th>meal</th>\n",
       "      <th>country</th>\n",
       "      <th>...</th>\n",
       "      <th>is_repeated_guest</th>\n",
       "      <th>previous_cancellations</th>\n",
       "      <th>previous_bookings_not_canceled</th>\n",
       "      <th>reserved_room_type</th>\n",
       "      <th>booking_changes</th>\n",
       "      <th>days_in_waiting_list</th>\n",
       "      <th>customer_type</th>\n",
       "      <th>required_car_parking_spaces</th>\n",
       "      <th>total_of_special_requests</th>\n",
       "      <th>total_nights</th>\n",
       "    </tr>\n",
       "  </thead>\n",
       "  <tbody>\n",
       "    <tr>\n",
       "      <td>0</td>\n",
       "      <td>0</td>\n",
       "      <td>0</td>\n",
       "      <td>7</td>\n",
       "      <td>0</td>\n",
       "      <td>1</td>\n",
       "      <td>1</td>\n",
       "      <td>0</td>\n",
       "      <td>0</td>\n",
       "      <td>BB</td>\n",
       "      <td>GBR</td>\n",
       "      <td>...</td>\n",
       "      <td>0</td>\n",
       "      <td>0</td>\n",
       "      <td>0</td>\n",
       "      <td>A</td>\n",
       "      <td>0</td>\n",
       "      <td>0</td>\n",
       "      <td>Transient</td>\n",
       "      <td>0</td>\n",
       "      <td>0</td>\n",
       "      <td>1</td>\n",
       "    </tr>\n",
       "    <tr>\n",
       "      <td>1</td>\n",
       "      <td>1</td>\n",
       "      <td>0</td>\n",
       "      <td>14</td>\n",
       "      <td>0</td>\n",
       "      <td>2</td>\n",
       "      <td>2</td>\n",
       "      <td>0</td>\n",
       "      <td>0</td>\n",
       "      <td>BB</td>\n",
       "      <td>GBR</td>\n",
       "      <td>...</td>\n",
       "      <td>0</td>\n",
       "      <td>0</td>\n",
       "      <td>0</td>\n",
       "      <td>A</td>\n",
       "      <td>0</td>\n",
       "      <td>0</td>\n",
       "      <td>Transient</td>\n",
       "      <td>0</td>\n",
       "      <td>1</td>\n",
       "      <td>2</td>\n",
       "    </tr>\n",
       "    <tr>\n",
       "      <td>2</td>\n",
       "      <td>2</td>\n",
       "      <td>0</td>\n",
       "      <td>0</td>\n",
       "      <td>0</td>\n",
       "      <td>2</td>\n",
       "      <td>2</td>\n",
       "      <td>0</td>\n",
       "      <td>0</td>\n",
       "      <td>BB</td>\n",
       "      <td>PRT</td>\n",
       "      <td>...</td>\n",
       "      <td>0</td>\n",
       "      <td>0</td>\n",
       "      <td>0</td>\n",
       "      <td>C</td>\n",
       "      <td>0</td>\n",
       "      <td>0</td>\n",
       "      <td>Transient</td>\n",
       "      <td>0</td>\n",
       "      <td>0</td>\n",
       "      <td>2</td>\n",
       "    </tr>\n",
       "    <tr>\n",
       "      <td>3</td>\n",
       "      <td>3</td>\n",
       "      <td>0</td>\n",
       "      <td>9</td>\n",
       "      <td>0</td>\n",
       "      <td>2</td>\n",
       "      <td>2</td>\n",
       "      <td>0</td>\n",
       "      <td>0</td>\n",
       "      <td>FB</td>\n",
       "      <td>PRT</td>\n",
       "      <td>...</td>\n",
       "      <td>0</td>\n",
       "      <td>0</td>\n",
       "      <td>0</td>\n",
       "      <td>C</td>\n",
       "      <td>0</td>\n",
       "      <td>0</td>\n",
       "      <td>Transient</td>\n",
       "      <td>0</td>\n",
       "      <td>1</td>\n",
       "      <td>2</td>\n",
       "    </tr>\n",
       "    <tr>\n",
       "      <td>4</td>\n",
       "      <td>4</td>\n",
       "      <td>1</td>\n",
       "      <td>85</td>\n",
       "      <td>0</td>\n",
       "      <td>3</td>\n",
       "      <td>2</td>\n",
       "      <td>0</td>\n",
       "      <td>0</td>\n",
       "      <td>BB</td>\n",
       "      <td>PRT</td>\n",
       "      <td>...</td>\n",
       "      <td>0</td>\n",
       "      <td>0</td>\n",
       "      <td>0</td>\n",
       "      <td>A</td>\n",
       "      <td>0</td>\n",
       "      <td>0</td>\n",
       "      <td>Transient</td>\n",
       "      <td>0</td>\n",
       "      <td>1</td>\n",
       "      <td>3</td>\n",
       "    </tr>\n",
       "  </tbody>\n",
       "</table>\n",
       "<p>5 rows × 21 columns</p>\n",
       "</div>"
      ],
      "text/plain": [
       "   id  is_canceled  lead_time  stays_in_weekend_nights  stays_in_week_nights  \\\n",
       "0   0            0          7                        0                     1   \n",
       "1   1            0         14                        0                     2   \n",
       "2   2            0          0                        0                     2   \n",
       "3   3            0          9                        0                     2   \n",
       "4   4            1         85                        0                     3   \n",
       "\n",
       "   adults  children  babies meal country  ... is_repeated_guest  \\\n",
       "0       1         0       0   BB     GBR  ...                 0   \n",
       "1       2         0       0   BB     GBR  ...                 0   \n",
       "2       2         0       0   BB     PRT  ...                 0   \n",
       "3       2         0       0   FB     PRT  ...                 0   \n",
       "4       2         0       0   BB     PRT  ...                 0   \n",
       "\n",
       "   previous_cancellations  previous_bookings_not_canceled  reserved_room_type  \\\n",
       "0                       0                               0                   A   \n",
       "1                       0                               0                   A   \n",
       "2                       0                               0                   C   \n",
       "3                       0                               0                   C   \n",
       "4                       0                               0                   A   \n",
       "\n",
       "  booking_changes  days_in_waiting_list  customer_type  \\\n",
       "0               0                     0      Transient   \n",
       "1               0                     0      Transient   \n",
       "2               0                     0      Transient   \n",
       "3               0                     0      Transient   \n",
       "4               0                     0      Transient   \n",
       "\n",
       "  required_car_parking_spaces total_of_special_requests  total_nights  \n",
       "0                           0                         0             1  \n",
       "1                           0                         1             2  \n",
       "2                           0                         0             2  \n",
       "3                           0                         1             2  \n",
       "4                           0                         1             3  \n",
       "\n",
       "[5 rows x 21 columns]"
      ]
     },
     "execution_count": 72,
     "metadata": {},
     "output_type": "execute_result"
    }
   ],
   "source": [
    "data.head()"
   ]
  },
  {
   "cell_type": "code",
   "execution_count": 73,
   "metadata": {
    "datalore": {
     "sheet_delimiter": false,
     "type": "CODE"
    },
    "jupyter": {
     "outputs_hidden": false,
     "source_hidden": false
    },
    "pycharm": {
     "name": "#%%\n"
    }
   },
   "outputs": [],
   "source": [
    "encoder = OrdinalEncoder() \n",
    "data_encoder = pd.DataFrame(encoder.fit_transform(data), columns=data.columns)"
   ]
  },
  {
   "cell_type": "code",
   "execution_count": 74,
   "metadata": {
    "datalore": {
     "sheet_delimiter": false,
     "type": "CODE"
    },
    "jupyter": {
     "outputs_hidden": false,
     "source_hidden": false
    },
    "pycharm": {
     "name": "#%%\n"
    }
   },
   "outputs": [
    {
     "data": {
      "text/html": [
       "<div>\n",
       "<style scoped>\n",
       "    .dataframe tbody tr th:only-of-type {\n",
       "        vertical-align: middle;\n",
       "    }\n",
       "\n",
       "    .dataframe tbody tr th {\n",
       "        vertical-align: top;\n",
       "    }\n",
       "\n",
       "    .dataframe thead th {\n",
       "        text-align: right;\n",
       "    }\n",
       "</style>\n",
       "<table border=\"1\" class=\"dataframe\">\n",
       "  <thead>\n",
       "    <tr style=\"text-align: right;\">\n",
       "      <th></th>\n",
       "      <th>id</th>\n",
       "      <th>is_canceled</th>\n",
       "      <th>lead_time</th>\n",
       "      <th>stays_in_weekend_nights</th>\n",
       "      <th>stays_in_week_nights</th>\n",
       "      <th>adults</th>\n",
       "      <th>children</th>\n",
       "      <th>babies</th>\n",
       "      <th>meal</th>\n",
       "      <th>country</th>\n",
       "      <th>...</th>\n",
       "      <th>is_repeated_guest</th>\n",
       "      <th>previous_cancellations</th>\n",
       "      <th>previous_bookings_not_canceled</th>\n",
       "      <th>reserved_room_type</th>\n",
       "      <th>booking_changes</th>\n",
       "      <th>days_in_waiting_list</th>\n",
       "      <th>customer_type</th>\n",
       "      <th>required_car_parking_spaces</th>\n",
       "      <th>total_of_special_requests</th>\n",
       "      <th>total_nights</th>\n",
       "    </tr>\n",
       "  </thead>\n",
       "  <tbody>\n",
       "    <tr>\n",
       "      <td>0</td>\n",
       "      <td>0.0</td>\n",
       "      <td>0.0</td>\n",
       "      <td>7.0</td>\n",
       "      <td>0.0</td>\n",
       "      <td>1.0</td>\n",
       "      <td>1.0</td>\n",
       "      <td>0.0</td>\n",
       "      <td>0.0</td>\n",
       "      <td>0.0</td>\n",
       "      <td>8.0</td>\n",
       "      <td>...</td>\n",
       "      <td>0.0</td>\n",
       "      <td>0.0</td>\n",
       "      <td>0.0</td>\n",
       "      <td>0.0</td>\n",
       "      <td>0.0</td>\n",
       "      <td>0.0</td>\n",
       "      <td>2.0</td>\n",
       "      <td>0.0</td>\n",
       "      <td>0.0</td>\n",
       "      <td>0.0</td>\n",
       "    </tr>\n",
       "    <tr>\n",
       "      <td>1</td>\n",
       "      <td>1.0</td>\n",
       "      <td>0.0</td>\n",
       "      <td>14.0</td>\n",
       "      <td>0.0</td>\n",
       "      <td>2.0</td>\n",
       "      <td>2.0</td>\n",
       "      <td>0.0</td>\n",
       "      <td>0.0</td>\n",
       "      <td>0.0</td>\n",
       "      <td>8.0</td>\n",
       "      <td>...</td>\n",
       "      <td>0.0</td>\n",
       "      <td>0.0</td>\n",
       "      <td>0.0</td>\n",
       "      <td>0.0</td>\n",
       "      <td>0.0</td>\n",
       "      <td>0.0</td>\n",
       "      <td>2.0</td>\n",
       "      <td>0.0</td>\n",
       "      <td>1.0</td>\n",
       "      <td>1.0</td>\n",
       "    </tr>\n",
       "    <tr>\n",
       "      <td>2</td>\n",
       "      <td>2.0</td>\n",
       "      <td>0.0</td>\n",
       "      <td>0.0</td>\n",
       "      <td>0.0</td>\n",
       "      <td>2.0</td>\n",
       "      <td>2.0</td>\n",
       "      <td>0.0</td>\n",
       "      <td>0.0</td>\n",
       "      <td>0.0</td>\n",
       "      <td>13.0</td>\n",
       "      <td>...</td>\n",
       "      <td>0.0</td>\n",
       "      <td>0.0</td>\n",
       "      <td>0.0</td>\n",
       "      <td>2.0</td>\n",
       "      <td>0.0</td>\n",
       "      <td>0.0</td>\n",
       "      <td>2.0</td>\n",
       "      <td>0.0</td>\n",
       "      <td>0.0</td>\n",
       "      <td>1.0</td>\n",
       "    </tr>\n",
       "    <tr>\n",
       "      <td>3</td>\n",
       "      <td>3.0</td>\n",
       "      <td>0.0</td>\n",
       "      <td>9.0</td>\n",
       "      <td>0.0</td>\n",
       "      <td>2.0</td>\n",
       "      <td>2.0</td>\n",
       "      <td>0.0</td>\n",
       "      <td>0.0</td>\n",
       "      <td>1.0</td>\n",
       "      <td>13.0</td>\n",
       "      <td>...</td>\n",
       "      <td>0.0</td>\n",
       "      <td>0.0</td>\n",
       "      <td>0.0</td>\n",
       "      <td>2.0</td>\n",
       "      <td>0.0</td>\n",
       "      <td>0.0</td>\n",
       "      <td>2.0</td>\n",
       "      <td>0.0</td>\n",
       "      <td>1.0</td>\n",
       "      <td>1.0</td>\n",
       "    </tr>\n",
       "    <tr>\n",
       "      <td>4</td>\n",
       "      <td>4.0</td>\n",
       "      <td>1.0</td>\n",
       "      <td>85.0</td>\n",
       "      <td>0.0</td>\n",
       "      <td>3.0</td>\n",
       "      <td>2.0</td>\n",
       "      <td>0.0</td>\n",
       "      <td>0.0</td>\n",
       "      <td>0.0</td>\n",
       "      <td>13.0</td>\n",
       "      <td>...</td>\n",
       "      <td>0.0</td>\n",
       "      <td>0.0</td>\n",
       "      <td>0.0</td>\n",
       "      <td>0.0</td>\n",
       "      <td>0.0</td>\n",
       "      <td>0.0</td>\n",
       "      <td>2.0</td>\n",
       "      <td>0.0</td>\n",
       "      <td>1.0</td>\n",
       "      <td>2.0</td>\n",
       "    </tr>\n",
       "  </tbody>\n",
       "</table>\n",
       "<p>5 rows × 21 columns</p>\n",
       "</div>"
      ],
      "text/plain": [
       "    id  is_canceled  lead_time  stays_in_weekend_nights  stays_in_week_nights  \\\n",
       "0  0.0          0.0        7.0                      0.0                   1.0   \n",
       "1  1.0          0.0       14.0                      0.0                   2.0   \n",
       "2  2.0          0.0        0.0                      0.0                   2.0   \n",
       "3  3.0          0.0        9.0                      0.0                   2.0   \n",
       "4  4.0          1.0       85.0                      0.0                   3.0   \n",
       "\n",
       "   adults  children  babies  meal  country  ...  is_repeated_guest  \\\n",
       "0     1.0       0.0     0.0   0.0      8.0  ...                0.0   \n",
       "1     2.0       0.0     0.0   0.0      8.0  ...                0.0   \n",
       "2     2.0       0.0     0.0   0.0     13.0  ...                0.0   \n",
       "3     2.0       0.0     0.0   1.0     13.0  ...                0.0   \n",
       "4     2.0       0.0     0.0   0.0     13.0  ...                0.0   \n",
       "\n",
       "   previous_cancellations  previous_bookings_not_canceled  reserved_room_type  \\\n",
       "0                     0.0                             0.0                 0.0   \n",
       "1                     0.0                             0.0                 0.0   \n",
       "2                     0.0                             0.0                 2.0   \n",
       "3                     0.0                             0.0                 2.0   \n",
       "4                     0.0                             0.0                 0.0   \n",
       "\n",
       "   booking_changes  days_in_waiting_list  customer_type  \\\n",
       "0              0.0                   0.0            2.0   \n",
       "1              0.0                   0.0            2.0   \n",
       "2              0.0                   0.0            2.0   \n",
       "3              0.0                   0.0            2.0   \n",
       "4              0.0                   0.0            2.0   \n",
       "\n",
       "   required_car_parking_spaces  total_of_special_requests  total_nights  \n",
       "0                          0.0                        0.0           0.0  \n",
       "1                          0.0                        1.0           1.0  \n",
       "2                          0.0                        0.0           1.0  \n",
       "3                          0.0                        1.0           1.0  \n",
       "4                          0.0                        1.0           2.0  \n",
       "\n",
       "[5 rows x 21 columns]"
      ]
     },
     "execution_count": 74,
     "metadata": {},
     "output_type": "execute_result"
    }
   ],
   "source": [
    "data_encoder.head()"
   ]
  },
  {
   "cell_type": "markdown",
   "metadata": {
    "pycharm": {
     "name": "#%% md\n"
    }
   },
   "source": [
    "В обучении было сказано, что метод fit самотоятельно определяет категориальные признаки"
   ]
  },
  {
   "cell_type": "code",
   "execution_count": 75,
   "metadata": {
    "datalore": {
     "sheet_delimiter": false,
     "type": "CODE"
    },
    "jupyter": {
     "outputs_hidden": false,
     "source_hidden": false
    },
    "pycharm": {
     "name": "#%%\n"
    }
   },
   "outputs": [],
   "source": [
    "#Преобразуем наши данные обратно обучающей выборке и к тестовой\n",
    "test_index = data_encoder['id'].isin(hotel_test['id'])\n",
    "train_index = data_encoder['id'].isin(hotel_train['id'])\n",
    "\n",
    "train = data_encoder[train_index].copy().reset_index(drop=True)\n",
    "test = data_encoder[test_index].copy().reset_index(drop=True)"
   ]
  },
  {
   "cell_type": "code",
   "execution_count": 76,
   "metadata": {
    "datalore": {
     "sheet_delimiter": false,
     "type": "CODE"
    },
    "jupyter": {
     "outputs_hidden": false,
     "source_hidden": false
    },
    "pycharm": {
     "name": "#%%\n"
    }
   },
   "outputs": [
    {
     "data": {
      "text/plain": [
       "<matplotlib.axes._subplots.AxesSubplot at 0x7f9c9c45c250>"
      ]
     },
     "execution_count": 76,
     "metadata": {},
     "output_type": "execute_result"
    },
    {
     "data": {
      "image/png": "[encoded data removed]",
      "text/plain": [
       "<Figure size 432x288 with 1 Axes>"
      ]
     },
     "metadata": {
      "needs_background": "light"
     },
     "output_type": "display_data"
    }
   ],
   "source": [
    "train['is_canceled'].hist()"
   ]
  },
  {
   "cell_type": "code",
   "execution_count": 77,
   "metadata": {
    "datalore": {
     "sheet_delimiter": false,
     "type": "CODE"
    },
    "jupyter": {
     "outputs_hidden": false,
     "source_hidden": false
    },
    "pycharm": {
     "name": "#%%\n"
    }
   },
   "outputs": [],
   "source": [
    "def upsample(features, target, repeat):\n",
    "    features_zeros = features[target == 0]\n",
    "    features_ones = features[target == 1]\n",
    "    target_zeros = target[target == 0]\n",
    "    target_ones = target[target == 1]\n",
    "\n",
    "    features_upsampled = pd.concat([features_zeros] + [features_ones] * repeat)\n",
    "    target_upsampled = pd.concat([target_zeros] + [target_ones] * repeat)\n",
    "    \n",
    "    features_upsampled, target_upsampled = shuffle(\n",
    "        features_upsampled, target_upsampled, random_state=12345)\n",
    "    \n",
    "    return features_upsampled, target_upsampled"
   ]
  },
  {
   "cell_type": "code",
   "execution_count": 78,
   "metadata": {
    "datalore": {
     "sheet_delimiter": false,
     "type": "CODE"
    },
    "jupyter": {
     "outputs_hidden": false,
     "source_hidden": false
    },
    "pycharm": {
     "name": "#%%\n"
    }
   },
   "outputs": [],
   "source": [
    "def downsample(features, target, fraction):\n",
    "    features_zeros = features[target == 0]\n",
    "    features_ones = features[target == 1]\n",
    "    target_zeros = target[target == 0]\n",
    "    target_ones = target[target == 1]\n",
    "\n",
    "    features_downsampled = pd.concat(\n",
    "        [features_zeros.sample(frac=fraction, random_state=12345)] + [features_ones])\n",
    "    target_downsampled = pd.concat(\n",
    "        [target_zeros.sample(frac=fraction, random_state=12345)] + [target_ones])\n",
    "    \n",
    "    features_downsampled, target_downsampled = shuffle(\n",
    "        features_downsampled, target_downsampled, random_state=12345)\n",
    "    \n",
    "    return features_downsampled, target_downsampled"
   ]
  },
  {
   "cell_type": "code",
   "execution_count": 79,
   "metadata": {
    "datalore": {
     "sheet_delimiter": false,
     "type": "CODE"
    },
    "jupyter": {
     "outputs_hidden": false,
     "source_hidden": false
    },
    "pycharm": {
     "name": "#%%\n"
    }
   },
   "outputs": [],
   "source": [
    "features_train = train.drop(['is_canceled', 'id'], axis=1)\n",
    "target_train = train['is_canceled']\n",
    "\n",
    "features_test = test.drop(['is_canceled', 'id'], axis=1)\n",
    "target_test = test['is_canceled']"
   ]
  },
  {
   "cell_type": "code",
   "execution_count": 80,
   "metadata": {
    "pycharm": {
     "name": "#%%\n"
    }
   },
   "outputs": [
    {
     "data": {
      "text/html": [
       "<div>\n",
       "<style scoped>\n",
       "    .dataframe tbody tr th:only-of-type {\n",
       "        vertical-align: middle;\n",
       "    }\n",
       "\n",
       "    .dataframe tbody tr th {\n",
       "        vertical-align: top;\n",
       "    }\n",
       "\n",
       "    .dataframe thead th {\n",
       "        text-align: right;\n",
       "    }\n",
       "</style>\n",
       "<table border=\"1\" class=\"dataframe\">\n",
       "  <thead>\n",
       "    <tr style=\"text-align: right;\">\n",
       "      <th></th>\n",
       "      <th>lead_time</th>\n",
       "      <th>stays_in_weekend_nights</th>\n",
       "      <th>stays_in_week_nights</th>\n",
       "      <th>adults</th>\n",
       "      <th>children</th>\n",
       "      <th>babies</th>\n",
       "      <th>meal</th>\n",
       "      <th>country</th>\n",
       "      <th>distribution_channel</th>\n",
       "      <th>is_repeated_guest</th>\n",
       "      <th>previous_cancellations</th>\n",
       "      <th>previous_bookings_not_canceled</th>\n",
       "      <th>reserved_room_type</th>\n",
       "      <th>booking_changes</th>\n",
       "      <th>days_in_waiting_list</th>\n",
       "      <th>customer_type</th>\n",
       "      <th>required_car_parking_spaces</th>\n",
       "      <th>total_of_special_requests</th>\n",
       "      <th>total_nights</th>\n",
       "    </tr>\n",
       "  </thead>\n",
       "  <tbody>\n",
       "    <tr>\n",
       "      <td>0</td>\n",
       "      <td>7.0</td>\n",
       "      <td>0.0</td>\n",
       "      <td>1.0</td>\n",
       "      <td>1.0</td>\n",
       "      <td>0.0</td>\n",
       "      <td>0.0</td>\n",
       "      <td>0.0</td>\n",
       "      <td>8.0</td>\n",
       "      <td>1.0</td>\n",
       "      <td>0.0</td>\n",
       "      <td>0.0</td>\n",
       "      <td>0.0</td>\n",
       "      <td>0.0</td>\n",
       "      <td>0.0</td>\n",
       "      <td>0.0</td>\n",
       "      <td>2.0</td>\n",
       "      <td>0.0</td>\n",
       "      <td>0.0</td>\n",
       "      <td>0.0</td>\n",
       "    </tr>\n",
       "    <tr>\n",
       "      <td>1</td>\n",
       "      <td>14.0</td>\n",
       "      <td>0.0</td>\n",
       "      <td>2.0</td>\n",
       "      <td>2.0</td>\n",
       "      <td>0.0</td>\n",
       "      <td>0.0</td>\n",
       "      <td>0.0</td>\n",
       "      <td>8.0</td>\n",
       "      <td>3.0</td>\n",
       "      <td>0.0</td>\n",
       "      <td>0.0</td>\n",
       "      <td>0.0</td>\n",
       "      <td>0.0</td>\n",
       "      <td>0.0</td>\n",
       "      <td>0.0</td>\n",
       "      <td>2.0</td>\n",
       "      <td>0.0</td>\n",
       "      <td>1.0</td>\n",
       "      <td>1.0</td>\n",
       "    </tr>\n",
       "    <tr>\n",
       "      <td>2</td>\n",
       "      <td>0.0</td>\n",
       "      <td>0.0</td>\n",
       "      <td>2.0</td>\n",
       "      <td>2.0</td>\n",
       "      <td>0.0</td>\n",
       "      <td>0.0</td>\n",
       "      <td>0.0</td>\n",
       "      <td>13.0</td>\n",
       "      <td>1.0</td>\n",
       "      <td>0.0</td>\n",
       "      <td>0.0</td>\n",
       "      <td>0.0</td>\n",
       "      <td>2.0</td>\n",
       "      <td>0.0</td>\n",
       "      <td>0.0</td>\n",
       "      <td>2.0</td>\n",
       "      <td>0.0</td>\n",
       "      <td>0.0</td>\n",
       "      <td>1.0</td>\n",
       "    </tr>\n",
       "  </tbody>\n",
       "</table>\n",
       "</div>"
      ],
      "text/plain": [
       "   lead_time  stays_in_weekend_nights  stays_in_week_nights  adults  children  \\\n",
       "0        7.0                      0.0                   1.0     1.0       0.0   \n",
       "1       14.0                      0.0                   2.0     2.0       0.0   \n",
       "2        0.0                      0.0                   2.0     2.0       0.0   \n",
       "\n",
       "   babies  meal  country  distribution_channel  is_repeated_guest  \\\n",
       "0     0.0   0.0      8.0                   1.0                0.0   \n",
       "1     0.0   0.0      8.0                   3.0                0.0   \n",
       "2     0.0   0.0     13.0                   1.0                0.0   \n",
       "\n",
       "   previous_cancellations  previous_bookings_not_canceled  reserved_room_type  \\\n",
       "0                     0.0                             0.0                 0.0   \n",
       "1                     0.0                             0.0                 0.0   \n",
       "2                     0.0                             0.0                 2.0   \n",
       "\n",
       "   booking_changes  days_in_waiting_list  customer_type  \\\n",
       "0              0.0                   0.0            2.0   \n",
       "1              0.0                   0.0            2.0   \n",
       "2              0.0                   0.0            2.0   \n",
       "\n",
       "   required_car_parking_spaces  total_of_special_requests  total_nights  \n",
       "0                          0.0                        0.0           0.0  \n",
       "1                          0.0                        1.0           1.0  \n",
       "2                          0.0                        0.0           1.0  "
      ]
     },
     "execution_count": 80,
     "metadata": {},
     "output_type": "execute_result"
    }
   ],
   "source": [
    "features_train.head(3)"
   ]
  },
  {
   "cell_type": "code",
   "execution_count": 81,
   "metadata": {
    "datalore": {
     "sheet_delimiter": false,
     "type": "CODE"
    },
    "jupyter": {
     "outputs_hidden": false,
     "source_hidden": false
    },
    "pycharm": {
     "name": "#%%\n"
    }
   },
   "outputs": [],
   "source": [
    "features_upsampled, target_upsampled = upsample(features_train, target_train, 2)"
   ]
  },
  {
   "cell_type": "code",
   "execution_count": 82,
   "metadata": {
    "datalore": {
     "sheet_delimiter": false,
     "type": "CODE"
    },
    "jupyter": {
     "outputs_hidden": false,
     "source_hidden": false
    },
    "pycharm": {
     "name": "#%%\n"
    }
   },
   "outputs": [
    {
     "data": {
      "text/plain": [
       "<matplotlib.axes._subplots.AxesSubplot at 0x7f9c9c44f390>"
      ]
     },
     "execution_count": 82,
     "metadata": {},
     "output_type": "execute_result"
    },
    {
     "data": {
      "image/png": "[encoded data removed]",
      "text/plain": [
       "<Figure size 432x288 with 1 Axes>"
      ]
     },
     "metadata": {
      "needs_background": "light"
     },
     "output_type": "display_data"
    }
   ],
   "source": [
    "target_upsampled.hist()"
   ]
  },
  {
   "cell_type": "code",
   "execution_count": 83,
   "metadata": {
    "datalore": {
     "sheet_delimiter": false,
     "type": "CODE"
    },
    "jupyter": {
     "outputs_hidden": false,
     "source_hidden": false
    },
    "pycharm": {
     "name": "#%%\n"
    }
   },
   "outputs": [
    {
     "data": {
      "text/plain": [
       "StandardScaler(copy=True, with_mean=True, with_std=True)"
      ]
     },
     "execution_count": 83,
     "metadata": {},
     "output_type": "execute_result"
    }
   ],
   "source": [
    "#Шастабировать признаки\n",
    "scaler = StandardScaler()\n",
    "scaler.fit(features_upsampled)"
   ]
  },
  {
   "cell_type": "code",
   "execution_count": 84,
   "metadata": {
    "datalore": {
     "sheet_delimiter": false,
     "type": "CODE"
    },
    "jupyter": {
     "outputs_hidden": false,
     "source_hidden": false
    },
    "pycharm": {
     "name": "#%%\n"
    }
   },
   "outputs": [],
   "source": [
    "features_train_scaled = scaler.transform(features_upsampled)\n",
    "features_test_scaled = scaler.transform(features_test)"
   ]
  },
  {
   "cell_type": "code",
   "execution_count": 85,
   "metadata": {
    "datalore": {
     "sheet_delimiter": false,
     "type": "CODE"
    },
    "jupyter": {
     "outputs_hidden": false,
     "source_hidden": false
    },
    "pycharm": {
     "name": "#%%\n"
    }
   },
   "outputs": [
    {
     "data": {
      "text/plain": [
       "LogisticRegression(C=1.0, class_weight='balanced', dual=False,\n",
       "                   fit_intercept=True, intercept_scaling=1, l1_ratio=None,\n",
       "                   max_iter=100, multi_class='warn', n_jobs=None, penalty='l2',\n",
       "                   random_state=12345, solver='lbfgs', tol=0.0001, verbose=0,\n",
       "                   warm_start=False)"
      ]
     },
     "execution_count": 85,
     "metadata": {},
     "output_type": "execute_result"
    }
   ],
   "source": [
    "model = LogisticRegression(solver='lbfgs',class_weight='balanced' , random_state=12345)\n",
    "model.fit(features_train_scaled, target_upsampled)"
   ]
  },
  {
   "cell_type": "code",
   "execution_count": 86,
   "metadata": {
    "datalore": {
     "sheet_delimiter": false,
     "type": "CODE"
    },
    "jupyter": {
     "outputs_hidden": false,
     "source_hidden": false
    },
    "pycharm": {
     "name": "#%%\n"
    }
   },
   "outputs": [],
   "source": [
    "predict_test = model.predict(features_test_scaled)"
   ]
  },
  {
   "cell_type": "code",
   "execution_count": 87,
   "metadata": {
    "pycharm": {
     "name": "#%%\n"
    }
   },
   "outputs": [
    {
     "name": "stdout",
     "output_type": "stream",
     "text": [
      "              precision    recall  f1-score   support\n",
      "\n",
      "         0.0       0.77      0.77      0.77     19444\n",
      "         1.0       0.65      0.65      0.65     12705\n",
      "\n",
      "    accuracy                           0.72     32149\n",
      "   macro avg       0.71      0.71      0.71     32149\n",
      "weighted avg       0.72      0.72      0.72     32149\n",
      "\n"
     ]
    }
   ],
   "source": [
    "print(classification_report(target_test, predict_test))"
   ]
  },
  {
   "cell_type": "code",
   "execution_count": 88,
   "metadata": {
    "datalore": {
     "sheet_delimiter": false,
     "type": "CODE"
    },
    "jupyter": {
     "outputs_hidden": false,
     "source_hidden": false
    },
    "pycharm": {
     "name": "#%%\n"
    }
   },
   "outputs": [
    {
     "name": "stdout",
     "output_type": "stream",
     "text": [
      "AUC_ROC: 0.7113541296528336\n"
     ]
    }
   ],
   "source": [
    "print(\"AUC_ROC:\", roc_auc_score(target_test, predict_test))"
   ]
  },
  {
   "cell_type": "code",
   "execution_count": 89,
   "metadata": {
    "datalore": {
     "sheet_delimiter": false,
     "type": "CODE"
    },
    "jupyter": {
     "outputs_hidden": false,
     "source_hidden": false
    },
    "pycharm": {
     "name": "#%%\n"
    }
   },
   "outputs": [
    {
     "name": "stdout",
     "output_type": "stream",
     "text": [
      "              precision    recall  f1-score   support\n",
      "\n",
      "         0.0       0.60      1.00      0.75     19444\n",
      "         1.0       0.00      0.00      0.00     12705\n",
      "\n",
      "    accuracy                           0.60     32149\n",
      "   macro avg       0.30      0.50      0.38     32149\n",
      "weighted avg       0.37      0.60      0.46     32149\n",
      "\n"
     ]
    },
    {
     "name": "stderr",
     "output_type": "stream",
     "text": [
      "/opt/conda/lib/python3.7/site-packages/sklearn/metrics/classification.py:1437: UndefinedMetricWarning: Precision and F-score are ill-defined and being set to 0.0 in labels with no predicted samples.\n",
      "  'precision', 'predicted', average, warn_for)\n"
     ]
    }
   ],
   "source": [
    "#Проверим модель на адекватность \n",
    "target_pred_constant = pd.Series(target_test, copy=True)\n",
    "target_pred_constant.iloc[:] = 0\n",
    "\n",
    "print(classification_report(target_test, target_pred_constant))"
   ]
  },
  {
   "cell_type": "markdown",
   "metadata": {
    "datalore": {
     "sheet_delimiter": false,
     "type": "MD"
    },
    "jupyter": {
     "outputs_hidden": false,
     "source_hidden": false
    },
    "pycharm": {
     "name": "#%% md\n"
    }
   },
   "source": [
    "Логистическая регрессия показывает лучшие результаты чем простая модель."
   ]
  },
  {
   "cell_type": "code",
   "execution_count": 90,
   "metadata": {
    "datalore": {
     "sheet_delimiter": false,
     "type": "CODE"
    },
    "jupyter": {
     "outputs_hidden": false,
     "source_hidden": false
    },
    "pycharm": {
     "name": "#%%\n"
    }
   },
   "outputs": [
    {
     "data": {
      "text/plain": [
       "RandomForestClassifier(bootstrap=True, class_weight=None, criterion='gini',\n",
       "                       max_depth=10, max_features='auto', max_leaf_nodes=None,\n",
       "                       min_impurity_decrease=0.0, min_impurity_split=None,\n",
       "                       min_samples_leaf=1, min_samples_split=2,\n",
       "                       min_weight_fraction_leaf=0.0, n_estimators=20,\n",
       "                       n_jobs=None, oob_score=False, random_state=12345,\n",
       "                       verbose=0, warm_start=False)"
      ]
     },
     "execution_count": 90,
     "metadata": {},
     "output_type": "execute_result"
    }
   ],
   "source": [
    "model = RandomForestClassifier(random_state=12345, n_estimators=20, max_depth=10) \n",
    "model.fit(features_train_scaled, target_upsampled)"
   ]
  },
  {
   "cell_type": "code",
   "execution_count": 91,
   "metadata": {
    "datalore": {
     "sheet_delimiter": false,
     "type": "CODE"
    },
    "jupyter": {
     "outputs_hidden": false,
     "source_hidden": false
    },
    "pycharm": {
     "name": "#%%\n"
    }
   },
   "outputs": [
    {
     "name": "stdout",
     "output_type": "stream",
     "text": [
      "Accuracy: 0.7609256897570686\n",
      "F1 Score: 0.6921659724447292\n"
     ]
    }
   ],
   "source": [
    "predict_test = model.predict(features_test_scaled)\n",
    "print('Accuracy:', accuracy_score(target_test, predict_test))\n",
    "print('F1 Score:', f1_score(target_test, predict_test))"
   ]
  },
  {
   "cell_type": "code",
   "execution_count": 92,
   "metadata": {
    "pycharm": {
     "name": "#%%\n"
    }
   },
   "outputs": [
    {
     "name": "stdout",
     "output_type": "stream",
     "text": [
      "              precision    recall  f1-score   support\n",
      "\n",
      "         0.0       0.80      0.81      0.80     19444\n",
      "         1.0       0.70      0.68      0.69     12705\n",
      "\n",
      "    accuracy                           0.76     32149\n",
      "   macro avg       0.75      0.75      0.75     32149\n",
      "weighted avg       0.76      0.76      0.76     32149\n",
      "\n"
     ]
    }
   ],
   "source": [
    "print(classification_report(target_test, predict_test))"
   ]
  },
  {
   "cell_type": "code",
   "execution_count": 93,
   "metadata": {
    "datalore": {
     "sheet_delimiter": false,
     "type": "CODE"
    },
    "jupyter": {
     "outputs_hidden": false,
     "source_hidden": false
    },
    "pycharm": {
     "name": "#%%\n"
    }
   },
   "outputs": [
    {
     "name": "stdout",
     "output_type": "stream",
     "text": [
      "AUC_ROC: 0.8408575296023633\n"
     ]
    }
   ],
   "source": [
    "\n",
    "probabilities_valid = model.predict_proba(features_test_scaled)\n",
    "probabilities_one_valid = probabilities_valid[:, 1]\n",
    "auc_roc = roc_auc_score(target_test, probabilities_one_valid)\n",
    "print(\"AUC_ROC:\", auc_roc)"
   ]
  },
  {
   "cell_type": "markdown",
   "metadata": {
    "datalore": {
     "sheet_delimiter": false,
     "type": "MD"
    },
    "jupyter": {
     "outputs_hidden": false,
     "source_hidden": false
    },
    "pycharm": {
     "name": "#%% md\n"
    }
   },
   "source": [
    "Наиболее лучший результат показал случайный лес:\n",
    "\n",
    "- Accuracy: 0.76\n",
    "- F1 Score: 0.69\n",
    "- AUC_ROC: 0.84"
   ]
  },
  {
   "cell_type": "code",
   "execution_count": 94,
   "metadata": {
    "datalore": {
     "sheet_delimiter": false,
     "type": "CODE"
    },
    "jupyter": {
     "outputs_hidden": false,
     "source_hidden": false
    },
    "pycharm": {
     "name": "#%%\n"
    }
   },
   "outputs": [
    {
     "name": "stdout",
     "output_type": "stream",
     "text": [
      "Средняя оценка качества модели: 0.7497303294531109\n"
     ]
    }
   ],
   "source": [
    "#Оценим модель кросс-валидацией\n",
    "scores = cross_val_score(model, features_test_scaled, target_test, cv=10)\n",
    "final_score = pd.Series(scores).mean()\n",
    "\n",
    "print('Средняя оценка качества модели:', final_score)"
   ]
  },
  {
   "cell_type": "code",
   "execution_count": 95,
   "metadata": {
    "datalore": {
     "sheet_delimiter": false,
     "type": "CODE"
    },
    "jupyter": {
     "outputs_hidden": false,
     "source_hidden": false
    },
    "pycharm": {
     "name": "#%%\n"
    }
   },
   "outputs": [],
   "source": [
    "test_index = merge_data['id'].isin(hotel_test['id'])\n",
    "test = merge_data[test_index].copy().reset_index(drop=True)"
   ]
  },
  {
   "cell_type": "code",
   "execution_count": 96,
   "metadata": {
    "datalore": {
     "sheet_delimiter": false,
     "type": "CODE"
    },
    "jupyter": {
     "outputs_hidden": false,
     "source_hidden": false
    },
    "pycharm": {
     "name": "#%%\n"
    }
   },
   "outputs": [
    {
     "name": "stdout",
     "output_type": "stream",
     "text": [
      "Доход полученный по тестовому датасету без внедрения депозитов 43.60 млн.\n"
     ]
    }
   ],
   "source": [
    "print(\"Доход полученный по тестовому датасету без внедрения депозитов {0:.2f} млн.\".format(test['income'].sum() / 1000000))"
   ]
  },
  {
   "cell_type": "code",
   "execution_count": 97,
   "metadata": {
    "datalore": {
     "sheet_delimiter": false,
     "type": "CODE"
    },
    "jupyter": {
     "outputs_hidden": false,
     "source_hidden": false
    },
    "pycharm": {
     "name": "#%%\n"
    }
   },
   "outputs": [
    {
     "name": "stdout",
     "output_type": "stream",
     "text": [
      "Доход, который мог быть получен по тестовому датасету с внедрением депозитов 56.38 млн.\n"
     ]
    }
   ],
   "source": [
    "width_deposite_income = (test['deposit'].sum() + test['income'].sum()) / 1000000\n",
    "print(\"Доход, который мог быть получен по тестовому датасету с внедрением депозитов {0:.2f} млн.\".format(width_deposite_income))"
   ]
  },
  {
   "cell_type": "code",
   "execution_count": 98,
   "metadata": {
    "datalore": {
     "sheet_delimiter": false,
     "type": "CODE"
    },
    "jupyter": {
     "outputs_hidden": false,
     "source_hidden": false
    },
    "pycharm": {
     "name": "#%%\n"
    }
   },
   "outputs": [],
   "source": [
    "predict = pd.DataFrame(predict_test)"
   ]
  },
  {
   "cell_type": "code",
   "execution_count": 99,
   "metadata": {
    "datalore": {
     "sheet_delimiter": false,
     "type": "CODE"
    },
    "jupyter": {
     "outputs_hidden": false,
     "source_hidden": false
    },
    "pycharm": {
     "name": "#%%\n"
    }
   },
   "outputs": [
    {
     "name": "stdout",
     "output_type": "stream",
     "text": [
      "Доход, который мог быть получен по тестовому датасету с внедрением депозитов по предсказанным данным 17.16 млн.\n"
     ]
    }
   ],
   "source": [
    "pred_test = test.iloc[predict[predict[0] == 1].index]\n",
    "width_deposite_income_pred = (pred_test['deposit'].sum() + pred_test['income'].sum()) / 1000000\n",
    "print(\"Доход, который мог быть получен по тестовому датасету с внедрением депозитов по предсказанным данным {0:.2f} млн.\".format(width_deposite_income_pred))"
   ]
  },
  {
   "cell_type": "markdown",
   "metadata": {
    "pycharm": {
     "name": "#%% md\n"
    }
   },
   "source": []
  },
  {
   "cell_type": "code",
   "execution_count": 100,
   "metadata": {
    "pycharm": {
     "name": "#%%\n"
    }
   },
   "outputs": [
    {
     "data": {
      "text/html": [
       "<div>\n",
       "<style scoped>\n",
       "    .dataframe tbody tr th:only-of-type {\n",
       "        vertical-align: middle;\n",
       "    }\n",
       "\n",
       "    .dataframe tbody tr th {\n",
       "        vertical-align: top;\n",
       "    }\n",
       "\n",
       "    .dataframe thead th {\n",
       "        text-align: right;\n",
       "    }\n",
       "</style>\n",
       "<table border=\"1\" class=\"dataframe\">\n",
       "  <thead>\n",
       "    <tr style=\"text-align: right;\">\n",
       "      <th></th>\n",
       "      <th>id</th>\n",
       "      <th>is_canceled</th>\n",
       "      <th>lead_time</th>\n",
       "      <th>arrival_date_year</th>\n",
       "      <th>arrival_date_month</th>\n",
       "      <th>arrival_date_week_number</th>\n",
       "      <th>arrival_date_day_of_month</th>\n",
       "      <th>stays_in_weekend_nights</th>\n",
       "      <th>stays_in_week_nights</th>\n",
       "      <th>adults</th>\n",
       "      <th>...</th>\n",
       "      <th>customer_type</th>\n",
       "      <th>required_car_parking_spaces</th>\n",
       "      <th>total_of_special_requests</th>\n",
       "      <th>total_nights</th>\n",
       "      <th>season</th>\n",
       "      <th>price</th>\n",
       "      <th>price_service</th>\n",
       "      <th>count_service</th>\n",
       "      <th>income</th>\n",
       "      <th>deposit</th>\n",
       "    </tr>\n",
       "  </thead>\n",
       "  <tbody>\n",
       "    <tr>\n",
       "      <td>5</td>\n",
       "      <td>6091</td>\n",
       "      <td>1</td>\n",
       "      <td>52</td>\n",
       "      <td>2017</td>\n",
       "      <td>January</td>\n",
       "      <td>1</td>\n",
       "      <td>1</td>\n",
       "      <td>2</td>\n",
       "      <td>5</td>\n",
       "      <td>1</td>\n",
       "      <td>...</td>\n",
       "      <td>Transient</td>\n",
       "      <td>0</td>\n",
       "      <td>0</td>\n",
       "      <td>7</td>\n",
       "      <td>Winter</td>\n",
       "      <td>NaN</td>\n",
       "      <td>NaN</td>\n",
       "      <td>3</td>\n",
       "      <td>0.0</td>\n",
       "      <td>NaN</td>\n",
       "    </tr>\n",
       "    <tr>\n",
       "      <td>6</td>\n",
       "      <td>6092</td>\n",
       "      <td>1</td>\n",
       "      <td>143</td>\n",
       "      <td>2017</td>\n",
       "      <td>January</td>\n",
       "      <td>1</td>\n",
       "      <td>2</td>\n",
       "      <td>1</td>\n",
       "      <td>1</td>\n",
       "      <td>2</td>\n",
       "      <td>...</td>\n",
       "      <td>Transient</td>\n",
       "      <td>0</td>\n",
       "      <td>1</td>\n",
       "      <td>2</td>\n",
       "      <td>Winter</td>\n",
       "      <td>NaN</td>\n",
       "      <td>NaN</td>\n",
       "      <td>1</td>\n",
       "      <td>0.0</td>\n",
       "      <td>NaN</td>\n",
       "    </tr>\n",
       "    <tr>\n",
       "      <td>31</td>\n",
       "      <td>6118</td>\n",
       "      <td>1</td>\n",
       "      <td>23</td>\n",
       "      <td>2017</td>\n",
       "      <td>January</td>\n",
       "      <td>1</td>\n",
       "      <td>7</td>\n",
       "      <td>2</td>\n",
       "      <td>1</td>\n",
       "      <td>2</td>\n",
       "      <td>...</td>\n",
       "      <td>Transient</td>\n",
       "      <td>0</td>\n",
       "      <td>1</td>\n",
       "      <td>3</td>\n",
       "      <td>Winter</td>\n",
       "      <td>NaN</td>\n",
       "      <td>NaN</td>\n",
       "      <td>1</td>\n",
       "      <td>0.0</td>\n",
       "      <td>NaN</td>\n",
       "    </tr>\n",
       "    <tr>\n",
       "      <td>40</td>\n",
       "      <td>6127</td>\n",
       "      <td>1</td>\n",
       "      <td>1</td>\n",
       "      <td>2017</td>\n",
       "      <td>January</td>\n",
       "      <td>2</td>\n",
       "      <td>11</td>\n",
       "      <td>0</td>\n",
       "      <td>1</td>\n",
       "      <td>1</td>\n",
       "      <td>...</td>\n",
       "      <td>Transient</td>\n",
       "      <td>0</td>\n",
       "      <td>0</td>\n",
       "      <td>1</td>\n",
       "      <td>Winter</td>\n",
       "      <td>NaN</td>\n",
       "      <td>NaN</td>\n",
       "      <td>1</td>\n",
       "      <td>0.0</td>\n",
       "      <td>NaN</td>\n",
       "    </tr>\n",
       "    <tr>\n",
       "      <td>53</td>\n",
       "      <td>6140</td>\n",
       "      <td>1</td>\n",
       "      <td>33</td>\n",
       "      <td>2017</td>\n",
       "      <td>January</td>\n",
       "      <td>2</td>\n",
       "      <td>14</td>\n",
       "      <td>2</td>\n",
       "      <td>1</td>\n",
       "      <td>2</td>\n",
       "      <td>...</td>\n",
       "      <td>Transient</td>\n",
       "      <td>0</td>\n",
       "      <td>0</td>\n",
       "      <td>3</td>\n",
       "      <td>Winter</td>\n",
       "      <td>NaN</td>\n",
       "      <td>NaN</td>\n",
       "      <td>1</td>\n",
       "      <td>0.0</td>\n",
       "      <td>NaN</td>\n",
       "    </tr>\n",
       "    <tr>\n",
       "      <td>...</td>\n",
       "      <td>...</td>\n",
       "      <td>...</td>\n",
       "      <td>...</td>\n",
       "      <td>...</td>\n",
       "      <td>...</td>\n",
       "      <td>...</td>\n",
       "      <td>...</td>\n",
       "      <td>...</td>\n",
       "      <td>...</td>\n",
       "      <td>...</td>\n",
       "      <td>...</td>\n",
       "      <td>...</td>\n",
       "      <td>...</td>\n",
       "      <td>...</td>\n",
       "      <td>...</td>\n",
       "      <td>...</td>\n",
       "      <td>...</td>\n",
       "      <td>...</td>\n",
       "      <td>...</td>\n",
       "      <td>...</td>\n",
       "      <td>...</td>\n",
       "    </tr>\n",
       "    <tr>\n",
       "      <td>32126</td>\n",
       "      <td>97618</td>\n",
       "      <td>0</td>\n",
       "      <td>3</td>\n",
       "      <td>2017</td>\n",
       "      <td>August</td>\n",
       "      <td>35</td>\n",
       "      <td>27</td>\n",
       "      <td>1</td>\n",
       "      <td>0</td>\n",
       "      <td>1</td>\n",
       "      <td>...</td>\n",
       "      <td>Transient</td>\n",
       "      <td>0</td>\n",
       "      <td>1</td>\n",
       "      <td>1</td>\n",
       "      <td>Summer</td>\n",
       "      <td>1400.0</td>\n",
       "      <td>560.0</td>\n",
       "      <td>1</td>\n",
       "      <td>840.0</td>\n",
       "      <td>0.0</td>\n",
       "    </tr>\n",
       "    <tr>\n",
       "      <td>32130</td>\n",
       "      <td>97622</td>\n",
       "      <td>0</td>\n",
       "      <td>301</td>\n",
       "      <td>2017</td>\n",
       "      <td>August</td>\n",
       "      <td>35</td>\n",
       "      <td>27</td>\n",
       "      <td>2</td>\n",
       "      <td>0</td>\n",
       "      <td>2</td>\n",
       "      <td>...</td>\n",
       "      <td>Transient</td>\n",
       "      <td>0</td>\n",
       "      <td>0</td>\n",
       "      <td>2</td>\n",
       "      <td>Summer</td>\n",
       "      <td>630.0</td>\n",
       "      <td>210.0</td>\n",
       "      <td>1</td>\n",
       "      <td>1050.0</td>\n",
       "      <td>0.0</td>\n",
       "    </tr>\n",
       "    <tr>\n",
       "      <td>32131</td>\n",
       "      <td>97623</td>\n",
       "      <td>0</td>\n",
       "      <td>234</td>\n",
       "      <td>2017</td>\n",
       "      <td>August</td>\n",
       "      <td>34</td>\n",
       "      <td>26</td>\n",
       "      <td>2</td>\n",
       "      <td>1</td>\n",
       "      <td>2</td>\n",
       "      <td>...</td>\n",
       "      <td>Transient</td>\n",
       "      <td>1</td>\n",
       "      <td>0</td>\n",
       "      <td>3</td>\n",
       "      <td>Summer</td>\n",
       "      <td>1120.0</td>\n",
       "      <td>490.0</td>\n",
       "      <td>1</td>\n",
       "      <td>2870.0</td>\n",
       "      <td>0.0</td>\n",
       "    </tr>\n",
       "    <tr>\n",
       "      <td>32140</td>\n",
       "      <td>97632</td>\n",
       "      <td>0</td>\n",
       "      <td>219</td>\n",
       "      <td>2017</td>\n",
       "      <td>August</td>\n",
       "      <td>34</td>\n",
       "      <td>25</td>\n",
       "      <td>2</td>\n",
       "      <td>2</td>\n",
       "      <td>2</td>\n",
       "      <td>...</td>\n",
       "      <td>Transient</td>\n",
       "      <td>0</td>\n",
       "      <td>1</td>\n",
       "      <td>4</td>\n",
       "      <td>Summer</td>\n",
       "      <td>1400.0</td>\n",
       "      <td>560.0</td>\n",
       "      <td>2</td>\n",
       "      <td>4480.0</td>\n",
       "      <td>0.0</td>\n",
       "    </tr>\n",
       "    <tr>\n",
       "      <td>32144</td>\n",
       "      <td>97636</td>\n",
       "      <td>0</td>\n",
       "      <td>221</td>\n",
       "      <td>2017</td>\n",
       "      <td>August</td>\n",
       "      <td>34</td>\n",
       "      <td>26</td>\n",
       "      <td>2</td>\n",
       "      <td>1</td>\n",
       "      <td>2</td>\n",
       "      <td>...</td>\n",
       "      <td>Transient</td>\n",
       "      <td>0</td>\n",
       "      <td>1</td>\n",
       "      <td>3</td>\n",
       "      <td>Summer</td>\n",
       "      <td>630.0</td>\n",
       "      <td>210.0</td>\n",
       "      <td>1</td>\n",
       "      <td>1680.0</td>\n",
       "      <td>0.0</td>\n",
       "    </tr>\n",
       "  </tbody>\n",
       "</table>\n",
       "<p>12263 rows × 31 columns</p>\n",
       "</div>"
      ],
      "text/plain": [
       "          id  is_canceled  lead_time  arrival_date_year arrival_date_month  \\\n",
       "5       6091            1         52               2017            January   \n",
       "6       6092            1        143               2017            January   \n",
       "31      6118            1         23               2017            January   \n",
       "40      6127            1          1               2017            January   \n",
       "53      6140            1         33               2017            January   \n",
       "...      ...          ...        ...                ...                ...   \n",
       "32126  97618            0          3               2017             August   \n",
       "32130  97622            0        301               2017             August   \n",
       "32131  97623            0        234               2017             August   \n",
       "32140  97632            0        219               2017             August   \n",
       "32144  97636            0        221               2017             August   \n",
       "\n",
       "       arrival_date_week_number  arrival_date_day_of_month  \\\n",
       "5                             1                          1   \n",
       "6                             1                          2   \n",
       "31                            1                          7   \n",
       "40                            2                         11   \n",
       "53                            2                         14   \n",
       "...                         ...                        ...   \n",
       "32126                        35                         27   \n",
       "32130                        35                         27   \n",
       "32131                        34                         26   \n",
       "32140                        34                         25   \n",
       "32144                        34                         26   \n",
       "\n",
       "       stays_in_weekend_nights  stays_in_week_nights  adults  ...  \\\n",
       "5                            2                     5       1  ...   \n",
       "6                            1                     1       2  ...   \n",
       "31                           2                     1       2  ...   \n",
       "40                           0                     1       1  ...   \n",
       "53                           2                     1       2  ...   \n",
       "...                        ...                   ...     ...  ...   \n",
       "32126                        1                     0       1  ...   \n",
       "32130                        2                     0       2  ...   \n",
       "32131                        2                     1       2  ...   \n",
       "32140                        2                     2       2  ...   \n",
       "32144                        2                     1       2  ...   \n",
       "\n",
       "       customer_type  required_car_parking_spaces total_of_special_requests  \\\n",
       "5          Transient                            0                         0   \n",
       "6          Transient                            0                         1   \n",
       "31         Transient                            0                         1   \n",
       "40         Transient                            0                         0   \n",
       "53         Transient                            0                         0   \n",
       "...              ...                          ...                       ...   \n",
       "32126      Transient                            0                         1   \n",
       "32130      Transient                            0                         0   \n",
       "32131      Transient                            1                         0   \n",
       "32140      Transient                            0                         1   \n",
       "32144      Transient                            0                         1   \n",
       "\n",
       "      total_nights  season   price  price_service  count_service  income  \\\n",
       "5                7  Winter     NaN            NaN              3     0.0   \n",
       "6                2  Winter     NaN            NaN              1     0.0   \n",
       "31               3  Winter     NaN            NaN              1     0.0   \n",
       "40               1  Winter     NaN            NaN              1     0.0   \n",
       "53               3  Winter     NaN            NaN              1     0.0   \n",
       "...            ...     ...     ...            ...            ...     ...   \n",
       "32126            1  Summer  1400.0          560.0              1   840.0   \n",
       "32130            2  Summer   630.0          210.0              1  1050.0   \n",
       "32131            3  Summer  1120.0          490.0              1  2870.0   \n",
       "32140            4  Summer  1400.0          560.0              2  4480.0   \n",
       "32144            3  Summer   630.0          210.0              1  1680.0   \n",
       "\n",
       "       deposit  \n",
       "5          NaN  \n",
       "6          NaN  \n",
       "31         NaN  \n",
       "40         NaN  \n",
       "53         NaN  \n",
       "...        ...  \n",
       "32126      0.0  \n",
       "32130      0.0  \n",
       "32131      0.0  \n",
       "32140      0.0  \n",
       "32144      0.0  \n",
       "\n",
       "[12263 rows x 31 columns]"
      ]
     },
     "execution_count": 100,
     "metadata": {},
     "output_type": "execute_result"
    }
   ],
   "source": [
    "pred_test"
   ]
  },
  {
   "cell_type": "markdown",
   "metadata": {
    "datalore": {
     "sheet_delimiter": false,
     "type": "MD"
    },
    "jupyter": {
     "outputs_hidden": false,
     "source_hidden": false
    },
    "pycharm": {
     "name": "#%% md\n"
    }
   },
   "source": [
    "### Шаг 5. Выявите признаки «ненадёжного» клиента"
   ]
  },
  {
   "cell_type": "code",
   "execution_count": 101,
   "metadata": {
    "pycharm": {
     "name": "#%%\n"
    }
   },
   "outputs": [],
   "source": [
    "#importances = model.feature_importances_"
   ]
  },
  {
   "cell_type": "code",
   "execution_count": 102,
   "metadata": {
    "pycharm": {
     "name": "#%%\n"
    }
   },
   "outputs": [
    {
     "data": {
      "image/png": "[encoded data removed]",
      "text/plain": [
       "<Figure size 432x288 with 1 Axes>"
      ]
     },
     "metadata": {
      "needs_background": "light"
     },
     "output_type": "display_data"
    }
   ],
   "source": [
    "\n",
    "def chart_feature_imp(model):\n",
    "    feature_imp = pd.Series(model.feature_importances_, index=features_train.columns).sort_values(ascending=False)\n",
    "\n",
    "    ax = sns.barplot(x=feature_imp, y=feature_imp.index)\n",
    "    ax.set(xlabel='Оценка важности признаков', ylabel='Признаки')\n",
    "    ax.set_title('Визуализация важности признаков')\n",
    "\n",
    "chart_feature_imp(model)"
   ]
  },
  {
   "cell_type": "markdown",
   "metadata": {
    "pycharm": {
     "name": "#%% md\n"
    }
   },
   "source": [
    "Сорян.. вроде все работало... поправил)"
   ]
  },
  {
   "cell_type": "markdown",
   "metadata": {
    "datalore": {
     "sheet_delimiter": false,
     "type": "MD"
    },
    "jupyter": {
     "outputs_hidden": false,
     "source_hidden": false
    },
    "pycharm": {
     "name": "#%% md\n"
    }
   },
   "source": [
    "- Заказы у которых дата прибытия превышает 350 дней вероятнее всего будут отменены\n",
    "- Для категории номеров A и D больше всего отказов \n",
    "- Для заказов с опцией включен завтрак, больше всего отказов\n",
    "- Больше всего отмен из Португалии"
   ]
  },
  {
   "cell_type": "code",
   "execution_count": 103,
   "metadata": {
    "pycharm": {
     "name": "#%%\n"
    }
   },
   "outputs": [],
   "source": [
    "count = merge_data[merge_data['arrival_date_year'] == 2017].groupby('arrival_date_month')['id'].agg('count').mean()"
   ]
  },
  {
   "cell_type": "code",
   "execution_count": 104,
   "metadata": {
    "pycharm": {
     "name": "#%%\n"
    }
   },
   "outputs": [
    {
     "name": "stdout",
     "output_type": "stream",
     "text": [
      "Среднее колличество бронироваинй за месяц за последний год 4051.5\n"
     ]
    }
   ],
   "source": [
    "print(f'Среднее колличество бронироваинй за месяц за последний год', count) "
   ]
  },
  {
   "cell_type": "code",
   "execution_count": 105,
   "metadata": {
    "pycharm": {
     "name": "#%%\n"
    }
   },
   "outputs": [],
   "source": [
    "canceled = ( merge_data[(merge_data['is_canceled'] == 1) & (merge_data['arrival_date_year'] == 2017)].\n",
    "     groupby(['arrival_date_year','arrival_date_month'])['id'].agg('count').mean()\n",
    ")"
   ]
  },
  {
   "cell_type": "code",
   "execution_count": 106,
   "metadata": {
    "pycharm": {
     "name": "#%%\n"
    }
   },
   "outputs": [
    {
     "name": "stdout",
     "output_type": "stream",
     "text": [
      "Среднее количество отказов в месяц за последний год 1573.875\n"
     ]
    }
   ],
   "source": [
    "print(f'Среднее количество отказов в месяц за последний год', canceled)"
   ]
  },
  {
   "cell_type": "code",
   "execution_count": 107,
   "metadata": {
    "pycharm": {
     "name": "#%%\n"
    }
   },
   "outputs": [],
   "source": [
    "income = merge_data[merge_data['arrival_date_year'] == 2017].groupby('arrival_date_month')['income'].agg('sum').mean()"
   ]
  },
  {
   "cell_type": "code",
   "execution_count": 108,
   "metadata": {
    "pycharm": {
     "name": "#%%\n"
    }
   },
   "outputs": [
    {
     "name": "stdout",
     "output_type": "stream",
     "text": [
      "Средний доход в месяц за последний год 5.450035 млн.\n"
     ]
    }
   ],
   "source": [
    "print(f'Средний доход в месяц за последний год', income / 1000000, 'млн.')"
   ]
  },
  {
   "cell_type": "code",
   "execution_count": 109,
   "metadata": {
    "pycharm": {
     "name": "#%%\n"
    }
   },
   "outputs": [],
   "source": [
    "deposit = merge_data[merge_data['arrival_date_year'] == 2017].groupby('arrival_date_month')['deposit'].agg('sum').mean()"
   ]
  },
  {
   "cell_type": "code",
   "execution_count": 110,
   "metadata": {
    "pycharm": {
     "name": "#%%\n"
    }
   },
   "outputs": [
    {
     "name": "stdout",
     "output_type": "stream",
     "text": [
      "Средний доход от внедрения депозита в месяц за последний год 1.597623 млн.\n"
     ]
    }
   ],
   "source": [
    "print(f'Средний доход от внедрения депозита в месяц за последний год', deposit / 1000000, 'млн.' )"
   ]
  },
  {
   "cell_type": "markdown",
   "metadata": {
    "datalore": {
     "sheet_delimiter": false,
     "type": "MD"
    },
    "jupyter": {
     "outputs_hidden": false,
     "source_hidden": false
    },
    "pycharm": {
     "name": "#%% md\n"
    }
   },
   "source": [
    "### Шаг 6. Напишите общий вывод"
   ]
  },
  {
   "cell_type": "markdown",
   "metadata": {
    "datalore": {
     "sheet_delimiter": false,
     "type": "MD"
    },
    "jupyter": {
     "outputs_hidden": false,
     "source_hidden": false
    },
    "pycharm": {
     "name": "#%% md\n"
    }
   },
   "source": [
    "- Разработанная модель позволяет с 75% точностью определить клиента который откажется от брони.\n",
    "- С внедрением депозитов, доход отеля мог бы вырасти за весь период с 136 млн. до 175млн\n",
    "- Общий доход по тестовым данным без внедрения депозитов составил 43.6 млн. При внедрении депозитов и применением модели машинного обучения доход бы мог вырасти на 17 млн. При условии что на разработку модели было бы затрачено 400 т.р. эта сумма бы окупилась за год."
   ]
  },
  {
   "cell_type": "markdown",
   "metadata": {
    "pycharm": {
     "name": "#%% md\n"
    }
   },
   "source": [
    "- депозит 80% я посчитал за один день проживания и 1 раза обслуживания \n",
    "- нашел ошибку.. числа уменьшились. Получается что в среднем доход от внедрения депозита в среднем в месяц увеличится на 1,6 млн. что уже влияет на окупаемость."
   ]
  },
  {
   "cell_type": "markdown",
   "metadata": {
    "pycharm": {
     "name": "#%% md\n"
    }
   },
   "source": [
    "#### Вопрос от себя )\n",
    " - наверно нужно использовать бутстрап? тема оказалась очень сложная для меня, хотя и понятная в целом. Нужно руку набивать. Времени жаль мало.. работу поменял. Успеваю делать только поздно вечером."
   ]
  }
 ],
 "metadata": {
  "ExecuteTimeLog": [
   {
    "duration": 1110,
    "start_time": "2022-02-19T11:26:46.200Z"
   },
   {
    "duration": 2,
    "start_time": "2022-02-19T11:26:47.312Z"
   },
   {
    "duration": 829,
    "start_time": "2022-02-19T11:26:47.316Z"
   },
   {
    "duration": 21,
    "start_time": "2022-02-19T11:26:48.147Z"
   },
   {
    "duration": 17,
    "start_time": "2022-02-19T11:26:48.170Z"
   },
   {
    "duration": 23,
    "start_time": "2022-02-19T11:26:50.010Z"
   },
   {
    "duration": 14,
    "start_time": "2022-02-19T11:26:50.645Z"
   },
   {
    "duration": 24,
    "start_time": "2022-02-19T11:26:51.251Z"
   },
   {
    "duration": 2,
    "start_time": "2022-02-19T11:26:52.091Z"
   },
   {
    "duration": 3,
    "start_time": "2022-02-19T11:26:52.448Z"
   },
   {
    "duration": 63,
    "start_time": "2022-02-19T12:10:55.021Z"
   },
   {
    "duration": 29,
    "start_time": "2022-02-19T12:10:56.126Z"
   },
   {
    "duration": 35,
    "start_time": "2022-02-19T12:10:57.303Z"
   },
   {
    "duration": 80,
    "start_time": "2022-02-19T12:11:03.758Z"
   },
   {
    "duration": 419,
    "start_time": "2022-02-19T12:11:10.985Z"
   },
   {
    "duration": 6,
    "start_time": "2022-02-19T12:11:26.396Z"
   },
   {
    "duration": 694,
    "start_time": "2022-02-19T12:12:22.302Z"
   },
   {
    "duration": 24,
    "start_time": "2022-02-19T12:14:01.559Z"
   },
   {
    "duration": 6,
    "start_time": "2022-02-19T12:14:06.122Z"
   },
   {
    "duration": 12,
    "start_time": "2022-02-19T12:14:07.330Z"
   },
   {
    "duration": 21,
    "start_time": "2022-02-19T12:14:09.437Z"
   },
   {
    "duration": 4,
    "start_time": "2022-02-19T12:16:47.632Z"
   },
   {
    "duration": 2,
    "start_time": "2022-02-19T12:16:50.177Z"
   },
   {
    "duration": 2,
    "start_time": "2022-02-19T12:16:50.967Z"
   },
   {
    "duration": 30,
    "start_time": "2022-02-19T12:16:57.680Z"
   },
   {
    "duration": 211,
    "start_time": "2022-02-19T12:16:58.705Z"
   },
   {
    "duration": 303,
    "start_time": "2022-02-19T12:17:02.195Z"
   },
   {
    "duration": 213,
    "start_time": "2022-02-19T12:17:06.522Z"
   },
   {
    "duration": 230,
    "start_time": "2022-02-19T12:17:08.881Z"
   },
   {
    "duration": 166,
    "start_time": "2022-02-19T12:17:12.966Z"
   },
   {
    "duration": 233,
    "start_time": "2022-02-19T12:17:13.976Z"
   },
   {
    "duration": 117,
    "start_time": "2022-02-19T12:17:15.194Z"
   },
   {
    "duration": 211,
    "start_time": "2022-02-19T12:17:16.159Z"
   },
   {
    "duration": 186,
    "start_time": "2022-02-19T12:17:17.204Z"
   },
   {
    "duration": 408,
    "start_time": "2022-02-19T12:17:18.245Z"
   },
   {
    "duration": 4,
    "start_time": "2022-02-19T12:17:23.976Z"
   },
   {
    "duration": 33,
    "start_time": "2022-02-19T12:17:27.232Z"
   },
   {
    "duration": 162,
    "start_time": "2022-02-19T12:17:27.746Z"
   },
   {
    "duration": 219,
    "start_time": "2022-02-19T12:17:28.571Z"
   },
   {
    "duration": 199,
    "start_time": "2022-02-19T12:17:29.456Z"
   },
   {
    "duration": 6,
    "start_time": "2022-02-19T12:17:30.022Z"
   },
   {
    "duration": 33,
    "start_time": "2022-02-19T12:17:31.393Z"
   },
   {
    "duration": 171,
    "start_time": "2022-02-19T12:17:32.045Z"
   },
   {
    "duration": 316,
    "start_time": "2022-02-19T12:17:32.580Z"
   },
   {
    "duration": 12,
    "start_time": "2022-02-19T12:17:33.093Z"
   },
   {
    "duration": 21,
    "start_time": "2022-02-19T12:17:33.688Z"
   },
   {
    "duration": 235,
    "start_time": "2022-02-19T12:17:34.243Z"
   },
   {
    "duration": 18,
    "start_time": "2022-02-19T12:17:34.842Z"
   },
   {
    "duration": 49,
    "start_time": "2022-02-19T12:17:35.530Z"
   },
   {
    "duration": 4,
    "start_time": "2022-02-19T12:17:37.252Z"
   },
   {
    "duration": 68,
    "start_time": "2022-02-19T12:17:39.171Z"
   },
   {
    "duration": 3,
    "start_time": "2022-02-19T12:17:39.993Z"
   },
   {
    "duration": 134,
    "start_time": "2022-02-19T12:17:40.609Z"
   },
   {
    "duration": 6,
    "start_time": "2022-02-19T12:17:41.132Z"
   },
   {
    "duration": 4,
    "start_time": "2022-02-19T12:17:42.042Z"
   },
   {
    "duration": 1444,
    "start_time": "2022-02-19T12:17:42.606Z"
   },
   {
    "duration": 1463,
    "start_time": "2022-02-19T12:17:44.776Z"
   },
   {
    "duration": 3,
    "start_time": "2022-02-19T12:17:46.832Z"
   },
   {
    "duration": 2230,
    "start_time": "2022-02-19T12:17:57.207Z"
   },
   {
    "duration": 3,
    "start_time": "2022-02-19T12:17:59.440Z"
   },
   {
    "duration": 5,
    "start_time": "2022-02-19T12:17:59.445Z"
   },
   {
    "duration": 1546,
    "start_time": "2022-02-19T12:17:59.452Z"
   },
   {
    "duration": 5,
    "start_time": "2022-02-19T12:18:01.000Z"
   },
   {
    "duration": 12,
    "start_time": "2022-02-19T12:18:09.266Z"
   },
   {
    "duration": 16,
    "start_time": "2022-02-19T12:18:10.326Z"
   },
   {
    "duration": 277,
    "start_time": "2022-02-19T12:18:20.317Z"
   },
   {
    "duration": 31,
    "start_time": "2022-02-19T12:18:21.277Z"
   },
   {
    "duration": 42,
    "start_time": "2022-02-19T12:18:22.187Z"
   },
   {
    "duration": 203,
    "start_time": "2022-02-19T12:18:23.168Z"
   },
   {
    "duration": 4,
    "start_time": "2022-02-19T12:18:24.204Z"
   },
   {
    "duration": 4,
    "start_time": "2022-02-19T12:18:24.979Z"
   },
   {
    "duration": 10,
    "start_time": "2022-02-19T12:18:26.147Z"
   },
   {
    "duration": 39,
    "start_time": "2022-02-19T12:18:26.673Z"
   },
   {
    "duration": 175,
    "start_time": "2022-02-19T12:18:28.316Z"
   },
   {
    "duration": 36,
    "start_time": "2022-02-19T12:18:29.225Z"
   },
   {
    "duration": 16,
    "start_time": "2022-02-19T12:18:29.841Z"
   },
   {
    "duration": 2140,
    "start_time": "2022-02-19T12:18:30.897Z"
   },
   {
    "duration": 95,
    "start_time": "2022-02-19T12:18:33.039Z"
   },
   {
    "duration": 107,
    "start_time": "2022-02-19T12:18:33.137Z"
   },
   {
    "duration": 19,
    "start_time": "2022-02-19T12:18:33.326Z"
   },
   {
    "duration": 956,
    "start_time": "2022-02-19T12:18:34.991Z"
   },
   {
    "duration": 66,
    "start_time": "2022-02-19T12:18:35.949Z"
   },
   {
    "duration": 59,
    "start_time": "2022-02-19T12:18:36.546Z"
   },
   {
    "duration": 3325,
    "start_time": "2022-02-19T12:18:39.083Z"
   },
   {
    "duration": 23,
    "start_time": "2022-02-19T12:18:42.409Z"
   },
   {
    "duration": 4,
    "start_time": "2022-02-19T12:18:42.433Z"
   },
   {
    "duration": 11,
    "start_time": "2022-02-19T12:18:42.438Z"
   },
   {
    "duration": 12,
    "start_time": "2022-02-19T12:18:42.450Z"
   },
   {
    "duration": 15,
    "start_time": "2022-02-19T12:18:42.464Z"
   },
   {
    "duration": 49,
    "start_time": "2022-02-19T12:42:27.894Z"
   },
   {
    "duration": 4,
    "start_time": "2022-02-19T12:45:22.516Z"
   },
   {
    "duration": 5,
    "start_time": "2022-02-19T12:45:50.595Z"
   },
   {
    "duration": 102,
    "start_time": "2022-02-19T12:46:48.968Z"
   },
   {
    "duration": 5,
    "start_time": "2022-02-19T12:46:55.848Z"
   },
   {
    "duration": 6,
    "start_time": "2022-02-19T12:47:17.301Z"
   },
   {
    "duration": 25,
    "start_time": "2022-02-19T12:54:40.133Z"
   },
   {
    "duration": 18,
    "start_time": "2022-02-19T12:55:22.718Z"
   },
   {
    "duration": 28,
    "start_time": "2022-02-19T13:06:05.962Z"
   },
   {
    "duration": 479,
    "start_time": "2022-02-20T06:28:09.999Z"
   },
   {
    "duration": 1282,
    "start_time": "2022-02-20T06:28:18.035Z"
   },
   {
    "duration": 3,
    "start_time": "2022-02-20T06:28:19.319Z"
   },
   {
    "duration": 596,
    "start_time": "2022-02-20T06:28:19.323Z"
   },
   {
    "duration": 26,
    "start_time": "2022-02-20T06:28:19.921Z"
   },
   {
    "duration": 16,
    "start_time": "2022-02-20T06:28:19.948Z"
   },
   {
    "duration": 23,
    "start_time": "2022-02-20T06:28:19.966Z"
   },
   {
    "duration": 13,
    "start_time": "2022-02-20T06:28:19.991Z"
   },
   {
    "duration": 45,
    "start_time": "2022-02-20T06:28:20.006Z"
   },
   {
    "duration": 2,
    "start_time": "2022-02-20T06:28:20.226Z"
   },
   {
    "duration": 2,
    "start_time": "2022-02-20T06:28:20.662Z"
   },
   {
    "duration": 65,
    "start_time": "2022-02-20T06:28:21.576Z"
   },
   {
    "duration": 31,
    "start_time": "2022-02-20T06:28:21.848Z"
   },
   {
    "duration": 36,
    "start_time": "2022-02-20T06:28:22.342Z"
   },
   {
    "duration": 86,
    "start_time": "2022-02-20T06:28:22.990Z"
   },
   {
    "duration": 425,
    "start_time": "2022-02-20T06:28:23.776Z"
   },
   {
    "duration": 6,
    "start_time": "2022-02-20T06:28:24.227Z"
   },
   {
    "duration": 779,
    "start_time": "2022-02-20T06:28:25.434Z"
   },
   {
    "duration": 708,
    "start_time": "2022-02-20T06:29:57.140Z"
   },
   {
    "duration": 719,
    "start_time": "2022-02-20T06:30:12.696Z"
   },
   {
    "duration": 362,
    "start_time": "2022-02-20T06:33:57.262Z"
   },
   {
    "duration": 696,
    "start_time": "2022-02-20T06:34:09.124Z"
   },
   {
    "duration": 301,
    "start_time": "2022-02-20T06:34:15.339Z"
   },
   {
    "duration": 1171,
    "start_time": "2022-02-20T09:22:14.231Z"
   },
   {
    "duration": 2,
    "start_time": "2022-02-20T09:22:15.404Z"
   },
   {
    "duration": 564,
    "start_time": "2022-02-20T09:22:15.407Z"
   },
   {
    "duration": 20,
    "start_time": "2022-02-20T09:22:15.973Z"
   },
   {
    "duration": 16,
    "start_time": "2022-02-20T09:22:15.994Z"
   },
   {
    "duration": 37,
    "start_time": "2022-02-20T09:22:16.012Z"
   },
   {
    "duration": 14,
    "start_time": "2022-02-20T09:22:16.141Z"
   },
   {
    "duration": 26,
    "start_time": "2022-02-20T09:22:16.773Z"
   },
   {
    "duration": 3,
    "start_time": "2022-02-20T09:22:17.269Z"
   },
   {
    "duration": 2,
    "start_time": "2022-02-20T09:22:17.704Z"
   },
   {
    "duration": 66,
    "start_time": "2022-02-20T09:22:18.887Z"
   },
   {
    "duration": 30,
    "start_time": "2022-02-20T09:22:19.295Z"
   },
   {
    "duration": 37,
    "start_time": "2022-02-20T09:22:19.797Z"
   },
   {
    "duration": 120,
    "start_time": "2022-02-20T09:22:20.326Z"
   },
   {
    "duration": 432,
    "start_time": "2022-02-20T09:22:20.989Z"
   },
   {
    "duration": 5,
    "start_time": "2022-02-20T09:22:21.824Z"
   },
   {
    "duration": 307,
    "start_time": "2022-02-20T09:22:23.431Z"
   },
   {
    "duration": 991,
    "start_time": "2022-02-20T09:22:38.987Z"
   },
   {
    "duration": 712,
    "start_time": "2022-02-20T09:27:33.688Z"
   },
   {
    "duration": 625,
    "start_time": "2022-02-20T09:27:47.386Z"
   },
   {
    "duration": 1888,
    "start_time": "2022-02-20T14:55:14.378Z"
   },
   {
    "duration": 5,
    "start_time": "2022-02-20T14:55:16.270Z"
   },
   {
    "duration": 686,
    "start_time": "2022-02-20T14:55:16.278Z"
   },
   {
    "duration": 40,
    "start_time": "2022-02-20T14:55:16.968Z"
   },
   {
    "duration": 48,
    "start_time": "2022-02-20T14:55:17.226Z"
   },
   {
    "duration": 32,
    "start_time": "2022-02-20T14:55:17.780Z"
   },
   {
    "duration": 21,
    "start_time": "2022-02-20T14:55:18.090Z"
   },
   {
    "duration": 44,
    "start_time": "2022-02-20T14:55:18.359Z"
   },
   {
    "duration": 3,
    "start_time": "2022-02-20T14:55:18.617Z"
   },
   {
    "duration": 3,
    "start_time": "2022-02-20T14:55:18.874Z"
   },
   {
    "duration": 111,
    "start_time": "2022-02-20T14:55:19.601Z"
   },
   {
    "duration": 43,
    "start_time": "2022-02-20T14:55:19.815Z"
   },
   {
    "duration": 54,
    "start_time": "2022-02-20T14:55:19.973Z"
   },
   {
    "duration": 149,
    "start_time": "2022-02-20T14:55:20.443Z"
   },
   {
    "duration": 884,
    "start_time": "2022-02-20T14:55:20.650Z"
   },
   {
    "duration": 8,
    "start_time": "2022-02-20T14:55:21.537Z"
   },
   {
    "duration": 481,
    "start_time": "2022-02-20T14:55:21.562Z"
   },
   {
    "duration": 364,
    "start_time": "2022-02-20T14:55:22.046Z"
   },
   {
    "duration": 425,
    "start_time": "2022-02-20T14:55:22.413Z"
   },
   {
    "duration": 420,
    "start_time": "2022-02-20T14:55:22.841Z"
   },
   {
    "duration": 326,
    "start_time": "2022-02-20T14:55:23.264Z"
   },
   {
    "duration": 41,
    "start_time": "2022-02-20T14:55:23.594Z"
   },
   {
    "duration": 376,
    "start_time": "2022-02-20T14:55:23.637Z"
   },
   {
    "duration": 10,
    "start_time": "2022-02-20T14:55:24.017Z"
   },
   {
    "duration": 46,
    "start_time": "2022-02-20T14:55:24.030Z"
   },
   {
    "duration": 36,
    "start_time": "2022-02-20T14:55:24.177Z"
   },
   {
    "duration": 6,
    "start_time": "2022-02-20T14:55:24.774Z"
   },
   {
    "duration": 4,
    "start_time": "2022-02-20T14:55:25.800Z"
   },
   {
    "duration": 5,
    "start_time": "2022-02-20T14:55:26.295Z"
   },
   {
    "duration": 50,
    "start_time": "2022-02-20T14:55:26.492Z"
   },
   {
    "duration": 428,
    "start_time": "2022-02-20T14:55:26.713Z"
   },
   {
    "duration": 661,
    "start_time": "2022-02-20T14:55:27.144Z"
   },
   {
    "duration": 352,
    "start_time": "2022-02-20T14:55:27.808Z"
   },
   {
    "duration": 624,
    "start_time": "2022-02-20T14:55:28.165Z"
   },
   {
    "duration": 477,
    "start_time": "2022-02-20T14:55:28.794Z"
   },
   {
    "duration": 493,
    "start_time": "2022-02-20T14:55:29.274Z"
   },
   {
    "duration": 274,
    "start_time": "2022-02-20T14:55:29.773Z"
   },
   {
    "duration": 721,
    "start_time": "2022-02-20T14:55:30.049Z"
   },
   {
    "duration": 637,
    "start_time": "2022-02-20T14:55:30.774Z"
   },
   {
    "duration": 647,
    "start_time": "2022-02-20T14:55:31.414Z"
   },
   {
    "duration": 9,
    "start_time": "2022-02-20T14:55:32.064Z"
   },
   {
    "duration": 72,
    "start_time": "2022-02-20T14:55:32.076Z"
   },
   {
    "duration": 325,
    "start_time": "2022-02-20T14:55:32.809Z"
   },
   {
    "duration": 459,
    "start_time": "2022-02-20T14:55:33.439Z"
   },
   {
    "duration": 445,
    "start_time": "2022-02-20T14:55:33.901Z"
   },
   {
    "duration": 27,
    "start_time": "2022-02-20T14:55:34.350Z"
   },
   {
    "duration": 76,
    "start_time": "2022-02-20T14:55:34.389Z"
   },
   {
    "duration": 406,
    "start_time": "2022-02-20T14:55:34.571Z"
   },
   {
    "duration": 532,
    "start_time": "2022-02-20T14:55:34.980Z"
   },
   {
    "duration": 18,
    "start_time": "2022-02-20T14:55:35.515Z"
   },
   {
    "duration": 64,
    "start_time": "2022-02-20T14:55:35.829Z"
   },
   {
    "duration": 591,
    "start_time": "2022-02-20T14:55:36.741Z"
   },
   {
    "duration": 31,
    "start_time": "2022-02-20T14:55:37.335Z"
   },
   {
    "duration": 97,
    "start_time": "2022-02-20T14:55:37.370Z"
   },
   {
    "duration": 8,
    "start_time": "2022-02-20T14:55:38.252Z"
   },
   {
    "duration": 146,
    "start_time": "2022-02-20T14:55:38.433Z"
   },
   {
    "duration": 5,
    "start_time": "2022-02-20T14:55:38.582Z"
   },
   {
    "duration": 277,
    "start_time": "2022-02-20T14:55:38.762Z"
   },
   {
    "duration": 14,
    "start_time": "2022-02-20T14:55:39.379Z"
   },
   {
    "duration": 11,
    "start_time": "2022-02-20T14:55:40.235Z"
   },
   {
    "duration": 3290,
    "start_time": "2022-02-20T14:55:40.816Z"
   },
   {
    "duration": 3358,
    "start_time": "2022-02-20T14:55:44.109Z"
   },
   {
    "duration": 6,
    "start_time": "2022-02-20T14:55:47.472Z"
   },
   {
    "duration": 7085,
    "start_time": "2022-02-20T14:55:47.482Z"
   },
   {
    "duration": 13,
    "start_time": "2022-02-20T14:55:54.570Z"
   },
   {
    "duration": 10,
    "start_time": "2022-02-20T14:55:54.586Z"
   },
   {
    "duration": 4,
    "start_time": "2022-02-20T14:56:15.477Z"
   },
   {
    "duration": 2967,
    "start_time": "2022-02-20T14:56:17.462Z"
   },
   {
    "duration": 8,
    "start_time": "2022-02-20T14:56:20.432Z"
   },
   {
    "duration": 18,
    "start_time": "2022-02-20T14:56:26.133Z"
   },
   {
    "duration": 28,
    "start_time": "2022-02-20T14:56:28.526Z"
   },
   {
    "duration": 357,
    "start_time": "2022-02-20T14:56:29.181Z"
   },
   {
    "duration": 35,
    "start_time": "2022-02-20T14:56:29.975Z"
   },
   {
    "duration": 50,
    "start_time": "2022-02-20T14:56:30.854Z"
   },
   {
    "duration": 347,
    "start_time": "2022-02-20T14:56:31.091Z"
   },
   {
    "duration": 5,
    "start_time": "2022-02-20T14:56:31.677Z"
   },
   {
    "duration": 5,
    "start_time": "2022-02-20T14:56:32.234Z"
   },
   {
    "duration": 16,
    "start_time": "2022-02-20T14:56:32.463Z"
   },
   {
    "duration": 29,
    "start_time": "2022-02-20T14:56:32.677Z"
   },
   {
    "duration": 48,
    "start_time": "2022-02-20T14:56:32.893Z"
   },
   {
    "duration": 352,
    "start_time": "2022-02-20T14:56:34.218Z"
   },
   {
    "duration": 36,
    "start_time": "2022-02-20T14:56:34.574Z"
   },
   {
    "duration": 17,
    "start_time": "2022-02-20T14:56:34.675Z"
   },
   {
    "duration": 2017,
    "start_time": "2022-02-20T14:56:35.654Z"
   },
   {
    "duration": 87,
    "start_time": "2022-02-20T14:56:37.674Z"
   },
   {
    "duration": 188,
    "start_time": "2022-02-20T14:56:37.767Z"
   },
   {
    "duration": 19,
    "start_time": "2022-02-20T14:56:37.958Z"
   },
   {
    "duration": 86,
    "start_time": "2022-02-20T14:56:38.136Z"
   },
   {
    "duration": 1642,
    "start_time": "2022-02-20T14:56:38.922Z"
   },
   {
    "duration": 123,
    "start_time": "2022-02-20T14:56:40.567Z"
   },
   {
    "duration": 102,
    "start_time": "2022-02-20T14:56:40.693Z"
   },
   {
    "duration": 103,
    "start_time": "2022-02-20T14:56:40.798Z"
   },
   {
    "duration": 4988,
    "start_time": "2022-02-20T14:56:40.904Z"
   },
   {
    "duration": 20,
    "start_time": "2022-02-20T14:56:45.895Z"
   },
   {
    "duration": 5,
    "start_time": "2022-02-20T14:56:45.918Z"
   },
   {
    "duration": 40,
    "start_time": "2022-02-20T14:56:45.926Z"
   },
   {
    "duration": 4,
    "start_time": "2022-02-20T14:56:55.919Z"
   },
   {
    "duration": 12,
    "start_time": "2022-02-20T14:56:57.582Z"
   },
   {
    "duration": 52,
    "start_time": "2022-02-20T14:57:08.083Z"
   },
   {
    "duration": 8,
    "start_time": "2022-02-20T14:57:11.594Z"
   },
   {
    "duration": 6,
    "start_time": "2022-02-20T14:57:19.617Z"
   },
   {
    "duration": 1235,
    "start_time": "2022-02-21T07:14:31.299Z"
   },
   {
    "duration": 3,
    "start_time": "2022-02-21T07:14:32.536Z"
   },
   {
    "duration": 818,
    "start_time": "2022-02-21T07:14:32.541Z"
   },
   {
    "duration": 21,
    "start_time": "2022-02-21T07:14:33.361Z"
   },
   {
    "duration": 20,
    "start_time": "2022-02-21T07:14:33.384Z"
   },
   {
    "duration": 46,
    "start_time": "2022-02-21T07:14:33.405Z"
   },
   {
    "duration": 14,
    "start_time": "2022-02-21T07:14:33.453Z"
   },
   {
    "duration": 27,
    "start_time": "2022-02-21T07:14:33.469Z"
   },
   {
    "duration": 2,
    "start_time": "2022-02-21T07:14:33.498Z"
   },
   {
    "duration": 8,
    "start_time": "2022-02-21T07:14:33.501Z"
   },
   {
    "duration": 68,
    "start_time": "2022-02-21T07:14:33.904Z"
   },
   {
    "duration": 34,
    "start_time": "2022-02-21T07:14:34.131Z"
   },
   {
    "duration": 39,
    "start_time": "2022-02-21T07:14:34.676Z"
   },
   {
    "duration": 96,
    "start_time": "2022-02-21T07:14:35.027Z"
   },
   {
    "duration": 460,
    "start_time": "2022-02-21T07:14:35.376Z"
   },
   {
    "duration": 6,
    "start_time": "2022-02-21T07:14:35.837Z"
   },
   {
    "duration": 260,
    "start_time": "2022-02-21T07:14:36.926Z"
   },
   {
    "duration": 192,
    "start_time": "2022-02-21T07:14:38.213Z"
   },
   {
    "duration": 226,
    "start_time": "2022-02-21T07:14:38.446Z"
   },
   {
    "duration": 247,
    "start_time": "2022-02-21T07:14:39.323Z"
   },
   {
    "duration": 166,
    "start_time": "2022-02-21T07:14:40.494Z"
   },
   {
    "duration": 26,
    "start_time": "2022-02-21T07:14:42.205Z"
   },
   {
    "duration": 185,
    "start_time": "2022-02-21T07:14:43.767Z"
   },
   {
    "duration": 6,
    "start_time": "2022-02-21T07:14:45.262Z"
   },
   {
    "duration": 14,
    "start_time": "2022-02-21T07:14:45.548Z"
   },
   {
    "duration": 23,
    "start_time": "2022-02-21T07:14:46.237Z"
   },
   {
    "duration": 4,
    "start_time": "2022-02-21T07:14:47.990Z"
   },
   {
    "duration": 3,
    "start_time": "2022-02-21T07:14:48.290Z"
   },
   {
    "duration": 3,
    "start_time": "2022-02-21T07:14:48.614Z"
   },
   {
    "duration": 28,
    "start_time": "2022-02-21T07:14:48.903Z"
   },
   {
    "duration": 232,
    "start_time": "2022-02-21T07:14:49.910Z"
   },
   {
    "duration": 341,
    "start_time": "2022-02-21T07:14:50.871Z"
   },
   {
    "duration": 264,
    "start_time": "2022-02-21T07:14:51.335Z"
   },
   {
    "duration": 237,
    "start_time": "2022-02-21T07:14:51.715Z"
   },
   {
    "duration": 177,
    "start_time": "2022-02-21T07:14:52.293Z"
   },
   {
    "duration": 246,
    "start_time": "2022-02-21T07:14:52.847Z"
   },
   {
    "duration": 128,
    "start_time": "2022-02-21T07:14:53.347Z"
   },
   {
    "duration": 242,
    "start_time": "2022-02-21T07:14:53.794Z"
   },
   {
    "duration": 253,
    "start_time": "2022-02-21T07:14:54.358Z"
   },
   {
    "duration": 320,
    "start_time": "2022-02-21T07:14:54.872Z"
   },
   {
    "duration": 3,
    "start_time": "2022-02-21T07:14:56.119Z"
   },
   {
    "duration": 31,
    "start_time": "2022-02-21T07:14:57.757Z"
   },
   {
    "duration": 165,
    "start_time": "2022-02-21T07:14:58.350Z"
   },
   {
    "duration": 241,
    "start_time": "2022-02-21T07:14:58.918Z"
   },
   {
    "duration": 204,
    "start_time": "2022-02-21T07:14:59.599Z"
   },
   {
    "duration": 6,
    "start_time": "2022-02-21T07:15:00.584Z"
   },
   {
    "duration": 36,
    "start_time": "2022-02-21T07:15:05.421Z"
   },
   {
    "duration": 183,
    "start_time": "2022-02-21T07:15:05.775Z"
   },
   {
    "duration": 280,
    "start_time": "2022-02-21T07:15:06.226Z"
   },
   {
    "duration": 13,
    "start_time": "2022-02-21T07:15:06.730Z"
   },
   {
    "duration": 23,
    "start_time": "2022-02-21T07:15:07.175Z"
   },
   {
    "duration": 251,
    "start_time": "2022-02-21T07:15:08.286Z"
   },
   {
    "duration": 17,
    "start_time": "2022-02-21T07:15:09.903Z"
   },
   {
    "duration": 52,
    "start_time": "2022-02-21T07:15:10.281Z"
   },
   {
    "duration": 5,
    "start_time": "2022-02-21T07:15:25.402Z"
   },
   {
    "duration": 67,
    "start_time": "2022-02-21T07:15:26.048Z"
   },
   {
    "duration": 3,
    "start_time": "2022-02-21T07:15:26.566Z"
   },
   {
    "duration": 150,
    "start_time": "2022-02-21T07:15:26.874Z"
   },
   {
    "duration": 6,
    "start_time": "2022-02-21T07:15:27.186Z"
   },
   {
    "duration": 4,
    "start_time": "2022-02-21T07:15:27.504Z"
   },
   {
    "duration": 1597,
    "start_time": "2022-02-21T07:15:29.489Z"
   },
   {
    "duration": 1599,
    "start_time": "2022-02-21T07:15:31.088Z"
   },
   {
    "duration": 3,
    "start_time": "2022-02-21T07:15:32.689Z"
   },
   {
    "duration": 2462,
    "start_time": "2022-02-21T07:15:33.037Z"
   },
   {
    "duration": 5,
    "start_time": "2022-02-21T07:15:35.501Z"
   },
   {
    "duration": 22,
    "start_time": "2022-02-21T07:15:35.509Z"
   },
   {
    "duration": 77,
    "start_time": "2022-02-21T07:15:39.370Z"
   },
   {
    "duration": 4,
    "start_time": "2022-02-21T07:15:39.654Z"
   },
   {
    "duration": 1539,
    "start_time": "2022-02-21T07:15:40.559Z"
   },
   {
    "duration": 4,
    "start_time": "2022-02-21T07:15:42.100Z"
   },
   {
    "duration": 12,
    "start_time": "2022-02-21T07:15:45.926Z"
   },
   {
    "duration": 17,
    "start_time": "2022-02-21T07:15:57.767Z"
   },
   {
    "duration": 254,
    "start_time": "2022-02-21T07:15:58.286Z"
   },
   {
    "duration": 19,
    "start_time": "2022-02-21T07:15:58.770Z"
   },
   {
    "duration": 39,
    "start_time": "2022-02-21T07:16:04.263Z"
   },
   {
    "duration": 197,
    "start_time": "2022-02-21T07:16:04.513Z"
   },
   {
    "duration": 4,
    "start_time": "2022-02-21T07:16:04.844Z"
   },
   {
    "duration": 4,
    "start_time": "2022-02-21T07:16:05.061Z"
   },
   {
    "duration": 10,
    "start_time": "2022-02-21T07:16:05.479Z"
   },
   {
    "duration": 15,
    "start_time": "2022-02-21T07:16:05.764Z"
   },
   {
    "duration": 41,
    "start_time": "2022-02-21T07:16:06.125Z"
   },
   {
    "duration": 182,
    "start_time": "2022-02-21T07:16:07.509Z"
   },
   {
    "duration": 35,
    "start_time": "2022-02-21T07:16:16.414Z"
   },
   {
    "duration": 14,
    "start_time": "2022-02-21T07:16:17.007Z"
   },
   {
    "duration": 1897,
    "start_time": "2022-02-21T07:16:18.439Z"
   },
   {
    "duration": 94,
    "start_time": "2022-02-21T07:16:20.338Z"
   },
   {
    "duration": 249,
    "start_time": "2022-02-21T07:16:20.435Z"
   },
   {
    "duration": 10,
    "start_time": "2022-02-21T07:16:20.686Z"
   },
   {
    "duration": 57,
    "start_time": "2022-02-21T07:16:20.926Z"
   },
   {
    "duration": 806,
    "start_time": "2022-02-21T07:16:25.093Z"
   },
   {
    "duration": 69,
    "start_time": "2022-02-21T07:16:31.542Z"
   },
   {
    "duration": 55,
    "start_time": "2022-02-21T07:16:31.613Z"
   },
   {
    "duration": 75,
    "start_time": "2022-02-21T07:16:31.670Z"
   },
   {
    "duration": 2494,
    "start_time": "2022-02-21T07:16:31.747Z"
   },
   {
    "duration": 14,
    "start_time": "2022-02-21T07:16:34.243Z"
   },
   {
    "duration": 4,
    "start_time": "2022-02-21T07:16:34.259Z"
   },
   {
    "duration": 8,
    "start_time": "2022-02-21T07:16:34.264Z"
   },
   {
    "duration": 3,
    "start_time": "2022-02-21T07:16:37.199Z"
   },
   {
    "duration": 9,
    "start_time": "2022-02-21T07:16:37.671Z"
   },
   {
    "duration": 30,
    "start_time": "2022-02-21T07:16:39.719Z"
   },
   {
    "duration": 5,
    "start_time": "2022-02-21T07:16:42.966Z"
   },
   {
    "duration": 4,
    "start_time": "2022-02-21T07:16:43.643Z"
   },
   {
    "duration": 916,
    "start_time": "2022-02-21T07:16:54.670Z"
   },
   {
    "duration": 2197,
    "start_time": "2022-02-21T07:18:21.262Z"
   },
   {
    "duration": 605,
    "start_time": "2022-02-21T07:18:44.953Z"
   },
   {
    "duration": 2,
    "start_time": "2022-02-21T07:19:26.421Z"
   },
   {
    "duration": 597,
    "start_time": "2022-02-21T07:19:53.761Z"
   },
   {
    "duration": 321,
    "start_time": "2022-02-21T07:21:38.267Z"
   },
   {
    "duration": 400,
    "start_time": "2022-02-21T07:21:45.484Z"
   },
   {
    "duration": 6,
    "start_time": "2022-02-21T07:21:56.203Z"
   },
   {
    "duration": 129,
    "start_time": "2022-02-21T07:22:32.081Z"
   },
   {
    "duration": 9,
    "start_time": "2022-02-21T15:27:24.200Z"
   },
   {
    "duration": 3,
    "start_time": "2022-02-21T15:27:24.352Z"
   },
   {
    "duration": 996,
    "start_time": "2022-02-21T15:27:24.502Z"
   },
   {
    "duration": 32,
    "start_time": "2022-02-21T15:27:25.500Z"
   },
   {
    "duration": 30,
    "start_time": "2022-02-21T15:27:25.535Z"
   },
   {
    "duration": 28,
    "start_time": "2022-02-21T15:27:25.567Z"
   },
   {
    "duration": 46,
    "start_time": "2022-02-21T15:27:25.597Z"
   },
   {
    "duration": 26,
    "start_time": "2022-02-21T15:27:25.645Z"
   },
   {
    "duration": 3,
    "start_time": "2022-02-21T15:27:25.673Z"
   },
   {
    "duration": 6,
    "start_time": "2022-02-21T15:27:25.679Z"
   },
   {
    "duration": 63,
    "start_time": "2022-02-21T15:27:26.033Z"
   },
   {
    "duration": 22,
    "start_time": "2022-02-21T15:27:26.185Z"
   },
   {
    "duration": 44,
    "start_time": "2022-02-21T15:27:26.364Z"
   },
   {
    "duration": 90,
    "start_time": "2022-02-21T15:27:26.458Z"
   },
   {
    "duration": 471,
    "start_time": "2022-02-21T15:27:26.591Z"
   },
   {
    "duration": 6,
    "start_time": "2022-02-21T15:27:27.064Z"
   },
   {
    "duration": 289,
    "start_time": "2022-02-21T15:27:27.072Z"
   },
   {
    "duration": 207,
    "start_time": "2022-02-21T15:27:27.425Z"
   },
   {
    "duration": 235,
    "start_time": "2022-02-21T15:27:27.634Z"
   },
   {
    "duration": 185,
    "start_time": "2022-02-21T15:27:27.891Z"
   },
   {
    "duration": 194,
    "start_time": "2022-02-21T15:27:28.078Z"
   },
   {
    "duration": 28,
    "start_time": "2022-02-21T15:27:28.540Z"
   },
   {
    "duration": 192,
    "start_time": "2022-02-21T15:27:28.705Z"
   },
   {
    "duration": 6,
    "start_time": "2022-02-21T15:27:29.196Z"
   },
   {
    "duration": 15,
    "start_time": "2022-02-21T15:27:29.373Z"
   },
   {
    "duration": 20,
    "start_time": "2022-02-21T15:27:29.536Z"
   },
   {
    "duration": 4,
    "start_time": "2022-02-21T15:27:30.024Z"
   },
   {
    "duration": 3,
    "start_time": "2022-02-21T15:27:30.353Z"
   },
   {
    "duration": 2,
    "start_time": "2022-02-21T15:27:30.520Z"
   },
   {
    "duration": 28,
    "start_time": "2022-02-21T15:27:30.690Z"
   },
   {
    "duration": 238,
    "start_time": "2022-02-21T15:27:30.862Z"
   },
   {
    "duration": 362,
    "start_time": "2022-02-21T15:27:31.102Z"
   },
   {
    "duration": 291,
    "start_time": "2022-02-21T15:27:31.466Z"
   },
   {
    "duration": 264,
    "start_time": "2022-02-21T15:27:31.759Z"
   },
   {
    "duration": 191,
    "start_time": "2022-02-21T15:27:32.024Z"
   },
   {
    "duration": 266,
    "start_time": "2022-02-21T15:27:32.217Z"
   },
   {
    "duration": 147,
    "start_time": "2022-02-21T15:27:32.485Z"
   },
   {
    "duration": 258,
    "start_time": "2022-02-21T15:27:32.634Z"
   },
   {
    "duration": 204,
    "start_time": "2022-02-21T15:27:32.894Z"
   },
   {
    "duration": 336,
    "start_time": "2022-02-21T15:27:33.099Z"
   },
   {
    "duration": 4,
    "start_time": "2022-02-21T15:27:33.438Z"
   },
   {
    "duration": 34,
    "start_time": "2022-02-21T15:27:33.444Z"
   },
   {
    "duration": 193,
    "start_time": "2022-02-21T15:27:33.480Z"
   },
   {
    "duration": 259,
    "start_time": "2022-02-21T15:27:33.674Z"
   },
   {
    "duration": 231,
    "start_time": "2022-02-21T15:27:33.936Z"
   },
   {
    "duration": 6,
    "start_time": "2022-02-21T15:27:34.169Z"
   },
   {
    "duration": 34,
    "start_time": "2022-02-21T15:27:34.217Z"
   },
   {
    "duration": 185,
    "start_time": "2022-02-21T15:27:34.353Z"
   },
   {
    "duration": 296,
    "start_time": "2022-02-21T15:27:34.540Z"
   },
   {
    "duration": 14,
    "start_time": "2022-02-21T15:27:34.838Z"
   },
   {
    "duration": 25,
    "start_time": "2022-02-21T15:27:34.854Z"
   },
   {
    "duration": 274,
    "start_time": "2022-02-21T15:27:35.089Z"
   },
   {
    "duration": 21,
    "start_time": "2022-02-21T15:27:35.366Z"
   },
   {
    "duration": 70,
    "start_time": "2022-02-21T15:27:35.389Z"
   },
   {
    "duration": 6,
    "start_time": "2022-02-21T15:27:36.408Z"
   },
   {
    "duration": 71,
    "start_time": "2022-02-21T15:27:36.567Z"
   },
   {
    "duration": 3,
    "start_time": "2022-02-21T15:27:36.709Z"
   },
   {
    "duration": 155,
    "start_time": "2022-02-21T15:27:36.881Z"
   },
   {
    "duration": 6,
    "start_time": "2022-02-21T15:27:37.038Z"
   },
   {
    "duration": 4,
    "start_time": "2022-02-21T15:27:37.187Z"
   },
   {
    "duration": 1689,
    "start_time": "2022-02-21T15:27:37.667Z"
   },
   {
    "duration": 1798,
    "start_time": "2022-02-21T15:27:39.358Z"
   },
   {
    "duration": 4,
    "start_time": "2022-02-21T15:27:41.158Z"
   },
   {
    "duration": 3405,
    "start_time": "2022-02-21T15:27:41.164Z"
   },
   {
    "duration": 5,
    "start_time": "2022-02-21T15:27:44.571Z"
   },
   {
    "duration": 15,
    "start_time": "2022-02-21T15:27:44.579Z"
   },
   {
    "duration": 98,
    "start_time": "2022-02-21T15:27:44.596Z"
   },
   {
    "duration": 3,
    "start_time": "2022-02-21T15:27:44.696Z"
   },
   {
    "duration": 1517,
    "start_time": "2022-02-21T15:27:44.701Z"
   },
   {
    "duration": 12,
    "start_time": "2022-02-21T15:27:46.219Z"
   },
   {
    "duration": 16,
    "start_time": "2022-02-21T15:27:46.232Z"
   },
   {
    "duration": 20,
    "start_time": "2022-02-21T15:27:46.252Z"
   },
   {
    "duration": 282,
    "start_time": "2022-02-21T15:27:46.274Z"
   },
   {
    "duration": 19,
    "start_time": "2022-02-21T15:27:46.558Z"
   },
   {
    "duration": 57,
    "start_time": "2022-02-21T15:27:46.579Z"
   },
   {
    "duration": 226,
    "start_time": "2022-02-21T15:27:46.638Z"
   },
   {
    "duration": 4,
    "start_time": "2022-02-21T15:27:46.867Z"
   },
   {
    "duration": 4,
    "start_time": "2022-02-21T15:27:47.240Z"
   },
   {
    "duration": 9,
    "start_time": "2022-02-21T15:27:47.644Z"
   },
   {
    "duration": 18,
    "start_time": "2022-02-21T15:27:48.066Z"
   },
   {
    "duration": 32,
    "start_time": "2022-02-21T15:27:48.388Z"
   },
   {
    "duration": 438,
    "start_time": "2022-02-21T15:27:49.130Z"
   },
   {
    "duration": 37,
    "start_time": "2022-02-21T15:27:49.571Z"
   },
   {
    "duration": 18,
    "start_time": "2022-02-21T15:27:49.920Z"
   },
   {
    "duration": 3365,
    "start_time": "2022-02-21T15:27:50.866Z"
   },
   {
    "duration": 8,
    "start_time": "2022-02-21T15:27:54.233Z"
   },
   {
    "duration": 249,
    "start_time": "2022-02-21T15:27:54.243Z"
   },
   {
    "duration": 11,
    "start_time": "2022-02-21T15:27:54.495Z"
   },
   {
    "duration": 75,
    "start_time": "2022-02-21T15:27:54.508Z"
   },
   {
    "duration": 1006,
    "start_time": "2022-02-21T15:27:54.585Z"
   },
   {
    "duration": 95,
    "start_time": "2022-02-21T15:27:55.593Z"
   },
   {
    "duration": 87,
    "start_time": "2022-02-21T15:27:55.691Z"
   },
   {
    "duration": 76,
    "start_time": "2022-02-21T15:27:55.781Z"
   },
   {
    "duration": 2644,
    "start_time": "2022-02-21T15:27:55.909Z"
   },
   {
    "duration": 18,
    "start_time": "2022-02-21T15:27:58.555Z"
   },
   {
    "duration": 6,
    "start_time": "2022-02-21T15:27:58.575Z"
   },
   {
    "duration": 6,
    "start_time": "2022-02-21T15:27:58.583Z"
   },
   {
    "duration": 41,
    "start_time": "2022-02-21T15:27:58.591Z"
   },
   {
    "duration": 11,
    "start_time": "2022-02-21T15:27:58.634Z"
   },
   {
    "duration": 54,
    "start_time": "2022-02-21T15:27:58.647Z"
   },
   {
    "duration": 3,
    "start_time": "2022-02-21T15:27:59.456Z"
   },
   {
    "duration": 543,
    "start_time": "2022-02-21T15:27:59.848Z"
   },
   {
    "duration": 9,
    "start_time": "2022-02-21T15:34:30.721Z"
   },
   {
    "duration": 14,
    "start_time": "2022-02-21T15:35:03.840Z"
   },
   {
    "duration": 1331,
    "start_time": "2022-02-21T15:43:17.609Z"
   },
   {
    "duration": 4,
    "start_time": "2022-02-21T15:43:18.942Z"
   },
   {
    "duration": 2875,
    "start_time": "2022-02-21T15:43:18.949Z"
   },
   {
    "duration": 27,
    "start_time": "2022-02-21T15:43:21.826Z"
   },
   {
    "duration": 36,
    "start_time": "2022-02-21T15:43:21.855Z"
   },
   {
    "duration": 41,
    "start_time": "2022-02-21T15:43:21.892Z"
   },
   {
    "duration": 18,
    "start_time": "2022-02-21T15:43:21.934Z"
   },
   {
    "duration": 31,
    "start_time": "2022-02-21T15:43:21.970Z"
   },
   {
    "duration": 3,
    "start_time": "2022-02-21T15:43:22.004Z"
   },
   {
    "duration": 8,
    "start_time": "2022-02-21T15:43:22.009Z"
   },
   {
    "duration": 102,
    "start_time": "2022-02-21T15:43:22.019Z"
   },
   {
    "duration": 46,
    "start_time": "2022-02-21T15:43:22.123Z"
   },
   {
    "duration": 45,
    "start_time": "2022-02-21T15:43:22.171Z"
   },
   {
    "duration": 123,
    "start_time": "2022-02-21T15:43:22.218Z"
   },
   {
    "duration": 619,
    "start_time": "2022-02-21T15:43:22.343Z"
   },
   {
    "duration": 7,
    "start_time": "2022-02-21T15:43:22.969Z"
   },
   {
    "duration": 344,
    "start_time": "2022-02-21T15:43:22.979Z"
   },
   {
    "duration": 256,
    "start_time": "2022-02-21T15:43:23.325Z"
   },
   {
    "duration": 363,
    "start_time": "2022-02-21T15:43:23.583Z"
   },
   {
    "duration": 238,
    "start_time": "2022-02-21T15:43:23.948Z"
   },
   {
    "duration": 230,
    "start_time": "2022-02-21T15:43:24.189Z"
   },
   {
    "duration": 30,
    "start_time": "2022-02-21T15:43:24.421Z"
   },
   {
    "duration": 263,
    "start_time": "2022-02-21T15:43:24.469Z"
   },
   {
    "duration": 8,
    "start_time": "2022-02-21T15:43:24.734Z"
   },
   {
    "duration": 38,
    "start_time": "2022-02-21T15:43:24.745Z"
   },
   {
    "duration": 31,
    "start_time": "2022-02-21T15:43:24.785Z"
   },
   {
    "duration": 6,
    "start_time": "2022-02-21T15:43:24.818Z"
   },
   {
    "duration": 8,
    "start_time": "2022-02-21T15:43:24.826Z"
   },
   {
    "duration": 14,
    "start_time": "2022-02-21T15:43:24.836Z"
   },
   {
    "duration": 48,
    "start_time": "2022-02-21T15:43:24.852Z"
   },
   {
    "duration": 337,
    "start_time": "2022-02-21T15:43:24.902Z"
   },
   {
    "duration": 465,
    "start_time": "2022-02-21T15:43:25.241Z"
   },
   {
    "duration": 227,
    "start_time": "2022-02-21T15:43:25.709Z"
   },
   {
    "duration": 333,
    "start_time": "2022-02-21T15:43:25.939Z"
   },
   {
    "duration": 251,
    "start_time": "2022-02-21T15:43:26.274Z"
   },
   {
    "duration": 352,
    "start_time": "2022-02-21T15:43:26.529Z"
   },
   {
    "duration": 193,
    "start_time": "2022-02-21T15:43:26.884Z"
   },
   {
    "duration": 400,
    "start_time": "2022-02-21T15:43:27.079Z"
   },
   {
    "duration": 255,
    "start_time": "2022-02-21T15:43:27.481Z"
   },
   {
    "duration": 438,
    "start_time": "2022-02-21T15:43:27.739Z"
   },
   {
    "duration": 4,
    "start_time": "2022-02-21T15:43:28.179Z"
   },
   {
    "duration": 52,
    "start_time": "2022-02-21T15:43:28.184Z"
   },
   {
    "duration": 225,
    "start_time": "2022-02-21T15:43:28.238Z"
   },
   {
    "duration": 329,
    "start_time": "2022-02-21T15:43:28.465Z"
   },
   {
    "duration": 295,
    "start_time": "2022-02-21T15:43:28.796Z"
   },
   {
    "duration": 8,
    "start_time": "2022-02-21T15:43:29.093Z"
   },
   {
    "duration": 44,
    "start_time": "2022-02-21T15:43:29.103Z"
   },
   {
    "duration": 285,
    "start_time": "2022-02-21T15:43:29.150Z"
   },
   {
    "duration": 377,
    "start_time": "2022-02-21T15:43:29.438Z"
   },
   {
    "duration": 16,
    "start_time": "2022-02-21T15:43:29.818Z"
   },
   {
    "duration": 47,
    "start_time": "2022-02-21T15:43:29.836Z"
   },
   {
    "duration": 349,
    "start_time": "2022-02-21T15:43:29.885Z"
   },
   {
    "duration": 32,
    "start_time": "2022-02-21T15:43:30.237Z"
   },
   {
    "duration": 62,
    "start_time": "2022-02-21T15:43:30.271Z"
   },
   {
    "duration": 6,
    "start_time": "2022-02-21T15:43:30.335Z"
   },
   {
    "duration": 100,
    "start_time": "2022-02-21T15:43:30.344Z"
   },
   {
    "duration": 4,
    "start_time": "2022-02-21T15:43:30.446Z"
   },
   {
    "duration": 188,
    "start_time": "2022-02-21T15:43:30.452Z"
   },
   {
    "duration": 7,
    "start_time": "2022-02-21T15:43:30.642Z"
   },
   {
    "duration": 20,
    "start_time": "2022-02-21T15:43:30.651Z"
   },
   {
    "duration": 1994,
    "start_time": "2022-02-21T15:43:30.673Z"
   },
   {
    "duration": 1944,
    "start_time": "2022-02-21T15:43:32.669Z"
   },
   {
    "duration": 3,
    "start_time": "2022-02-21T15:43:34.616Z"
   },
   {
    "duration": 2878,
    "start_time": "2022-02-21T15:43:34.622Z"
   },
   {
    "duration": 4,
    "start_time": "2022-02-21T15:43:37.502Z"
   },
   {
    "duration": 9,
    "start_time": "2022-02-21T15:43:37.508Z"
   },
   {
    "duration": 78,
    "start_time": "2022-02-21T15:43:37.519Z"
   },
   {
    "duration": 3,
    "start_time": "2022-02-21T15:43:37.599Z"
   },
   {
    "duration": 1800,
    "start_time": "2022-02-21T15:43:37.605Z"
   },
   {
    "duration": 8,
    "start_time": "2022-02-21T15:43:39.407Z"
   },
   {
    "duration": 15,
    "start_time": "2022-02-21T15:43:39.417Z"
   },
   {
    "duration": 47,
    "start_time": "2022-02-21T15:43:39.435Z"
   },
   {
    "duration": 325,
    "start_time": "2022-02-21T15:43:39.484Z"
   },
   {
    "duration": 26,
    "start_time": "2022-02-21T15:43:39.811Z"
   },
   {
    "duration": 63,
    "start_time": "2022-02-21T15:43:39.840Z"
   },
   {
    "duration": 321,
    "start_time": "2022-02-21T15:43:39.906Z"
   },
   {
    "duration": 6,
    "start_time": "2022-02-21T15:43:40.229Z"
   },
   {
    "duration": 10,
    "start_time": "2022-02-21T15:43:40.237Z"
   },
   {
    "duration": 24,
    "start_time": "2022-02-21T15:43:40.249Z"
   },
   {
    "duration": 33,
    "start_time": "2022-02-21T15:43:40.275Z"
   },
   {
    "duration": 73,
    "start_time": "2022-02-21T15:43:40.310Z"
   },
   {
    "duration": 274,
    "start_time": "2022-02-21T15:43:40.385Z"
   },
   {
    "duration": 41,
    "start_time": "2022-02-21T15:43:40.661Z"
   },
   {
    "duration": 15,
    "start_time": "2022-02-21T15:43:40.704Z"
   },
   {
    "duration": 3553,
    "start_time": "2022-02-21T15:43:40.721Z"
   },
   {
    "duration": 98,
    "start_time": "2022-02-21T15:43:44.276Z"
   },
   {
    "duration": 197,
    "start_time": "2022-02-21T15:43:44.377Z"
   },
   {
    "duration": 12,
    "start_time": "2022-02-21T15:43:44.576Z"
   },
   {
    "duration": 66,
    "start_time": "2022-02-21T15:43:44.693Z"
   },
   {
    "duration": 1006,
    "start_time": "2022-02-21T15:43:44.769Z"
   },
   {
    "duration": 94,
    "start_time": "2022-02-21T15:43:45.777Z"
   },
   {
    "duration": 74,
    "start_time": "2022-02-21T15:43:45.873Z"
   },
   {
    "duration": 92,
    "start_time": "2022-02-21T15:43:45.949Z"
   },
   {
    "duration": 3096,
    "start_time": "2022-02-21T15:43:46.043Z"
   },
   {
    "duration": 17,
    "start_time": "2022-02-21T15:43:49.141Z"
   },
   {
    "duration": 4,
    "start_time": "2022-02-21T15:43:49.170Z"
   },
   {
    "duration": 18,
    "start_time": "2022-02-21T15:43:49.176Z"
   },
   {
    "duration": 3,
    "start_time": "2022-02-21T15:43:49.199Z"
   },
   {
    "duration": 10,
    "start_time": "2022-02-21T15:43:49.204Z"
   },
   {
    "duration": 62,
    "start_time": "2022-02-21T15:43:49.216Z"
   },
   {
    "duration": 3,
    "start_time": "2022-02-21T15:43:49.280Z"
   },
   {
    "duration": 448,
    "start_time": "2022-02-21T15:43:49.285Z"
   },
   {
    "duration": 16,
    "start_time": "2022-02-21T15:43:49.734Z"
   },
   {
    "duration": 72,
    "start_time": "2022-02-21T15:44:47.824Z"
   },
   {
    "duration": 4,
    "start_time": "2022-02-21T15:45:07.885Z"
   },
   {
    "duration": 60,
    "start_time": "2022-02-21T15:45:08.737Z"
   },
   {
    "duration": 57,
    "start_time": "2022-02-21T15:45:35.909Z"
   },
   {
    "duration": 6,
    "start_time": "2022-02-21T15:45:50.010Z"
   },
   {
    "duration": 1814,
    "start_time": "2022-02-21T15:45:55.949Z"
   },
   {
    "duration": 58,
    "start_time": "2022-02-21T15:46:02.338Z"
   },
   {
    "duration": 1796,
    "start_time": "2022-02-21T15:46:14.005Z"
   },
   {
    "duration": 5,
    "start_time": "2022-02-21T15:46:15.803Z"
   },
   {
    "duration": 18,
    "start_time": "2022-02-21T15:46:34.406Z"
   },
   {
    "duration": 22,
    "start_time": "2022-02-21T15:46:35.484Z"
   },
   {
    "duration": 303,
    "start_time": "2022-02-21T15:46:35.844Z"
   },
   {
    "duration": 27,
    "start_time": "2022-02-21T15:46:36.209Z"
   },
   {
    "duration": 47,
    "start_time": "2022-02-21T15:46:37.006Z"
   },
   {
    "duration": 271,
    "start_time": "2022-02-21T15:46:37.172Z"
   },
   {
    "duration": 4,
    "start_time": "2022-02-21T15:46:37.446Z"
   },
   {
    "duration": 5,
    "start_time": "2022-02-21T15:46:37.599Z"
   },
   {
    "duration": 9,
    "start_time": "2022-02-21T15:46:37.866Z"
   },
   {
    "duration": 22,
    "start_time": "2022-02-21T15:46:38.200Z"
   },
   {
    "duration": 39,
    "start_time": "2022-02-21T15:46:38.480Z"
   },
   {
    "duration": 268,
    "start_time": "2022-02-21T15:46:39.048Z"
   },
   {
    "duration": 33,
    "start_time": "2022-02-21T15:46:39.319Z"
   },
   {
    "duration": 15,
    "start_time": "2022-02-21T15:46:39.482Z"
   },
   {
    "duration": 2186,
    "start_time": "2022-02-21T15:46:40.190Z"
   },
   {
    "duration": 91,
    "start_time": "2022-02-21T15:46:42.379Z"
   },
   {
    "duration": 169,
    "start_time": "2022-02-21T15:46:42.474Z"
   },
   {
    "duration": 12,
    "start_time": "2022-02-21T15:46:42.645Z"
   },
   {
    "duration": 74,
    "start_time": "2022-02-21T15:46:42.659Z"
   },
   {
    "duration": 961,
    "start_time": "2022-02-21T15:46:42.735Z"
   },
   {
    "duration": 87,
    "start_time": "2022-02-21T15:46:43.698Z"
   },
   {
    "duration": 68,
    "start_time": "2022-02-21T15:46:43.787Z"
   },
   {
    "duration": 72,
    "start_time": "2022-02-21T15:46:43.869Z"
   },
   {
    "duration": 2977,
    "start_time": "2022-02-21T15:46:43.943Z"
   },
   {
    "duration": 16,
    "start_time": "2022-02-21T15:46:46.923Z"
   },
   {
    "duration": 5,
    "start_time": "2022-02-21T15:46:46.941Z"
   },
   {
    "duration": 32,
    "start_time": "2022-02-21T15:46:46.948Z"
   },
   {
    "duration": 6,
    "start_time": "2022-02-21T15:46:46.982Z"
   },
   {
    "duration": 28,
    "start_time": "2022-02-21T15:46:46.989Z"
   },
   {
    "duration": 43,
    "start_time": "2022-02-21T15:46:47.019Z"
   },
   {
    "duration": 2,
    "start_time": "2022-02-21T15:46:47.065Z"
   },
   {
    "duration": 408,
    "start_time": "2022-02-21T15:46:47.546Z"
   },
   {
    "duration": 15,
    "start_time": "2022-02-21T15:46:49.836Z"
   },
   {
    "duration": 20,
    "start_time": "2022-02-21T15:49:22.701Z"
   },
   {
    "duration": 20,
    "start_time": "2022-02-21T15:50:38.709Z"
   },
   {
    "duration": 377,
    "start_time": "2022-02-21T15:55:25.820Z"
   },
   {
    "duration": 20,
    "start_time": "2022-02-21T15:55:30.239Z"
   },
   {
    "duration": 16,
    "start_time": "2022-02-21T15:55:50.862Z"
   },
   {
    "duration": 16,
    "start_time": "2022-02-21T15:56:03.485Z"
   },
   {
    "duration": 14,
    "start_time": "2022-02-21T15:56:30.943Z"
   },
   {
    "duration": 16,
    "start_time": "2022-02-21T15:56:38.767Z"
   },
   {
    "duration": 24,
    "start_time": "2022-02-21T15:57:20.264Z"
   },
   {
    "duration": 6,
    "start_time": "2022-02-21T15:57:42.083Z"
   },
   {
    "duration": 21,
    "start_time": "2022-02-21T15:57:52.914Z"
   },
   {
    "duration": 21,
    "start_time": "2022-02-21T15:58:15.223Z"
   },
   {
    "duration": 16,
    "start_time": "2022-02-21T15:58:20.251Z"
   },
   {
    "duration": 13,
    "start_time": "2022-02-21T16:00:31.141Z"
   },
   {
    "duration": 12,
    "start_time": "2022-02-21T16:00:41.490Z"
   },
   {
    "duration": 14,
    "start_time": "2022-02-21T16:01:12.487Z"
   },
   {
    "duration": 17,
    "start_time": "2022-02-21T16:01:18.009Z"
   },
   {
    "duration": 18,
    "start_time": "2022-02-21T16:02:03.940Z"
   },
   {
    "duration": 17,
    "start_time": "2022-02-21T16:02:13.712Z"
   },
   {
    "duration": 9,
    "start_time": "2022-02-21T17:05:35.226Z"
   },
   {
    "duration": 8,
    "start_time": "2022-02-21T17:05:46.296Z"
   },
   {
    "duration": 3,
    "start_time": "2022-02-21T17:05:46.489Z"
   },
   {
    "duration": 1718,
    "start_time": "2022-02-21T17:05:46.684Z"
   },
   {
    "duration": 21,
    "start_time": "2022-02-21T17:05:48.404Z"
   },
   {
    "duration": 42,
    "start_time": "2022-02-21T17:05:48.427Z"
   },
   {
    "duration": 24,
    "start_time": "2022-02-21T17:05:48.471Z"
   },
   {
    "duration": 23,
    "start_time": "2022-02-21T17:05:48.497Z"
   },
   {
    "duration": 23,
    "start_time": "2022-02-21T17:05:48.522Z"
   },
   {
    "duration": 2,
    "start_time": "2022-02-21T17:05:48.548Z"
   },
   {
    "duration": 3,
    "start_time": "2022-02-21T17:05:48.570Z"
   },
   {
    "duration": 68,
    "start_time": "2022-02-21T17:05:49.069Z"
   },
   {
    "duration": 24,
    "start_time": "2022-02-21T17:05:49.271Z"
   },
   {
    "duration": 45,
    "start_time": "2022-02-21T17:05:49.463Z"
   },
   {
    "duration": 106,
    "start_time": "2022-02-21T17:05:49.641Z"
   },
   {
    "duration": 695,
    "start_time": "2022-02-21T17:05:49.827Z"
   },
   {
    "duration": 6,
    "start_time": "2022-02-21T17:05:50.524Z"
   },
   {
    "duration": 339,
    "start_time": "2022-02-21T17:05:50.533Z"
   },
   {
    "duration": 236,
    "start_time": "2022-02-21T17:05:50.909Z"
   },
   {
    "duration": 283,
    "start_time": "2022-02-21T17:05:51.147Z"
   },
   {
    "duration": 218,
    "start_time": "2022-02-21T17:05:51.432Z"
   },
   {
    "duration": 224,
    "start_time": "2022-02-21T17:05:51.652Z"
   },
   {
    "duration": 29,
    "start_time": "2022-02-21T17:05:52.091Z"
   },
   {
    "duration": 226,
    "start_time": "2022-02-21T17:05:52.289Z"
   },
   {
    "duration": 7,
    "start_time": "2022-02-21T17:05:52.858Z"
   },
   {
    "duration": 16,
    "start_time": "2022-02-21T17:05:53.039Z"
   },
   {
    "duration": 24,
    "start_time": "2022-02-21T17:05:53.230Z"
   },
   {
    "duration": 4,
    "start_time": "2022-02-21T17:05:53.741Z"
   },
   {
    "duration": 4,
    "start_time": "2022-02-21T17:05:53.931Z"
   },
   {
    "duration": 3,
    "start_time": "2022-02-21T17:05:54.107Z"
   },
   {
    "duration": 33,
    "start_time": "2022-02-21T17:05:54.283Z"
   },
   {
    "duration": 289,
    "start_time": "2022-02-21T17:05:54.465Z"
   },
   {
    "duration": 429,
    "start_time": "2022-02-21T17:05:54.756Z"
   },
   {
    "duration": 240,
    "start_time": "2022-02-21T17:05:55.188Z"
   },
   {
    "duration": 310,
    "start_time": "2022-02-21T17:05:55.430Z"
   },
   {
    "duration": 236,
    "start_time": "2022-02-21T17:05:55.742Z"
   },
   {
    "duration": 307,
    "start_time": "2022-02-21T17:05:55.980Z"
   },
   {
    "duration": 164,
    "start_time": "2022-02-21T17:05:56.289Z"
   },
   {
    "duration": 306,
    "start_time": "2022-02-21T17:05:56.455Z"
   },
   {
    "duration": 242,
    "start_time": "2022-02-21T17:05:56.763Z"
   },
   {
    "duration": 400,
    "start_time": "2022-02-21T17:05:57.007Z"
   },
   {
    "duration": 3,
    "start_time": "2022-02-21T17:05:57.409Z"
   },
   {
    "duration": 72,
    "start_time": "2022-02-21T17:05:57.415Z"
   },
   {
    "duration": 221,
    "start_time": "2022-02-21T17:05:57.489Z"
   },
   {
    "duration": 462,
    "start_time": "2022-02-21T17:05:57.712Z"
   },
   {
    "duration": 277,
    "start_time": "2022-02-21T17:05:58.176Z"
   },
   {
    "duration": 17,
    "start_time": "2022-02-21T17:05:58.455Z"
   },
   {
    "duration": 36,
    "start_time": "2022-02-21T17:05:58.474Z"
   },
   {
    "duration": 249,
    "start_time": "2022-02-21T17:05:58.513Z"
   },
   {
    "duration": 344,
    "start_time": "2022-02-21T17:05:58.769Z"
   },
   {
    "duration": 15,
    "start_time": "2022-02-21T17:05:59.115Z"
   },
   {
    "duration": 38,
    "start_time": "2022-02-21T17:05:59.132Z"
   },
   {
    "duration": 330,
    "start_time": "2022-02-21T17:05:59.421Z"
   },
   {
    "duration": 21,
    "start_time": "2022-02-21T17:05:59.879Z"
   },
   {
    "duration": 52,
    "start_time": "2022-02-21T17:06:00.305Z"
   },
   {
    "duration": 5,
    "start_time": "2022-02-21T17:06:04.224Z"
   },
   {
    "duration": 80,
    "start_time": "2022-02-21T17:06:04.381Z"
   },
   {
    "duration": 3,
    "start_time": "2022-02-21T17:06:04.556Z"
   },
   {
    "duration": 159,
    "start_time": "2022-02-21T17:06:04.714Z"
   },
   {
    "duration": 6,
    "start_time": "2022-02-21T17:06:04.875Z"
   },
   {
    "duration": 5,
    "start_time": "2022-02-21T17:06:05.016Z"
   },
   {
    "duration": 1851,
    "start_time": "2022-02-21T17:06:05.328Z"
   },
   {
    "duration": 1837,
    "start_time": "2022-02-21T17:06:07.181Z"
   },
   {
    "duration": 4,
    "start_time": "2022-02-21T17:06:09.020Z"
   },
   {
    "duration": 2766,
    "start_time": "2022-02-21T17:06:09.026Z"
   },
   {
    "duration": 4,
    "start_time": "2022-02-21T17:06:11.794Z"
   },
   {
    "duration": 10,
    "start_time": "2022-02-21T17:06:11.800Z"
   },
   {
    "duration": 77,
    "start_time": "2022-02-21T17:06:11.813Z"
   },
   {
    "duration": 4,
    "start_time": "2022-02-21T17:06:11.893Z"
   },
   {
    "duration": 1696,
    "start_time": "2022-02-21T17:06:11.899Z"
   },
   {
    "duration": 7,
    "start_time": "2022-02-21T17:06:13.597Z"
   },
   {
    "duration": 13,
    "start_time": "2022-02-21T17:06:13.606Z"
   },
   {
    "duration": 22,
    "start_time": "2022-02-21T17:06:13.621Z"
   },
   {
    "duration": 288,
    "start_time": "2022-02-21T17:06:13.670Z"
   },
   {
    "duration": 27,
    "start_time": "2022-02-21T17:06:13.960Z"
   },
   {
    "duration": 44,
    "start_time": "2022-02-21T17:06:13.989Z"
   },
   {
    "duration": 284,
    "start_time": "2022-02-21T17:06:14.035Z"
   },
   {
    "duration": 4,
    "start_time": "2022-02-21T17:06:14.322Z"
   },
   {
    "duration": 7,
    "start_time": "2022-02-21T17:06:14.328Z"
   },
   {
    "duration": 13,
    "start_time": "2022-02-21T17:06:14.336Z"
   },
   {
    "duration": 20,
    "start_time": "2022-02-21T17:06:14.369Z"
   },
   {
    "duration": 34,
    "start_time": "2022-02-21T17:06:14.391Z"
   },
   {
    "duration": 249,
    "start_time": "2022-02-21T17:06:14.427Z"
   },
   {
    "duration": 30,
    "start_time": "2022-02-21T17:06:14.677Z"
   },
   {
    "duration": 15,
    "start_time": "2022-02-21T17:06:28.732Z"
   },
   {
    "duration": 2394,
    "start_time": "2022-02-21T17:06:29.777Z"
   },
   {
    "duration": 96,
    "start_time": "2022-02-21T17:06:32.174Z"
   },
   {
    "duration": 166,
    "start_time": "2022-02-21T17:06:32.273Z"
   },
   {
    "duration": 11,
    "start_time": "2022-02-21T17:06:32.441Z"
   },
   {
    "duration": 59,
    "start_time": "2022-02-21T17:06:39.021Z"
   },
   {
    "duration": 928,
    "start_time": "2022-02-21T17:06:39.877Z"
   },
   {
    "duration": 90,
    "start_time": "2022-02-21T17:06:40.807Z"
   },
   {
    "duration": 75,
    "start_time": "2022-02-21T17:06:40.899Z"
   },
   {
    "duration": 73,
    "start_time": "2022-02-21T17:06:40.976Z"
   },
   {
    "duration": 2909,
    "start_time": "2022-02-21T17:06:41.190Z"
   },
   {
    "duration": 17,
    "start_time": "2022-02-21T17:06:44.101Z"
   },
   {
    "duration": 5,
    "start_time": "2022-02-21T17:06:44.120Z"
   },
   {
    "duration": 11,
    "start_time": "2022-02-21T17:06:44.128Z"
   },
   {
    "duration": 28,
    "start_time": "2022-02-21T17:06:44.141Z"
   },
   {
    "duration": 9,
    "start_time": "2022-02-21T17:06:44.171Z"
   },
   {
    "duration": 40,
    "start_time": "2022-02-21T17:06:44.182Z"
   },
   {
    "duration": 2,
    "start_time": "2022-02-21T17:06:44.225Z"
   },
   {
    "duration": 423,
    "start_time": "2022-02-21T17:06:44.230Z"
   },
   {
    "duration": 8,
    "start_time": "2022-02-21T17:06:45.788Z"
   },
   {
    "duration": 13,
    "start_time": "2022-02-21T17:07:09.989Z"
   },
   {
    "duration": 15,
    "start_time": "2022-02-21T17:07:57.558Z"
   },
   {
    "duration": 12,
    "start_time": "2022-02-21T17:08:22.954Z"
   },
   {
    "duration": 89,
    "start_time": "2022-02-21T17:08:44.853Z"
   },
   {
    "duration": 13,
    "start_time": "2022-02-21T17:10:03.917Z"
   },
   {
    "duration": 4,
    "start_time": "2022-02-21T17:10:30.323Z"
   },
   {
    "duration": 260,
    "start_time": "2022-02-21T17:10:54.883Z"
   },
   {
    "duration": 12,
    "start_time": "2022-02-21T17:11:01.716Z"
   },
   {
    "duration": 4,
    "start_time": "2022-02-21T17:11:02.826Z"
   },
   {
    "duration": 14,
    "start_time": "2022-02-21T17:12:33.735Z"
   },
   {
    "duration": 4,
    "start_time": "2022-02-21T17:12:48.029Z"
   },
   {
    "duration": 12,
    "start_time": "2022-02-21T17:13:00.714Z"
   },
   {
    "duration": 4,
    "start_time": "2022-02-21T17:13:05.166Z"
   },
   {
    "duration": 12,
    "start_time": "2022-02-21T17:13:14.385Z"
   },
   {
    "duration": 3,
    "start_time": "2022-02-21T17:13:14.968Z"
   },
   {
    "duration": 12,
    "start_time": "2022-02-21T17:14:01.185Z"
   },
   {
    "duration": 4,
    "start_time": "2022-02-21T17:14:01.835Z"
   },
   {
    "duration": 12,
    "start_time": "2022-02-21T17:14:25.236Z"
   },
   {
    "duration": 4,
    "start_time": "2022-02-21T17:14:25.825Z"
   },
   {
    "duration": 4,
    "start_time": "2022-02-21T17:15:02.754Z"
   },
   {
    "duration": 4,
    "start_time": "2022-02-21T17:16:07.559Z"
   },
   {
    "duration": 4,
    "start_time": "2022-02-21T17:16:31.782Z"
   },
   {
    "duration": 11,
    "start_time": "2022-02-21T17:17:19.098Z"
   },
   {
    "duration": 12,
    "start_time": "2022-02-21T17:17:29.208Z"
   },
   {
    "duration": 4,
    "start_time": "2022-02-21T17:18:04.416Z"
   },
   {
    "duration": 4,
    "start_time": "2022-02-21T17:18:32.264Z"
   },
   {
    "duration": 4,
    "start_time": "2022-02-21T17:19:02.987Z"
   },
   {
    "duration": 4,
    "start_time": "2022-02-21T17:19:11.209Z"
   },
   {
    "duration": 4,
    "start_time": "2022-02-21T17:23:07.993Z"
   },
   {
    "duration": 3,
    "start_time": "2022-02-21T17:23:12.392Z"
   },
   {
    "duration": 10,
    "start_time": "2022-02-21T17:23:12.888Z"
   },
   {
    "duration": 4,
    "start_time": "2022-02-21T17:23:13.796Z"
   },
   {
    "duration": 12,
    "start_time": "2022-02-21T17:23:14.820Z"
   },
   {
    "duration": 4,
    "start_time": "2022-02-21T17:23:15.297Z"
   },
   {
    "duration": 12,
    "start_time": "2022-02-21T17:23:16.848Z"
   },
   {
    "duration": 3,
    "start_time": "2022-02-21T17:23:17.394Z"
   },
   {
    "duration": 1165,
    "start_time": "2022-02-22T05:25:56.025Z"
   },
   {
    "duration": 3,
    "start_time": "2022-02-22T05:25:58.778Z"
   },
   {
    "duration": 610,
    "start_time": "2022-02-22T05:25:58.783Z"
   },
   {
    "duration": 23,
    "start_time": "2022-02-22T05:25:59.395Z"
   },
   {
    "duration": 21,
    "start_time": "2022-02-22T05:25:59.419Z"
   },
   {
    "duration": 23,
    "start_time": "2022-02-22T05:25:59.460Z"
   },
   {
    "duration": 17,
    "start_time": "2022-02-22T05:25:59.630Z"
   },
   {
    "duration": 30,
    "start_time": "2022-02-22T05:25:59.863Z"
   },
   {
    "duration": 3,
    "start_time": "2022-02-22T05:26:00.038Z"
   },
   {
    "duration": 3,
    "start_time": "2022-02-22T05:26:00.179Z"
   },
   {
    "duration": 72,
    "start_time": "2022-02-22T05:26:01.310Z"
   },
   {
    "duration": 38,
    "start_time": "2022-02-22T05:26:01.494Z"
   },
   {
    "duration": 42,
    "start_time": "2022-02-22T05:26:01.679Z"
   },
   {
    "duration": 108,
    "start_time": "2022-02-22T05:26:01.857Z"
   },
   {
    "duration": 520,
    "start_time": "2022-02-22T05:26:02.074Z"
   },
   {
    "duration": 6,
    "start_time": "2022-02-22T05:26:02.597Z"
   },
   {
    "duration": 288,
    "start_time": "2022-02-22T05:26:02.971Z"
   },
   {
    "duration": 202,
    "start_time": "2022-02-22T05:26:03.538Z"
   },
   {
    "duration": 261,
    "start_time": "2022-02-22T05:26:03.743Z"
   },
   {
    "duration": 285,
    "start_time": "2022-02-22T05:26:04.007Z"
   },
   {
    "duration": 202,
    "start_time": "2022-02-22T05:26:04.294Z"
   },
   {
    "duration": 27,
    "start_time": "2022-02-22T05:26:05.227Z"
   },
   {
    "duration": 198,
    "start_time": "2022-02-22T05:26:05.644Z"
   },
   {
    "duration": 7,
    "start_time": "2022-02-22T05:26:06.242Z"
   },
   {
    "duration": 15,
    "start_time": "2022-02-22T05:26:06.432Z"
   },
   {
    "duration": 23,
    "start_time": "2022-02-22T05:26:06.636Z"
   },
   {
    "duration": 4,
    "start_time": "2022-02-22T05:26:07.197Z"
   },
   {
    "duration": 3,
    "start_time": "2022-02-22T05:26:07.374Z"
   },
   {
    "duration": 3,
    "start_time": "2022-02-22T05:26:07.557Z"
   },
   {
    "duration": 29,
    "start_time": "2022-02-22T05:26:07.753Z"
   },
   {
    "duration": 259,
    "start_time": "2022-02-22T05:26:07.942Z"
   },
   {
    "duration": 391,
    "start_time": "2022-02-22T05:26:08.203Z"
   },
   {
    "duration": 187,
    "start_time": "2022-02-22T05:26:08.596Z"
   },
   {
    "duration": 283,
    "start_time": "2022-02-22T05:26:08.785Z"
   },
   {
    "duration": 191,
    "start_time": "2022-02-22T05:26:09.070Z"
   },
   {
    "duration": 283,
    "start_time": "2022-02-22T05:26:09.391Z"
   },
   {
    "duration": 142,
    "start_time": "2022-02-22T05:26:09.839Z"
   },
   {
    "duration": 252,
    "start_time": "2022-02-22T05:26:10.031Z"
   },
   {
    "duration": 303,
    "start_time": "2022-02-22T05:26:10.285Z"
   },
   {
    "duration": 369,
    "start_time": "2022-02-22T05:26:10.591Z"
   },
   {
    "duration": 4,
    "start_time": "2022-02-22T05:26:10.962Z"
   },
   {
    "duration": 32,
    "start_time": "2022-02-22T05:26:11.120Z"
   },
   {
    "duration": 187,
    "start_time": "2022-02-22T05:26:11.320Z"
   },
   {
    "duration": 260,
    "start_time": "2022-02-22T05:26:11.519Z"
   },
   {
    "duration": 247,
    "start_time": "2022-02-22T05:26:11.781Z"
   },
   {
    "duration": 7,
    "start_time": "2022-02-22T05:26:12.030Z"
   },
   {
    "duration": 40,
    "start_time": "2022-02-22T05:26:12.446Z"
   },
   {
    "duration": 213,
    "start_time": "2022-02-22T05:26:12.653Z"
   },
   {
    "duration": 316,
    "start_time": "2022-02-22T05:26:12.868Z"
   },
   {
    "duration": 15,
    "start_time": "2022-02-22T05:26:13.187Z"
   },
   {
    "duration": 24,
    "start_time": "2022-02-22T05:26:13.211Z"
   },
   {
    "duration": 277,
    "start_time": "2022-02-22T05:26:13.631Z"
   },
   {
    "duration": 20,
    "start_time": "2022-02-22T05:26:13.910Z"
   },
   {
    "duration": 52,
    "start_time": "2022-02-22T05:26:14.061Z"
   },
   {
    "duration": 5,
    "start_time": "2022-02-22T05:26:23.526Z"
   },
   {
    "duration": 71,
    "start_time": "2022-02-22T05:26:24.612Z"
   },
   {
    "duration": 3,
    "start_time": "2022-02-22T05:26:25.217Z"
   },
   {
    "duration": 148,
    "start_time": "2022-02-22T05:26:25.470Z"
   },
   {
    "duration": 6,
    "start_time": "2022-02-22T05:26:25.745Z"
   },
   {
    "duration": 5,
    "start_time": "2022-02-22T05:26:26.163Z"
   },
   {
    "duration": 1622,
    "start_time": "2022-02-22T05:26:27.346Z"
   },
   {
    "duration": 1708,
    "start_time": "2022-02-22T05:26:28.970Z"
   },
   {
    "duration": 4,
    "start_time": "2022-02-22T05:26:30.680Z"
   },
   {
    "duration": 2419,
    "start_time": "2022-02-22T05:26:31.772Z"
   },
   {
    "duration": 4,
    "start_time": "2022-02-22T05:26:34.193Z"
   },
   {
    "duration": 9,
    "start_time": "2022-02-22T05:26:34.199Z"
   },
   {
    "duration": 77,
    "start_time": "2022-02-22T05:26:34.210Z"
   },
   {
    "duration": 4,
    "start_time": "2022-02-22T05:26:34.289Z"
   },
   {
    "duration": 1496,
    "start_time": "2022-02-22T05:26:34.294Z"
   },
   {
    "duration": 5,
    "start_time": "2022-02-22T05:26:35.792Z"
   },
   {
    "duration": 16,
    "start_time": "2022-02-22T05:26:37.480Z"
   },
   {
    "duration": 17,
    "start_time": "2022-02-22T05:26:41.491Z"
   },
   {
    "duration": 278,
    "start_time": "2022-02-22T05:26:42.012Z"
   },
   {
    "duration": 23,
    "start_time": "2022-02-22T05:26:42.292Z"
   },
   {
    "duration": 46,
    "start_time": "2022-02-22T05:26:43.180Z"
   },
   {
    "duration": 229,
    "start_time": "2022-02-22T05:26:43.555Z"
   },
   {
    "duration": 3,
    "start_time": "2022-02-22T05:26:43.786Z"
   },
   {
    "duration": 5,
    "start_time": "2022-02-22T05:26:44.099Z"
   },
   {
    "duration": 9,
    "start_time": "2022-02-22T05:26:44.277Z"
   },
   {
    "duration": 17,
    "start_time": "2022-02-22T05:26:44.460Z"
   },
   {
    "duration": 44,
    "start_time": "2022-02-22T05:26:44.642Z"
   },
   {
    "duration": 211,
    "start_time": "2022-02-22T05:26:45.007Z"
   },
   {
    "duration": 43,
    "start_time": "2022-02-22T05:26:45.220Z"
   },
   {
    "duration": 14,
    "start_time": "2022-02-22T05:26:45.373Z"
   },
   {
    "duration": 1890,
    "start_time": "2022-02-22T05:26:45.975Z"
   },
   {
    "duration": 94,
    "start_time": "2022-02-22T05:26:47.868Z"
   },
   {
    "duration": 229,
    "start_time": "2022-02-22T05:26:47.968Z"
   },
   {
    "duration": 10,
    "start_time": "2022-02-22T05:26:48.199Z"
   },
   {
    "duration": 70,
    "start_time": "2022-02-22T05:26:48.210Z"
   },
   {
    "duration": 777,
    "start_time": "2022-02-22T05:26:48.282Z"
   },
   {
    "duration": 70,
    "start_time": "2022-02-22T05:26:49.061Z"
   },
   {
    "duration": 69,
    "start_time": "2022-02-22T05:26:49.133Z"
   },
   {
    "duration": 67,
    "start_time": "2022-02-22T05:26:49.204Z"
   },
   {
    "duration": 2589,
    "start_time": "2022-02-22T05:26:50.573Z"
   },
   {
    "duration": 17,
    "start_time": "2022-02-22T05:26:53.164Z"
   },
   {
    "duration": 4,
    "start_time": "2022-02-22T05:26:53.183Z"
   },
   {
    "duration": 8,
    "start_time": "2022-02-22T05:26:53.189Z"
   },
   {
    "duration": 4,
    "start_time": "2022-02-22T05:26:53.199Z"
   },
   {
    "duration": 13,
    "start_time": "2022-02-22T05:26:53.205Z"
   },
   {
    "duration": 35,
    "start_time": "2022-02-22T05:26:55.644Z"
   },
   {
    "duration": 2,
    "start_time": "2022-02-22T05:26:57.814Z"
   },
   {
    "duration": 462,
    "start_time": "2022-02-22T05:26:58.054Z"
   },
   {
    "duration": 13,
    "start_time": "2022-02-22T05:27:18.244Z"
   },
   {
    "duration": 3,
    "start_time": "2022-02-22T05:27:18.755Z"
   },
   {
    "duration": 11,
    "start_time": "2022-02-22T05:27:18.941Z"
   },
   {
    "duration": 3,
    "start_time": "2022-02-22T05:27:19.145Z"
   },
   {
    "duration": 11,
    "start_time": "2022-02-22T05:27:19.355Z"
   },
   {
    "duration": 4,
    "start_time": "2022-02-22T05:27:19.560Z"
   },
   {
    "duration": 11,
    "start_time": "2022-02-22T05:27:19.956Z"
   },
   {
    "duration": 4,
    "start_time": "2022-02-22T05:27:20.139Z"
   }
  ],
  "datalore": {
   "base_environment": "default",
   "computation_mode": "JUPYTER",
   "package_manager": "pip",
   "packages": [],
   "version": 1
  },
  "kernelspec": {
   "display_name": "Python 3 (ipykernel)",
   "language": "python",
   "name": "python3"
  },
  "language_info": {
   "codemirror_mode": {
    "name": "ipython",
    "version": 3
   },
   "file_extension": ".py",
   "mimetype": "text/x-python",
   "name": "python",
   "nbconvert_exporter": "python",
   "pygments_lexer": "ipython3",
   "version": "3.9.5"
  },
  "toc": {
   "base_numbering": 1,
   "nav_menu": {},
   "number_sections": true,
   "sideBar": true,
   "skip_h1_title": true,
   "title_cell": "Table of Contents",
   "title_sidebar": "Contents",
   "toc_cell": false,
   "toc_position": {},
   "toc_section_display": true,
   "toc_window_display": false
  }
 },
 "nbformat": 4,
 "nbformat_minor": 4
}